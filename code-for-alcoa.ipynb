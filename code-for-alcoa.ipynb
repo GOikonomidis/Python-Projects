{
  "nbformat": 4,
  "nbformat_minor": 0,
  "metadata": {
    "colab": {
      "provenance": [],
      "collapsed_sections": [
        "xyw3_snTwQmQ",
        "n2mjEW8pv609",
        "XaQs-4MawwXM"
      ],
      "include_colab_link": true
    },
    "kernelspec": {
      "name": "python3",
      "display_name": "Python 3"
    },
    "language_info": {
      "name": "python"
    },
    "accelerator": "GPU"
  },
  "cells": [
    {
      "cell_type": "markdown",
      "metadata": {
        "id": "view-in-github",
        "colab_type": "text"
      },
      "source": [
        "<a href=\"https://colab.research.google.com/gist/GOikonomidis/e65a6adb0f34ddee9159af71d36727cf/code-for-alcoa.ipynb\" target=\"_parent\"><img src=\"https://colab.research.google.com/assets/colab-badge.svg\" alt=\"Open In Colab\"/></a>"
      ]
    },
    {
      "cell_type": "markdown",
      "source": [
        "IMPORTING LIBRARIES"
      ],
      "metadata": {
        "id": "mqdnrN5jzyT5"
      }
    },
    {
      "cell_type": "code",
      "execution_count": null,
      "metadata": {
        "id": "kk1Q-VuYhHhW"
      },
      "outputs": [],
      "source": [
        "import json\n",
        "import os\n",
        "import csv\n",
        "import numpy as np\n",
        "from numpy import mean\n",
        "import pandas as pd\n",
        "from sklearn import neighbors\n",
        "from sklearn.metrics import mean_squared_error \n",
        "from math import sqrt\n",
        "import matplotlib.pyplot as plt\n",
        "%matplotlib inline\n",
        "import tensorflow as tf\n",
        "from keras.layers import Dropout, LeakyReLU, BatchNormalization\n",
        "from tensorflow.keras.layers import Dense\n",
        "from tensorflow.keras.layers import LSTM\n",
        "from tensorflow.keras.layers import SimpleRNN\n",
        "from tensorflow.keras.layers import GRU\n",
        "from tensorflow.keras.metrics import RootMeanSquaredError, MeanAbsoluteError\n",
        "from tensorflow.keras.models import Sequential\n",
        "from tensorflow.keras.layers import Bidirectional\n",
        "from tensorflow.keras.layers import Flatten\n",
        "from keras.layers.convolutional import Conv1D\n",
        "from keras.layers.convolutional import MaxPooling1D\n",
        "from tensorflow.keras import layers\n",
        "from tensorflow import keras"
      ]
    },
    {
      "cell_type": "markdown",
      "source": [
        "LSTM MODEL"
      ],
      "metadata": {
        "id": "5KFA5Qo9lKoy"
      }
    },
    {
      "cell_type": "code",
      "source": [
        "def get_model_LSTM(params, input_shape):\n",
        "    model = Sequential()\n",
        "    model.add(LSTM(units=params[\"lstm_units\"], return_sequences=True, input_shape=(input_shape, 12)))\n",
        "    model.add(Dropout(rate=params[\"dropout\"]))\n",
        "\n",
        "    model.add(LSTM(units=params[\"lstm_units\"], return_sequences=True))\n",
        "    model.add(Dropout(rate=params[\"dropout\"]))\n",
        "\n",
        "    model.add(LSTM(units=params[\"lstm_units\"], return_sequences=True))\n",
        "    model.add(Dropout(rate=params[\"dropout\"]))\n",
        "\n",
        "    model.add(LSTM(units=params[\"lstm_units\"], return_sequences=False))\n",
        "    model.add(Dropout(rate=params[\"dropout\"]))\n",
        "\n",
        "    model.add(Dense(1))\n",
        "\n",
        "    model.compile(loss=params[\"loss\"],\n",
        "                    optimizer=params[\"optimizer\"],\n",
        "                    metrics=[RootMeanSquaredError(), MeanAbsoluteError()])\n",
        "\n",
        "    return model"
      ],
      "metadata": {
        "id": "2cXTQYisP11p"
      },
      "execution_count": null,
      "outputs": []
    },
    {
      "cell_type": "markdown",
      "source": [
        "GRU MODEL"
      ],
      "metadata": {
        "id": "vmisxxE9lXfJ"
      }
    },
    {
      "cell_type": "code",
      "source": [
        "def get_model_GRU(params, input_shape):\n",
        "    model = tf.keras.Sequential()\n",
        "    model.add(GRU(units=params[\"gru_units\"], return_sequences=True, input_shape=(input_shape, 12)))\n",
        "    model.add(Dropout(rate=params[\"dropout\"]))\n",
        "\n",
        "    model.add(GRU(units=params[\"gru_units\"], return_sequences=True))\n",
        "    model.add(Dropout(rate=params[\"dropout\"]))\n",
        "\n",
        "    model.add(GRU(units=params[\"gru_units\"], return_sequences=True))\n",
        "    model.add(Dropout(rate=params[\"dropout\"]))\n",
        "\n",
        "    model.add(GRU(units=params[\"gru_units\"], return_sequences=False))\n",
        "    model.add(Dropout(rate=params[\"dropout\"]))\n",
        "\n",
        "    model.add(Dense(1))\n",
        "\n",
        "\n",
        "    model.compile(loss=params[\"loss\"],\n",
        "                    optimizer=params[\"optimizer\"],\n",
        "                    metrics=[RootMeanSquaredError(), MeanAbsoluteError()])\n",
        "\n",
        "    return model"
      ],
      "metadata": {
        "id": "0_MAad89Ugyp"
      },
      "execution_count": null,
      "outputs": []
    },
    {
      "cell_type": "code",
      "source": [
        "def get_model_BI_LSTM(params, input_shape):\n",
        "    model = Sequential()\n",
        "    model.add(Bidirectional(LSTM(units=params[\"lstm_units\"], return_sequences=True, input_shape=(input_shape, 12))))\n",
        "    model.add(Dropout(rate=params[\"dropout\"]))\n",
        "\n",
        "    model.add(Bidirectional(LSTM(units=params[\"lstm_units\"], return_sequences=True)))\n",
        "    model.add(Dropout(rate=params[\"dropout\"]))\n",
        "\n",
        "    model.add(Bidirectional(LSTM(units=params[\"lstm_units\"], return_sequences=True)))\n",
        "    model.add(Dropout(rate=params[\"dropout\"]))\n",
        "\n",
        "    model.add(Bidirectional(LSTM(units=params[\"lstm_units\"], return_sequences=False)))\n",
        "    model.add(Dropout(rate=params[\"dropout\"]))\n",
        "\n",
        "    model.add(Dense(1))\n",
        "\n",
        "    model.compile(loss=params[\"loss\"],\n",
        "                    optimizer=params[\"optimizer\"],\n",
        "                    metrics=[RootMeanSquaredError(), MeanAbsoluteError()])\n",
        "\n",
        "    return model"
      ],
      "metadata": {
        "id": "xz0EDQRAUwHb"
      },
      "execution_count": null,
      "outputs": []
    },
    {
      "cell_type": "markdown",
      "source": [
        "PLOTING LOSS AND VAL LOSS "
      ],
      "metadata": {
        "id": "muWmyk5JlaUl"
      }
    },
    {
      "cell_type": "code",
      "source": [
        "def plot_loss(model):\n",
        "  plt.plot(model.history['mean_absolute_error'], label='mean_absolute_error')\n",
        "  plt.plot(model.history['val_mean_absolute_error'], label='val_mean_absolute_error')\n",
        "  plt.ylim([0, 30])\n",
        "  plt.xlabel('Epoch')\n",
        "  plt.ylabel('Error')\n",
        "  plt.legend()\n",
        "  plt.grid(True)"
      ],
      "metadata": {
        "id": "5oM8fKa_xWhH"
      },
      "execution_count": null,
      "outputs": []
    },
    {
      "cell_type": "markdown",
      "source": [
        "MOUNTING DRIVE AND UPLOADING THE JSON DATA AND THE TSV AND MAKING A DICTIONARY BASED ON THEM"
      ],
      "metadata": {
        "id": "945toNQKlhJi"
      }
    },
    {
      "cell_type": "code",
      "source": [
        "from google.colab import drive\n",
        "drive.mount('/content/drive')"
      ],
      "metadata": {
        "colab": {
          "base_uri": "https://localhost:8080/"
        },
        "id": "BL5m0Br2bYBP",
        "outputId": "1241177b-79f7-4e4f-cc4e-439f98a3b766"
      },
      "execution_count": null,
      "outputs": [
        {
          "output_type": "stream",
          "name": "stdout",
          "text": [
            "Mounted at /content/drive\n"
          ]
        }
      ]
    },
    {
      "cell_type": "code",
      "source": [
        "folder = r\"/content/drive/MyDrive/ALCOA/alcoa\" #alcoa json folder\n",
        "\n",
        "data = {}\n",
        "sensoridx = {}\n",
        "\n",
        "with open(r\"/content/drive/MyDrive/ALCOA/DATA-5.2-I1000_new.tsv\") as csvfile:\n",
        "    reader = csv.reader(csvfile, delimiter='\\t')\n",
        "    for r in reader:\n",
        "        if r[3] not in sensoridx.keys():\n",
        "            sensoridx[r[3]]=None\n",
        "\n",
        "del sensoridx[\"TAGNAME\"]\n",
        "print(sensoridx)        \n",
        "\n",
        "with open(r\"/content/drive/MyDrive/ALCOA/DATA-5.2-I1000_new.tsv\") as csvfile:\n",
        "    reader = csv.reader(csvfile, delimiter='\\t')\n",
        "    for r in reader:\n",
        "        s = str(r[0]).zfill(6)\n",
        "        if s not in data.keys():\n",
        "            data[s] = {}\n",
        "            data[s][\"sensors\"] = {}\n",
        "            data[s][\"alcoa\"] = {}\n",
        "        if r[3] not in data [s][\"sensors\"].keys() and r[3] != \"TAGNAME\":\n",
        "            data[s][\"sensors\"][r[3]] = {}\n",
        "            data[s][\"sensors\"][r[3]][\"val\"] = []\n",
        "            data[s][\"sensors\"][r[3]][\"time\"] = []\n",
        "        if r[3] != \"TAGNAME\":    \n",
        "            data[s][\"sensors\"][r[3]][\"val\"].append(r[4])\n",
        "            data[s][\"sensors\"][r[3]][\"time\"].append(r[5])"
      ],
      "metadata": {
        "colab": {
          "base_uri": "https://localhost:8080/"
        },
        "id": "Ia0wqT16XOKq",
        "outputId": "8830a277-7fdf-4502-b8c3-76841b19eee3"
      },
      "execution_count": null,
      "outputs": [
        {
          "output_type": "stream",
          "name": "stdout",
          "text": [
            "{'I1000.VEL_M5-VALORE_ANAL.F_CV': None, 'I1000.TE_02.F_CV': None, 'I1000.FQ101_406.F_CV': None, 'I1000.PR1-VALORE_ANAL.F_CV': None, 'I1000.TE3-VALORE_ANAL.F_CV': None, 'I1000.VEL_M3-VALORE_ANAL.F_CV': None, 'I1000.PR2-VALORE_ANAL.F_CV': None, 'I1000.TE5-VALORE_ANAL.F_CV': None, 'I1000.VEL_M6-VALORE_ANAL.F_CV': None, 'I1000.VEL_M8-VALORE_ANAL.F_CV': None, 'I1000.TE1-VALORE_ANAL.F_CV': None, 'I1000.VEL_M1-VALORE_ANAL.F_CV': None}\n"
          ]
        }
      ]
    },
    {
      "cell_type": "markdown",
      "source": [
        "ORGANIZING OUR DATA IN THE DICTIONARY\n"
      ],
      "metadata": {
        "id": "hFhdcTm5mPb8"
      }
    },
    {
      "cell_type": "code",
      "source": [
        "for batch_id in data.keys():  \n",
        "    for sensor_id in sensoridx.keys():\n",
        "        if sensor_id not in data[batch_id][\"sensors\"].keys():\n",
        "            data[batch_id][\"sensors\"][sensor_id] = {}\n",
        "            for k in data[batch_id][\"sensors\"].keys():\n",
        "                l = len(data[batch_id][\"sensors\"])\n",
        "                data[batch_id][\"sensors\"][sensor_id][\"val\"] = [0]*l\n",
        "                break\n",
        "         \n",
        "\n"
      ],
      "metadata": {
        "id": "wkDY30nZlSm2"
      },
      "execution_count": null,
      "outputs": []
    },
    {
      "cell_type": "code",
      "source": [
        "for batch_id in data.keys():   \n",
        "    \n",
        "    if batch_id == \"ORDER_ID\":\n",
        "        continue\n",
        "    try:\n",
        "        f = open(os.path.join(folder,str(batch_id) + '_rev1_alcoa_output.json'))\n",
        "        json_data = json.load(f)\n",
        "        f.close()\n",
        "        for key in json_data['alcoa'].keys():\n",
        "            if key == 'date':\n",
        "                continue\n",
        "            data[batch_id][\"alcoa\"][key] = json_data['alcoa'][key]['score']\n",
        "    except: \n",
        "        data[batch_id] = None;\n",
        "a = []        \n",
        "for batch_id in data.keys():\n",
        "    if data[batch_id] == None:\n",
        "        a.append(batch_id)\n",
        "        continue\n",
        "    data[batch_id][\"alcoa\"] = list(data[batch_id][\"alcoa\"].values())\n",
        "del data[\"ORDER_ID\"]\n",
        "for k in a:\n",
        "    del data[k]"
      ],
      "metadata": {
        "id": "Dd55oy9kmkq0"
      },
      "execution_count": null,
      "outputs": []
    },
    {
      "cell_type": "markdown",
      "source": [
        "\n",
        "SEARCHING OUR DATA VALUES"
      ],
      "metadata": {
        "id": "lPNe_nkEqz2S"
      }
    },
    {
      "cell_type": "code",
      "source": [
        "data.keys()"
      ],
      "metadata": {
        "colab": {
          "base_uri": "https://localhost:8080/"
        },
        "id": "6nQqndEipRn3",
        "outputId": "f92f1111-efd9-4acb-98e8-01dc6a69aacc"
      },
      "execution_count": null,
      "outputs": [
        {
          "output_type": "execute_result",
          "data": {
            "text/plain": [
              "dict_keys(['031016', '031019', '031018', '932386', '932786', '931713', '031034', '932155', '931291', '031029', '931973', '931527', '833337', '931708', '931532', '932689', '931009', '932391', '932791', '932690', '931010', '031022', '932138', '932151', '931805', '932794', '933361', '031026', '932134', '933360', '931006', '932382', '931970', '932129', '932800', '932389', '931710', '933116', '932152', '932398', '932383', '932168', '932795', '931005', '031030', '932801', '931701', '932688', '931292', '932686', '931528', '932387', '031035', '932390', '932790', '031021', '932684', '931290', '932799', '931702', '932375', '031028', '932797', '933264', '931533', '833334', '932144', '932822', '031025', '933254', '931003', '931526', '932787', '931712', '932154', '931287', '932785', '931700', '932139', '931289', '932142', '932381', '931803', '931294', '931964', '932805', '031037', '933261', '031039', '932132', '932135', '931966', '931705', '932150', '931974', '931007', '933114', '932803', '933358', '932394', '931706', '933260', '931967', '932148', '932802', '031210', '932793', '931004', '931804', '031027', '031024', '933212', '931296', '932393', '932392', '931286', '932796', '933257', '833333', '031036', '031032', '931534', '932783', '932806', '932683', '932136', '932804', '933362', '932807', '932782', '932798', '932784', '932789', '933113', '932823', '932792', '932820', '933262', '931963', '933359', '932380', '932145', '932137', '932141', '931530', '931295', '932687', '931802', '932685', '931971', '931968', '932131', '932169', '931011', '931969', '932388', '932379', '931972', '932130', '931885', '031020', '931293', '931008', '931699', '931297', '931707', '931012', '931531', '931529', '931729', '931285', '931303', '932691', '931002', '833335', '833336'])"
            ]
          },
          "metadata": {},
          "execution_count": 10
        }
      ]
    },
    {
      "cell_type": "code",
      "source": [
        "data[batch_id][\"sensors\"].keys()"
      ],
      "metadata": {
        "colab": {
          "base_uri": "https://localhost:8080/"
        },
        "id": "9_7wBV2ypVu2",
        "outputId": "a0c3f0cf-c33a-4c03-e316-415a8a38bf95"
      },
      "execution_count": null,
      "outputs": [
        {
          "output_type": "execute_result",
          "data": {
            "text/plain": [
              "dict_keys(['I1000.TE5-VALORE_ANAL.F_CV', 'I1000.PR2-VALORE_ANAL.F_CV', 'I1000.VEL_M1-VALORE_ANAL.F_CV', 'I1000.VEL_M6-VALORE_ANAL.F_CV', 'I1000.VEL_M8-VALORE_ANAL.F_CV', 'I1000.TE1-VALORE_ANAL.F_CV', 'I1000.VEL_M5-VALORE_ANAL.F_CV', 'I1000.TE_02.F_CV', 'I1000.FQ101_406.F_CV', 'I1000.PR1-VALORE_ANAL.F_CV', 'I1000.TE3-VALORE_ANAL.F_CV', 'I1000.VEL_M3-VALORE_ANAL.F_CV'])"
            ]
          },
          "metadata": {},
          "execution_count": 11
        }
      ]
    },
    {
      "cell_type": "markdown",
      "source": [
        "MAKING A DIFFERENT DICTIONARY FOR EACH SENSOR"
      ],
      "metadata": {
        "id": "OGlXEEo-rXEU"
      }
    },
    {
      "cell_type": "code",
      "source": [
        "dataTE1 = []\n",
        "dataVELM1 = []\n",
        "dataVELM6 = []\n",
        "dataVELM8 = []\n",
        "dataTE5 = []\n",
        "dataPR2= []\n",
        "dataPR1=[]\n",
        "dataFQ101 = []\n",
        "dataVELM5 = []\n",
        "dataTE02 = []\n",
        "dataTE3 = []\n",
        "dataVELM3 = []\n",
        "\n",
        "for batch_id in data.keys():\n",
        "    dataTE1.append(data[batch_id][\"sensors\"]['I1000.TE1-VALORE_ANAL.F_CV'][\"val\"])\n",
        "\n",
        "for batch_id in data.keys():\n",
        "    dataVELM1.append(data[batch_id][\"sensors\"]['I1000.VEL_M1-VALORE_ANAL.F_CV'][\"val\"])\n",
        "\n",
        "for batch_id in data.keys():\n",
        "    dataVELM6.append(data[batch_id][\"sensors\"]['I1000.VEL_M6-VALORE_ANAL.F_CV'][\"val\"])\n",
        "\n",
        "for batch_id in data.keys():\n",
        "    dataVELM8.append(data[batch_id][\"sensors\"]['I1000.VEL_M8-VALORE_ANAL.F_CV'][\"val\"])\n",
        "\n",
        "for batch_id in data.keys():\n",
        "    dataTE5.append(data[batch_id][\"sensors\"]['I1000.TE5-VALORE_ANAL.F_CV'][\"val\"])\n",
        "\n",
        "for batch_id in data.keys():\n",
        "    dataPR2.append(data[batch_id][\"sensors\"]['I1000.PR2-VALORE_ANAL.F_CV'][\"val\"])\n",
        "    \n",
        "for batch_id in data.keys():\n",
        "    dataVELM5.append(data[batch_id][\"sensors\"]['I1000.VEL_M5-VALORE_ANAL.F_CV'][\"val\"])\n",
        "    \n",
        "for batch_id in data.keys():\n",
        "    dataTE02.append(data[batch_id][\"sensors\"]['I1000.TE_02.F_CV'][\"val\"])\n",
        "    \n",
        "for batch_id in data.keys():\n",
        "    dataFQ101.append(data[batch_id][\"sensors\"]['I1000.FQ101_406.F_CV'][\"val\"])\n",
        "\n",
        "for batch_id in data.keys():\n",
        "    dataPR1.append(data[batch_id][\"sensors\"]['I1000.PR1-VALORE_ANAL.F_CV'][\"val\"])\n",
        "\n",
        "for batch_id in data.keys():\n",
        "    dataTE3.append(data[batch_id][\"sensors\"]['I1000.TE3-VALORE_ANAL.F_CV'][\"val\"])\n",
        "    \n",
        "for batch_id in data.keys():\n",
        "    dataVELM3.append(data[batch_id][\"sensors\"]['I1000.VEL_M3-VALORE_ANAL.F_CV'][\"val\"])\n",
        "     \n",
        "print(len(dataTE1))\n",
        "print(len(dataVELM1))\n",
        "print(type(dataTE1))\n"
      ],
      "metadata": {
        "colab": {
          "base_uri": "https://localhost:8080/"
        },
        "id": "gjJc-PiLphiT",
        "outputId": "49d86a5d-50d4-4d3e-a33d-831c2e80f95c"
      },
      "execution_count": null,
      "outputs": [
        {
          "output_type": "stream",
          "name": "stdout",
          "text": [
            "176\n",
            "176\n",
            "<class 'list'>\n"
          ]
        }
      ]
    },
    {
      "cell_type": "markdown",
      "source": [
        "MAKING OUR DATA FLOAT AND CREATING ARRAYS OF THE SAME SHAPE FILLING MISSING DATA WITH ZEROS"
      ],
      "metadata": {
        "id": "Ehz5DR3Uu2Be"
      }
    },
    {
      "cell_type": "code",
      "source": [
        "a = []\n",
        "b = []\n",
        "c= []\n",
        "d= []\n",
        "e = []\n",
        "f = []\n",
        "g = []\n",
        "h = []\n",
        "j = []\n",
        "v = []\n",
        "z= []\n",
        "q= []\n",
        "\n",
        "from sklearn.preprocessing import MinMaxScaler\n",
        "from sklearn.preprocessing import StandardScaler\n",
        "#sc = MinMaxScaler()\n",
        "sc = StandardScaler()\n",
        "\n",
        "for i in range (len(dataTE1)):\n",
        "    p = dataTE1[i]\n",
        "    for r in range (len(p)):\n",
        "        p[r] = float(p[r])\n",
        "    a.append(p)\n",
        "a = tf.ragged.constant(a)\n",
        "a = a.to_tensor() \n",
        "a = a.numpy() \n",
        "a = sc.fit_transform(a)\n",
        "\n",
        "for i in range (len(dataVELM1)):\n",
        "    p = dataVELM1[i]\n",
        "    for r in range (len(p)):\n",
        "        p[r] = float(p[r])  \n",
        "    b.append(p)\n",
        "b = tf.ragged.constant(b)\n",
        "b = b.to_tensor()\n",
        "b = b.numpy() \n",
        "b = sc.fit_transform(b)\n",
        "\n",
        "for i in range (len(dataVELM6)):\n",
        "    p = dataVELM6[i]\n",
        "    for r in range (len(p)):\n",
        "        p[r] = float(p[r])  \n",
        "    p.extend([0.]*5461)\n",
        "    c.append(p)\n",
        "c = tf.ragged.constant(c)\n",
        "c = c.to_tensor()\n",
        "c= c.numpy() \n",
        "c = sc.fit_transform(c)\n",
        "\n",
        "\n",
        "for i in range (len(dataVELM8)):\n",
        "    p = dataVELM8[i]\n",
        "    for r in range (len(p)):\n",
        "        p[r] = float(p[r])  \n",
        "    p.extend([0.]*5461)\n",
        "    d.append(p)\n",
        "d = tf.ragged.constant(d)\n",
        "d = d.to_tensor()\n",
        "d = d.numpy() \n",
        "d = sc.fit_transform(d)ggg\n",
        "    \n",
        "for i in range (len(dataTE5)):\n",
        "    p = dataTE5[i]\n",
        "    for r in range (len(p)):\n",
        "        p[r] = float(p[r])  \n",
        "    p.extend([0.]*5461)\n",
        "    e.append(p)\n",
        "e = tf.ragged.constant(e)\n",
        "e = e.to_tensor()\n",
        "e = e.numpy() \n",
        "e = sc.fit_transform(e)\n",
        "\n",
        "for i in range (len(dataPR2)):\n",
        "    p = dataPR2[i]\n",
        "    for r in range (len(p)):\n",
        "        p[r] = float(p[r])  \n",
        "    p.extend([0.]*5461)\n",
        "    f.append(p)\n",
        "f = tf.ragged.constant(f)\n",
        "f = f.to_tensor()\n",
        "f = f.numpy() \n",
        "f = sc.fit_transform(f)\n",
        "\n",
        "\n",
        "for i in range (len(dataPR1)):\n",
        "    p = dataPR1[i]\n",
        "    for r in range (len(p)):\n",
        "        p[r] = float(p[r])  \n",
        "    g.append(p)\n",
        "g = tf.ragged.constant(g)\n",
        "g = g.to_tensor()\n",
        "g = g.numpy() \n",
        "g = sc.fit_transform(g)\n",
        "\n",
        "for i in range (len(dataVELM3)):\n",
        "    p = dataVELM3[i]\n",
        "    for r in range (len(p)):\n",
        "        p[r] = float(p[r])  \n",
        "    h.append(p)\n",
        "h = tf.ragged.constant(h)\n",
        "h = h.to_tensor()\n",
        "h = h.numpy()\n",
        "h = sc.fit_transform(h)\n",
        "\n",
        "for i in range (len(dataVELM5)):\n",
        "    p = dataVELM5[i]\n",
        "    for r in range (len(p)):\n",
        "        p[r] = float(p[r])  \n",
        "    j.append(p)\n",
        "j = tf.ragged.constant(j)\n",
        "j = j.to_tensor()\n",
        "j = j.numpy()\n",
        "j = sc.fit_transform(j)\n",
        "\n",
        "for i in range (len(dataTE3)):\n",
        "    p = dataTE3[i]\n",
        "    for r in range (len(p)):\n",
        "        p[r] = float(p[r])  \n",
        "    v.append(p)\n",
        "v = tf.ragged.constant(v)\n",
        "v = v.to_tensor()\n",
        "v = v.numpy()\n",
        "v = sc.fit_transform(v)\n",
        "\n",
        "for i in range (len(dataTE02)):\n",
        "    p = dataTE3[i]\n",
        "    for r in range (len(p)):\n",
        "        p[r] = float(p[r])  \n",
        "    z.append(p)\n",
        "z = tf.ragged.constant(z)\n",
        "z = z.to_tensor()\n",
        "z = z.numpy()\n",
        "z = sc.fit_transform(z)\n",
        "\n",
        "for i in range (len(dataFQ101)):\n",
        "    p = dataTE3[i]\n",
        "    for r in range (len(p)):\n",
        "        p[r] = float(p[r])  \n",
        "    q.append(p)\n",
        "q = tf.ragged.constant(q)\n",
        "q = q.to_tensor()\n",
        "q = q.numpy()\n",
        "q = sc.fit_transform(q)"
      ],
      "metadata": {
        "id": "-j_8tWG2poLx"
      },
      "execution_count": null,
      "outputs": []
    },
    {
      "cell_type": "code",
      "source": [
        "print (e)"
      ],
      "metadata": {
        "colab": {
          "base_uri": "https://localhost:8080/"
        },
        "id": "GmvQ9WEP1my1",
        "outputId": "cbabe044-db4e-4d0d-af28-f968fe143b8a"
      },
      "execution_count": null,
      "outputs": [
        {
          "output_type": "stream",
          "name": "stdout",
          "text": [
            "[[-0.90663445 -0.9061092  -0.905829   ...  0.          0.\n",
            "   0.        ]\n",
            " [-0.90663445 -0.9061092  -0.905829   ...  0.          0.\n",
            "   0.        ]\n",
            " [ 0.76603514  0.7710537   0.7764303  ...  0.          0.\n",
            "   0.        ]\n",
            " ...\n",
            " [-0.90663445 -0.9061092  -0.905829   ...  0.          0.\n",
            "   0.        ]\n",
            " [-0.90663445 -0.9061092  -0.905829   ...  0.          0.\n",
            "   0.        ]\n",
            " [ 0.77086914  0.7710537   0.7764303  ...  0.          0.\n",
            "   0.        ]]\n"
          ]
        }
      ]
    },
    {
      "cell_type": "code",
      "source": [
        "print(a.shape)\n",
        "print(b.shape)\n",
        "print(c.shape)\n",
        "print(d.shape)\n",
        "print(e.shape)\n",
        "print(f.shape)\n",
        "print(g.shape)\n",
        "print(h.shape)\n",
        "print(j.shape)\n",
        "print(v.shape)\n",
        "print(z.shape)\n",
        "print(q.shape)"
      ],
      "metadata": {
        "colab": {
          "base_uri": "https://localhost:8080/"
        },
        "id": "1KyED7p6pvMQ",
        "outputId": "b259f9c8-7b35-43b1-e117-a6bdd93b7bd3"
      },
      "execution_count": null,
      "outputs": [
        {
          "output_type": "stream",
          "name": "stdout",
          "text": [
            "(176, 6600)\n",
            "(176, 6600)\n",
            "(176, 6600)\n",
            "(176, 6600)\n",
            "(176, 6600)\n",
            "(176, 6600)\n",
            "(176, 6600)\n",
            "(176, 6600)\n",
            "(176, 6600)\n",
            "(176, 6600)\n",
            "(176, 6600)\n",
            "(176, 6600)\n"
          ]
        }
      ]
    },
    {
      "cell_type": "markdown",
      "source": [
        "CREATING ARAYS FROM OUR ALCOA "
      ],
      "metadata": {
        "id": "CjXKlaNnvBbG"
      }
    },
    {
      "cell_type": "code",
      "source": [
        "yAttributable= []\n",
        "yLegible = []\n",
        "yContemporaneous= []\n",
        "yOriginal = []\n",
        "yAccurate= []\n",
        "yComplete = []\n",
        "yConsistent = []\n",
        "yAvailable = []\n",
        "yEnduring = []\n",
        "\n",
        "for batch_id in data.keys():\n",
        "    yAttributable.append(data[batch_id][\"alcoa\"][0])\n",
        "yAttributable = tf.convert_to_tensor(yAttributable, dtype=tf.float32)\n",
        "yAttributable = yAttributable.numpy()\n",
        "\n",
        "for batch_id in data.keys():\n",
        "    yLegible.append(data[batch_id][\"alcoa\"][1])\n",
        "yLegible = tf.convert_to_tensor(yLegible, dtype=tf.float32)\n",
        "yLegible = yLegible.numpy()\n",
        "    \n",
        "for batch_id in data.keys():\n",
        "    yContemporaneous.append(data[batch_id][\"alcoa\"][2])\n",
        "yContemporaneous = tf.convert_to_tensor(yContemporaneous, dtype=tf.float32)\n",
        "yContemporaneous = yContemporaneous.numpy()    \n",
        "+\n",
        "for batch_id in data.keys():\n",
        "    yOriginal.append(data[batch_id][\"alcoa\"][3])\n",
        "yOriginal = tf.convert_to_tensor(yOriginal, dtype=tf.float32)\n",
        "yOriginal = yOriginal.numpy()    \n",
        "\n",
        "for batch_id in data.keys():\n",
        "    yAccurate.append(data[batch_id][\"alcoa\"][4]) \n",
        "yAccurate = tf.convert_to_tensor(yAccurate, dtype=tf.float32)\n",
        "yAccurate = yAccurate.numpy()    \n",
        "\n",
        "for batch_id in data.keys():\n",
        "    yComplete.append(data[batch_id][\"alcoa\"][5]) \n",
        "yComplete = tf.convert_to_tensor(yComplete, dtype=tf.float32)\n",
        "yComplete = yComplete.numpy()  \n",
        "\n",
        "for batch_id in data.keys():\n",
        "    yConsistent.append(data[batch_id][\"alcoa\"][6]) \n",
        "yConsistent = tf.convert_to_tensor(yConsistent, dtype=tf.float32)\n",
        "yConsistent = yConsistent.numpy()    \n",
        "\n",
        "for batch_id in data.keys():\n",
        "    yAvailable.append(data[batch_id][\"alcoa\"][7]) \n",
        "yAvailable = tf.convert_to_tensor(yAvailable, dtype=tf.float32)\n",
        "yAvailable = yAvailable.numpy()    \n",
        "\n",
        "for batch_id in data.keys():\n",
        "    yEnduring.append(data[batch_id][\"alcoa\"][8]) \n",
        "yEnduring = tf.convert_to_tensor(yEnduring, dtype=tf.float32)\n",
        "yEnduring = yEnduring.numpy()    \n",
        "\n",
        "print(len(yAttributable))\n",
        "print(yAccurate)"
      ],
      "metadata": {
        "colab": {
          "base_uri": "https://localhost:8080/"
        },
        "id": "Unaeqb1ypw0k",
        "outputId": "3ca8e677-5970-4ba7-eda9-5e54c23f511d"
      },
      "execution_count": null,
      "outputs": [
        {
          "output_type": "stream",
          "name": "stdout",
          "text": [
            "176\n",
            "[39. 32. 36. 38. 34. 25. 38. 36. 40. 39. 39. 37. 30. 39. 40. 40. 40. 36.\n",
            " 39. 36. 41. 33. 39. 38. 38. 35. 36. 38. 34. 36. 50. 37. 39. 34. 36. 36.\n",
            " 36. 38. 42. 38. 40. 39. 35. 50. 35. 50. 40. 36. 38.  0. 36. 36. 38. 36.\n",
            " 42. 38. 39. 36. 35. 36. 35. 39. 35. 35. 39. 38. 38. 36. 42. 34. 50. 38.\n",
            " 36. 33. 36. 33. 40. 38.  0. 37. 32. 38. 36. 36. 36. 37. 38. 35. 36. 38.\n",
            " 36. 34. 35. 38. 39. 50. 40. 38. 38. 36. 36. 38. 36. 39. 50. 38. 37. 50.\n",
            " 36. 36. 40. 38. 36. 36. 36. 50. 33. 35. 34. 40. 37. 39. 50. 42. 36. 34.\n",
            " 35. 38. 38. 39. 38.  0. 38. 35. 39. 38. 41. 38. 33. 35. 35. 36. 38. 36.\n",
            " 36. 40. 36. 35. 38. 39. 38. 36. 33. 50. 41. 36. 39. 37. 40. 38. 36. 38.\n",
            " 50. 33. 36. 36. 30. 38. 37. 36. 36. 50. 38. 50. 37. 36.]\n"
          ]
        }
      ]
    },
    {
      "cell_type": "markdown",
      "source": [
        "CREATING X AND Y DATA "
      ],
      "metadata": {
        "id": "tPXOE4HYvJxC"
      }
    },
    {
      "cell_type": "code",
      "source": [
        "d = np.dstack((a,b,c,d,e,f,g,h,j,v,q,z))\n",
        "c =  yLegible"
      ],
      "metadata": {
        "id": "hiwRpt_Qp1Jb"
      },
      "execution_count": null,
      "outputs": []
    },
    {
      "cell_type": "code",
      "source": [
        "print(d.shape)"
      ],
      "metadata": {
        "colab": {
          "base_uri": "https://localhost:8080/"
        },
        "id": "vO8RBBeUp4hm",
        "outputId": "dadb4638-ed00-45f3-fec6-1fa67e2afeb5"
      },
      "execution_count": null,
      "outputs": [
        {
          "output_type": "stream",
          "name": "stdout",
          "text": [
            "(176, 6600, 12)\n"
          ]
        }
      ]
    },
    {
      "cell_type": "code",
      "source": [
        "d[25,4,10]"
      ],
      "metadata": {
        "colab": {
          "base_uri": "https://localhost:8080/"
        },
        "id": "ZISBiJ_zp78R",
        "outputId": "ea0ce135-fad0-49ae-8d43-eaab0fbaa0ad"
      },
      "execution_count": null,
      "outputs": [
        {
          "output_type": "execute_result",
          "data": {
            "text/plain": [
              "0.683467"
            ]
          },
          "metadata": {},
          "execution_count": 19
        }
      ]
    },
    {
      "cell_type": "markdown",
      "source": [
        "## LEGIBLE\n",
        "\n"
      ],
      "metadata": {
        "id": "xyw3_snTwQmQ"
      }
    },
    {
      "cell_type": "markdown",
      "source": [
        "SPLITTING THE DATA"
      ],
      "metadata": {
        "id": "TRVJV65Iz1as"
      }
    },
    {
      "cell_type": "code",
      "source": [
        "from sklearn.model_selection import train_test_split\n",
        "\n",
        "X = d\n",
        "y=  c\n",
        "\n",
        "X_train, X_test, y_train, y_test = train_test_split(X, y, test_size=0.17, random_state=42)"
      ],
      "metadata": {
        "id": "piVNC8i6p_bA"
      },
      "execution_count": null,
      "outputs": []
    },
    {
      "cell_type": "code",
      "source": [
        "from sklearn.model_selection import train_test_split\n",
        "\n",
        "X = X_test\n",
        "y=  y_test\n",
        "\n",
        "X_val, X_test, y_val, y_test = train_test_split(X, y, test_size=0.5, random_state=42)"
      ],
      "metadata": {
        "id": "g2gHWTE_9wA-"
      },
      "execution_count": null,
      "outputs": []
    },
    {
      "cell_type": "code",
      "source": [
        "X_train.shape"
      ],
      "metadata": {
        "colab": {
          "base_uri": "https://localhost:8080/"
        },
        "id": "uzigl1UKqL9a",
        "outputId": "fd2e9df0-c69f-4ced-e735-218a85d2a0e2"
      },
      "execution_count": null,
      "outputs": [
        {
          "output_type": "execute_result",
          "data": {
            "text/plain": [
              "(146, 6600, 12)"
            ]
          },
          "metadata": {},
          "execution_count": 22
        }
      ]
    },
    {
      "cell_type": "code",
      "source": [
        "X_test.shape"
      ],
      "metadata": {
        "colab": {
          "base_uri": "https://localhost:8080/"
        },
        "id": "IiUnzeuJnakC",
        "outputId": "a286a742-ec26-445d-a07d-33b9b68e3bb0"
      },
      "execution_count": null,
      "outputs": [
        {
          "output_type": "execute_result",
          "data": {
            "text/plain": [
              "(15, 6600, 12)"
            ]
          },
          "metadata": {},
          "execution_count": 23
        }
      ]
    },
    {
      "cell_type": "markdown",
      "source": [
        "BI_LSTM"
      ],
      "metadata": {
        "id": "9bKUwti_WAsL"
      }
    },
    {
      "cell_type": "code",
      "source": [
        "params = {\n",
        "    \"loss\": \"mean_squared_error\",\n",
        "    \"optimizer\": \"adam\",\n",
        "    \"dropout\": 0.2,\n",
        "    \"learning rate\": 1e-3, \n",
        "    \"lstm_units\": 100,\n",
        "    \"epochs\": 2,\n",
        "    \"batch_size\": 8,\n",
        "    \"es_patience\" : 0.2\n",
        "}\n",
        "\n",
        "model = get_model_BI_LSTM(params=params, input_shape=X_train.shape[1])\n",
        "\n",
        "es_callback = tf.keras.callbacks.EarlyStopping(monitor='val_root_mean_squared_error',\n",
        "                                           \tmode='min', \n",
        "patience=params[\"es_patience\"])\n",
        "\n",
        "model = model = model.fit(\n",
        "    X_train,\n",
        "    y_train,\n",
        "    validation_data=(X_test, y_test),\n",
        "    epochs=params[\"epochs\"],\n",
        "    batch_size=params[\"batch_size\"],\n",
        "    verbose=1\n",
        ")"
      ],
      "metadata": {
        "id": "xJYQh3oNVHpY",
        "colab": {
          "base_uri": "https://localhost:8080/"
        },
        "outputId": "c6147186-a14c-477d-df16-596095bbdb50"
      },
      "execution_count": null,
      "outputs": [
        {
          "output_type": "stream",
          "name": "stdout",
          "text": [
            "Epoch 1/2\n",
            "19/19 [==============================] - 153s 6s/step - loss: 5623.1494 - root_mean_squared_error: 74.9877 - mean_absolute_error: 74.7113 - val_loss: 4205.2837 - val_root_mean_squared_error: 64.8482 - val_mean_absolute_error: 64.7561\n",
            "Epoch 2/2\n",
            "19/19 [==============================] - 110s 6s/step - loss: 4025.4705 - root_mean_squared_error: 63.4466 - mean_absolute_error: 63.3215 - val_loss: 3487.7097 - val_root_mean_squared_error: 59.0568 - val_mean_absolute_error: 58.9557\n"
          ]
        }
      ]
    },
    {
      "cell_type": "code",
      "source": [
        "o = model.predict(X_val)"
      ],
      "metadata": {
        "id": "ClhPdMQM-yhR"
      },
      "execution_count": null,
      "outputs": []
    },
    {
      "cell_type": "markdown",
      "source": [
        "PLOTTING BI_LSTM"
      ],
      "metadata": {
        "id": "U5sFLjp3WE2o"
      }
    },
    {
      "cell_type": "code",
      "source": [
        "plot_loss(model)"
      ],
      "metadata": {
        "colab": {
          "base_uri": "https://localhost:8080/",
          "height": 283
        },
        "id": "sKNj1YioWJmy",
        "outputId": "885e4805-6704-4b3a-ce6d-b10c9d5d5ec0"
      },
      "execution_count": null,
      "outputs": [
        {
          "output_type": "display_data",
          "data": {
            "text/plain": [
              "<Figure size 432x288 with 1 Axes>"
            ],
            "image/png": "[encoded data removed]"
          },
          "metadata": {
            "needs_background": "light"
          }
        }
      ]
    },
    {
      "cell_type": "markdown",
      "source": [
        "\n",
        "\n",
        "**GRU**"
      ],
      "metadata": {
        "id": "LGaactoUvbLk"
      }
    },
    {
      "cell_type": "code",
      "source": [
        "params = {\n",
        "   \"loss\": \"mean_squared_error\",\n",
        "    \"optimizer\": \"adam\",\n",
        "    \"dropout\": 0.2,\n",
        "    \"learning rate\": 1e-4, #Adding Learning Rate\n",
        "    \"gru_units\": 100,\n",
        "    \"epochs\": 100,\n",
        "    \"batch_size\": 8,\n",
        "    \"es_patience\" : 0.2\n",
        "}\n",
        "\n",
        "model = get_model_GRU(params=params, input_shape=X_train.shape[1])\n",
        "\n",
        "es_callback = tf.keras.callbacks.EarlyStopping(monitor='val_root_mean_squared_error',\n",
        "                                           \tmode='min', \n",
        "patience=params[\"es_patience\"])\n",
        "\n",
        "model = model.fit(\n",
        "    X_train,\n",
        "    y_train,\n",
        "    validation_data=(X_test, y_test),\n",
        "    epochs=params[\"epochs\"],\n",
        "    batch_size=params[\"batch_size\"],\n",
        "    verbose=1\n",
        ")"
      ],
      "metadata": {
        "colab": {
          "base_uri": "https://localhost:8080/"
        },
        "id": "Onggv3H_OhG7",
        "outputId": "34764aa1-0cd4-407e-b293-aa22b4dd6ca9"
      },
      "execution_count": null,
      "outputs": [
        {
          "output_type": "stream",
          "name": "stdout",
          "text": [
            "Epoch 1/100\n",
            "19/19 [==============================] - 29s 1s/step - loss: 5914.5874 - root_mean_squared_error: 76.9063 - mean_absolute_error: 76.6468 - val_loss: 4818.8604 - val_root_mean_squared_error: 69.4180 - val_mean_absolute_error: 69.3010\n",
            "Epoch 2/100\n",
            "19/19 [==============================] - 21s 1s/step - loss: 4738.5547 - root_mean_squared_error: 68.8372 - mean_absolute_error: 68.7206 - val_loss: 4485.3340 - val_root_mean_squared_error: 66.9726 - val_mean_absolute_error: 66.8562\n",
            "Epoch 3/100\n",
            "19/19 [==============================] - 21s 1s/step - loss: 4449.2651 - root_mean_squared_error: 66.7028 - mean_absolute_error: 66.5744 - val_loss: 4209.3027 - val_root_mean_squared_error: 64.8791 - val_mean_absolute_error: 64.7589\n",
            "Epoch 4/100\n",
            "19/19 [==============================] - 21s 1s/step - loss: 4196.6401 - root_mean_squared_error: 64.7815 - mean_absolute_error: 64.6450 - val_loss: 3954.4192 - val_root_mean_squared_error: 62.8842 - val_mean_absolute_error: 62.7602\n",
            "Epoch 5/100\n",
            "19/19 [==============================] - 20s 1s/step - loss: 3944.8035 - root_mean_squared_error: 62.8077 - mean_absolute_error: 62.6653 - val_loss: 3717.1292 - val_root_mean_squared_error: 60.9683 - val_mean_absolute_error: 60.8403\n",
            "Epoch 6/100\n",
            "19/19 [==============================] - 20s 1s/step - loss: 3691.2786 - root_mean_squared_error: 60.7559 - mean_absolute_error: 60.6169 - val_loss: 3492.8274 - val_root_mean_squared_error: 59.1001 - val_mean_absolute_error: 58.9682\n",
            "Epoch 7/100\n",
            "19/19 [==============================] - 21s 1s/step - loss: 3469.4912 - root_mean_squared_error: 58.9024 - mean_absolute_error: 58.7528 - val_loss: 3281.3677 - val_root_mean_squared_error: 57.2832 - val_mean_absolute_error: 57.1471\n",
            "Epoch 8/100\n",
            "19/19 [==============================] - 21s 1s/step - loss: 3268.7329 - root_mean_squared_error: 57.1728 - mean_absolute_error: 57.0180 - val_loss: 3079.9641 - val_root_mean_squared_error: 55.4974 - val_mean_absolute_error: 55.3569\n",
            "Epoch 9/100\n",
            "19/19 [==============================] - 20s 1s/step - loss: 3080.9280 - root_mean_squared_error: 55.5061 - mean_absolute_error: 55.3532 - val_loss: 2890.1812 - val_root_mean_squared_error: 53.7604 - val_mean_absolute_error: 53.6153\n",
            "Epoch 10/100\n",
            "19/19 [==============================] - 20s 1s/step - loss: 2892.5408 - root_mean_squared_error: 53.7823 - mean_absolute_error: 53.6189 - val_loss: 2709.6296 - val_root_mean_squared_error: 52.0541 - val_mean_absolute_error: 51.9042\n",
            "Epoch 11/100\n",
            "19/19 [==============================] - 21s 1s/step - loss: 2710.1484 - root_mean_squared_error: 52.0591 - mean_absolute_error: 51.8863 - val_loss: 2538.2822 - val_root_mean_squared_error: 50.3814 - val_mean_absolute_error: 50.2265\n",
            "Epoch 12/100\n",
            "19/19 [==============================] - 20s 1s/step - loss: 2555.3303 - root_mean_squared_error: 50.5503 - mean_absolute_error: 50.3751 - val_loss: 2375.5627 - val_root_mean_squared_error: 48.7397 - val_mean_absolute_error: 48.5796\n",
            "Epoch 13/100\n",
            "19/19 [==============================] - 21s 1s/step - loss: 2405.3220 - root_mean_squared_error: 49.0441 - mean_absolute_error: 48.8539 - val_loss: 2221.7886 - val_root_mean_squared_error: 47.1359 - val_mean_absolute_error: 46.9703\n",
            "Epoch 14/100\n",
            "19/19 [==============================] - 21s 1s/step - loss: 2219.2109 - root_mean_squared_error: 47.1085 - mean_absolute_error: 46.8948 - val_loss: 2075.5835 - val_root_mean_squared_error: 45.5586 - val_mean_absolute_error: 45.3872\n",
            "Epoch 15/100\n",
            "19/19 [==============================] - 21s 1s/step - loss: 2098.9160 - root_mean_squared_error: 45.8139 - mean_absolute_error: 45.5902 - val_loss: 1938.5190 - val_root_mean_squared_error: 44.0286 - val_mean_absolute_error: 43.8513\n",
            "Epoch 16/100\n",
            "19/19 [==============================] - 21s 1s/step - loss: 1973.3807 - root_mean_squared_error: 44.4227 - mean_absolute_error: 44.2117 - val_loss: 1807.2344 - val_root_mean_squared_error: 42.5116 - val_mean_absolute_error: 42.3279\n",
            "Epoch 17/100\n",
            "19/19 [==============================] - 21s 1s/step - loss: 1832.9989 - root_mean_squared_error: 42.8135 - mean_absolute_error: 42.5774 - val_loss: 1683.7664 - val_root_mean_squared_error: 41.0337 - val_mean_absolute_error: 40.8434\n",
            "Epoch 18/100\n",
            "19/19 [==============================] - 20s 1s/step - loss: 1713.0916 - root_mean_squared_error: 41.3895 - mean_absolute_error: 41.1262 - val_loss: 1567.3180 - val_root_mean_squared_error: 39.5894 - val_mean_absolute_error: 39.3921\n",
            "Epoch 19/100\n",
            "19/19 [==============================] - 21s 1s/step - loss: 1591.5170 - root_mean_squared_error: 39.8938 - mean_absolute_error: 39.6683 - val_loss: 1457.3240 - val_root_mean_squared_error: 38.1749 - val_mean_absolute_error: 37.9703\n",
            "Epoch 20/100\n",
            "19/19 [==============================] - 21s 1s/step - loss: 1472.9293 - root_mean_squared_error: 38.3788 - mean_absolute_error: 38.1475 - val_loss: 1353.8417 - val_root_mean_squared_error: 36.7946 - val_mean_absolute_error: 36.5822\n",
            "Epoch 21/100\n",
            "19/19 [==============================] - 21s 1s/step - loss: 1388.7314 - root_mean_squared_error: 37.2657 - mean_absolute_error: 36.9409 - val_loss: 1256.1309 - val_root_mean_squared_error: 35.4419 - val_mean_absolute_error: 35.2214\n",
            "Epoch 22/100\n",
            "19/19 [==============================] - 20s 1s/step - loss: 1266.3163 - root_mean_squared_error: 35.5853 - mean_absolute_error: 35.2981 - val_loss: 1163.9689 - val_root_mean_squared_error: 34.1170 - val_mean_absolute_error: 33.8879\n",
            "Epoch 23/100\n",
            "19/19 [==============================] - 21s 1s/step - loss: 1182.8784 - root_mean_squared_error: 34.3930 - mean_absolute_error: 34.0881 - val_loss: 1077.2037 - val_root_mean_squared_error: 32.8208 - val_mean_absolute_error: 32.5825\n",
            "Epoch 24/100\n",
            "19/19 [==============================] - 20s 1s/step - loss: 1090.3336 - root_mean_squared_error: 33.0202 - mean_absolute_error: 32.6515 - val_loss: 996.0325 - val_root_mean_squared_error: 31.5600 - val_mean_absolute_error: 31.3121\n",
            "Epoch 25/100\n",
            "19/19 [==============================] - 21s 1s/step - loss: 1004.6830 - root_mean_squared_error: 31.6967 - mean_absolute_error: 31.3361 - val_loss: 920.0074 - val_root_mean_squared_error: 30.3316 - val_mean_absolute_error: 30.0737\n",
            "Epoch 26/100\n",
            "19/19 [==============================] - 21s 1s/step - loss: 934.6254 - root_mean_squared_error: 30.5716 - mean_absolute_error: 30.2079 - val_loss: 848.7699 - val_root_mean_squared_error: 29.1337 - val_mean_absolute_error: 28.8650\n",
            "Epoch 27/100\n",
            "19/19 [==============================] - 21s 1s/step - loss: 885.8967 - root_mean_squared_error: 29.7640 - mean_absolute_error: 29.3281 - val_loss: 781.7520 - val_root_mean_squared_error: 27.9598 - val_mean_absolute_error: 27.6798\n",
            "Epoch 28/100\n",
            "19/19 [==============================] - 21s 1s/step - loss: 816.3507 - root_mean_squared_error: 28.5719 - mean_absolute_error: 28.1678 - val_loss: 719.3246 - val_root_mean_squared_error: 26.8202 - val_mean_absolute_error: 26.5281\n",
            "Epoch 29/100\n",
            "19/19 [==============================] - 21s 1s/step - loss: 728.1011 - root_mean_squared_error: 26.9833 - mean_absolute_error: 26.5656 - val_loss: 661.6189 - val_root_mean_squared_error: 25.7220 - val_mean_absolute_error: 25.4172\n",
            "Epoch 30/100\n",
            "19/19 [==============================] - 21s 1s/step - loss: 682.9694 - root_mean_squared_error: 26.1337 - mean_absolute_error: 25.6763 - val_loss: 607.2433 - val_root_mean_squared_error: 24.6423 - val_mean_absolute_error: 24.3241\n",
            "Epoch 31/100\n",
            "19/19 [==============================] - 21s 1s/step - loss: 630.6677 - root_mean_squared_error: 25.1131 - mean_absolute_error: 24.6415 - val_loss: 557.6605 - val_root_mean_squared_error: 23.6148 - val_mean_absolute_error: 23.2826\n",
            "Epoch 32/100\n",
            "19/19 [==============================] - 21s 1s/step - loss: 594.1173 - root_mean_squared_error: 24.3745 - mean_absolute_error: 23.8618 - val_loss: 510.0534 - val_root_mean_squared_error: 22.5844 - val_mean_absolute_error: 22.2367\n",
            "Epoch 33/100\n",
            "19/19 [==============================] - 20s 1s/step - loss: 514.0822 - root_mean_squared_error: 22.6734 - mean_absolute_error: 22.2193 - val_loss: 466.2496 - val_root_mean_squared_error: 21.5928 - val_mean_absolute_error: 21.2289\n",
            "Epoch 34/100\n",
            "19/19 [==============================] - 20s 1s/step - loss: 511.0762 - root_mean_squared_error: 22.6070 - mean_absolute_error: 22.0823 - val_loss: 425.9641 - val_root_mean_squared_error: 20.6389 - val_mean_absolute_error: 20.2579\n",
            "Epoch 35/100\n",
            "19/19 [==============================] - 21s 1s/step - loss: 453.6326 - root_mean_squared_error: 21.2987 - mean_absolute_error: 20.6772 - val_loss: 388.7029 - val_root_mean_squared_error: 19.7155 - val_mean_absolute_error: 19.3163\n",
            "Epoch 36/100\n",
            "19/19 [==============================] - 21s 1s/step - loss: 400.7361 - root_mean_squared_error: 20.0184 - mean_absolute_error: 19.3364 - val_loss: 354.5259 - val_root_mean_squared_error: 18.8289 - val_mean_absolute_error: 18.4104\n",
            "Epoch 37/100\n",
            "19/19 [==============================] - 21s 1s/step - loss: 385.8276 - root_mean_squared_error: 19.6425 - mean_absolute_error: 18.9872 - val_loss: 322.4111 - val_root_mean_squared_error: 17.9558 - val_mean_absolute_error: 17.5165\n",
            "Epoch 38/100\n",
            "19/19 [==============================] - 20s 1s/step - loss: 354.7979 - root_mean_squared_error: 18.8361 - mean_absolute_error: 18.0633 - val_loss: 293.3380 - val_root_mean_squared_error: 17.1271 - val_mean_absolute_error: 16.6660\n",
            "Epoch 39/100\n",
            "19/19 [==============================] - 21s 1s/step - loss: 318.1933 - root_mean_squared_error: 17.8380 - mean_absolute_error: 17.0155 - val_loss: 266.0536 - val_root_mean_squared_error: 16.3111 - val_mean_absolute_error: 15.8263\n",
            "Epoch 40/100\n",
            "19/19 [==============================] - 21s 1s/step - loss: 284.6839 - root_mean_squared_error: 16.8726 - mean_absolute_error: 16.1204 - val_loss: 241.4886 - val_root_mean_squared_error: 15.5399 - val_mean_absolute_error: 15.0302\n",
            "Epoch 41/100\n",
            "19/19 [==============================] - 21s 1s/step - loss: 277.0644 - root_mean_squared_error: 16.6453 - mean_absolute_error: 15.6757 - val_loss: 218.4366 - val_root_mean_squared_error: 14.7796 - val_mean_absolute_error: 14.2427\n",
            "Epoch 42/100\n",
            "19/19 [==============================] - 21s 1s/step - loss: 233.7213 - root_mean_squared_error: 15.2879 - mean_absolute_error: 14.3511 - val_loss: 198.3832 - val_root_mean_squared_error: 14.0849 - val_mean_absolute_error: 13.5204\n",
            "Epoch 43/100\n",
            "19/19 [==============================] - 21s 1s/step - loss: 222.7778 - root_mean_squared_error: 14.9257 - mean_absolute_error: 13.9230 - val_loss: 179.3268 - val_root_mean_squared_error: 13.3913 - val_mean_absolute_error: 12.7963\n",
            "Epoch 44/100\n",
            "19/19 [==============================] - 21s 1s/step - loss: 202.4570 - root_mean_squared_error: 14.2287 - mean_absolute_error: 13.2044 - val_loss: 162.4931 - val_root_mean_squared_error: 12.7473 - val_mean_absolute_error: 12.1207\n",
            "Epoch 45/100\n",
            "19/19 [==============================] - 21s 1s/step - loss: 178.3852 - root_mean_squared_error: 13.3561 - mean_absolute_error: 12.4426 - val_loss: 147.1880 - val_root_mean_squared_error: 12.1321 - val_mean_absolute_error: 11.4720\n",
            "Epoch 46/100\n",
            "19/19 [==============================] - 21s 1s/step - loss: 171.9040 - root_mean_squared_error: 13.1112 - mean_absolute_error: 11.8060 - val_loss: 132.9292 - val_root_mean_squared_error: 11.5295 - val_mean_absolute_error: 10.8327\n",
            "Epoch 47/100\n",
            "19/19 [==============================] - 21s 1s/step - loss: 149.1440 - root_mean_squared_error: 12.2125 - mean_absolute_error: 10.9873 - val_loss: 120.0035 - val_root_mean_squared_error: 10.9546 - val_mean_absolute_error: 10.2187\n",
            "Epoch 48/100\n",
            "19/19 [==============================] - 21s 1s/step - loss: 139.5065 - root_mean_squared_error: 11.8113 - mean_absolute_error: 10.5616 - val_loss: 108.4767 - val_root_mean_squared_error: 10.4152 - val_mean_absolute_error: 9.6382\n",
            "Epoch 49/100\n",
            "19/19 [==============================] - 21s 1s/step - loss: 124.4942 - root_mean_squared_error: 11.1577 - mean_absolute_error: 9.8452 - val_loss: 98.2638 - val_root_mean_squared_error: 9.9128 - val_mean_absolute_error: 9.0929\n",
            "Epoch 50/100\n",
            "19/19 [==============================] - 21s 1s/step - loss: 127.2367 - root_mean_squared_error: 11.2799 - mean_absolute_error: 9.7820 - val_loss: 88.4464 - val_root_mean_squared_error: 9.4046 - val_mean_absolute_error: 8.5361\n",
            "Epoch 51/100\n",
            "19/19 [==============================] - 21s 1s/step - loss: 108.7725 - root_mean_squared_error: 10.4294 - mean_absolute_error: 9.0578 - val_loss: 80.1296 - val_root_mean_squared_error: 8.9515 - val_mean_absolute_error: 8.0341\n",
            "Epoch 52/100\n",
            "19/19 [==============================] - 21s 1s/step - loss: 107.1891 - root_mean_squared_error: 10.3532 - mean_absolute_error: 8.9213 - val_loss: 72.2030 - val_root_mean_squared_error: 8.4972 - val_mean_absolute_error: 7.5247\n",
            "Epoch 53/100\n",
            "19/19 [==============================] - 21s 1s/step - loss: 94.7343 - root_mean_squared_error: 9.7332 - mean_absolute_error: 8.3297 - val_loss: 65.2530 - val_root_mean_squared_error: 8.0779 - val_mean_absolute_error: 7.0757\n",
            "Epoch 54/100\n",
            "19/19 [==============================] - 21s 1s/step - loss: 80.2270 - root_mean_squared_error: 8.9570 - mean_absolute_error: 7.3638 - val_loss: 59.7820 - val_root_mean_squared_error: 7.7319 - val_mean_absolute_error: 6.7029\n",
            "Epoch 55/100\n",
            "19/19 [==============================] - 21s 1s/step - loss: 80.6731 - root_mean_squared_error: 8.9818 - mean_absolute_error: 7.5259 - val_loss: 54.3234 - val_root_mean_squared_error: 7.3704 - val_mean_absolute_error: 6.3232\n",
            "Epoch 56/100\n",
            "19/19 [==============================] - 21s 1s/step - loss: 86.6173 - root_mean_squared_error: 9.3068 - mean_absolute_error: 7.9886 - val_loss: 49.2726 - val_root_mean_squared_error: 7.0194 - val_mean_absolute_error: 5.9593\n",
            "Epoch 57/100\n",
            "19/19 [==============================] - 21s 1s/step - loss: 76.4593 - root_mean_squared_error: 8.7441 - mean_absolute_error: 7.0369 - val_loss: 44.7059 - val_root_mean_squared_error: 6.6862 - val_mean_absolute_error: 5.6106\n",
            "Epoch 58/100\n",
            "19/19 [==============================] - 21s 1s/step - loss: 61.2029 - root_mean_squared_error: 7.8232 - mean_absolute_error: 6.5108 - val_loss: 40.8891 - val_root_mean_squared_error: 6.3945 - val_mean_absolute_error: 5.3178\n",
            "Epoch 59/100\n",
            "19/19 [==============================] - 21s 1s/step - loss: 68.4210 - root_mean_squared_error: 8.2717 - mean_absolute_error: 6.9861 - val_loss: 37.5850 - val_root_mean_squared_error: 6.1307 - val_mean_absolute_error: 5.0459\n",
            "Epoch 60/100\n",
            "19/19 [==============================] - 21s 1s/step - loss: 59.8608 - root_mean_squared_error: 7.7370 - mean_absolute_error: 6.0778 - val_loss: 34.4950 - val_root_mean_squared_error: 5.8732 - val_mean_absolute_error: 4.7960\n",
            "Epoch 61/100\n",
            "19/19 [==============================] - 21s 1s/step - loss: 49.1570 - root_mean_squared_error: 7.0112 - mean_absolute_error: 5.7841 - val_loss: 31.8168 - val_root_mean_squared_error: 5.6406 - val_mean_absolute_error: 4.6042\n",
            "Epoch 62/100\n",
            "19/19 [==============================] - 21s 1s/step - loss: 62.5532 - root_mean_squared_error: 7.9091 - mean_absolute_error: 6.3774 - val_loss: 29.3149 - val_root_mean_squared_error: 5.4143 - val_mean_absolute_error: 4.4101\n",
            "Epoch 63/100\n",
            "19/19 [==============================] - 20s 1s/step - loss: 51.5108 - root_mean_squared_error: 7.1771 - mean_absolute_error: 5.7526 - val_loss: 27.2220 - val_root_mean_squared_error: 5.2175 - val_mean_absolute_error: 4.2410\n",
            "Epoch 64/100\n",
            "19/19 [==============================] - 21s 1s/step - loss: 47.2712 - root_mean_squared_error: 6.8754 - mean_absolute_error: 5.5006 - val_loss: 25.4097 - val_root_mean_squared_error: 5.0408 - val_mean_absolute_error: 4.1118\n",
            "Epoch 65/100\n",
            "19/19 [==============================] - 21s 1s/step - loss: 49.2588 - root_mean_squared_error: 7.0185 - mean_absolute_error: 5.4736 - val_loss: 23.6544 - val_root_mean_squared_error: 4.8636 - val_mean_absolute_error: 3.9748\n",
            "Epoch 66/100\n",
            "19/19 [==============================] - 21s 1s/step - loss: 46.8770 - root_mean_squared_error: 6.8467 - mean_absolute_error: 5.3921 - val_loss: 22.3942 - val_root_mean_squared_error: 4.7322 - val_mean_absolute_error: 3.8669\n",
            "Epoch 67/100\n",
            "19/19 [==============================] - 21s 1s/step - loss: 42.4629 - root_mean_squared_error: 6.5164 - mean_absolute_error: 5.0930 - val_loss: 21.1684 - val_root_mean_squared_error: 4.6009 - val_mean_absolute_error: 3.7725\n",
            "Epoch 68/100\n",
            "19/19 [==============================] - 21s 1s/step - loss: 41.5301 - root_mean_squared_error: 6.4444 - mean_absolute_error: 5.1931 - val_loss: 20.0568 - val_root_mean_squared_error: 4.4785 - val_mean_absolute_error: 3.7063\n",
            "Epoch 69/100\n",
            "19/19 [==============================] - 21s 1s/step - loss: 46.4754 - root_mean_squared_error: 6.8173 - mean_absolute_error: 5.1899 - val_loss: 19.2049 - val_root_mean_squared_error: 4.3823 - val_mean_absolute_error: 3.6498\n",
            "Epoch 70/100\n",
            "19/19 [==============================] - 21s 1s/step - loss: 37.3140 - root_mean_squared_error: 6.1085 - mean_absolute_error: 4.9229 - val_loss: 18.4876 - val_root_mean_squared_error: 4.2997 - val_mean_absolute_error: 3.5968\n",
            "Epoch 71/100\n",
            "19/19 [==============================] - 21s 1s/step - loss: 40.1994 - root_mean_squared_error: 6.3403 - mean_absolute_error: 5.2432 - val_loss: 17.9147 - val_root_mean_squared_error: 4.2326 - val_mean_absolute_error: 3.5495\n",
            "Epoch 72/100\n",
            "19/19 [==============================] - 21s 1s/step - loss: 39.8888 - root_mean_squared_error: 6.3158 - mean_absolute_error: 5.0425 - val_loss: 17.4048 - val_root_mean_squared_error: 4.1719 - val_mean_absolute_error: 3.5178\n",
            "Epoch 73/100\n",
            "19/19 [==============================] - 21s 1s/step - loss: 30.9842 - root_mean_squared_error: 5.5663 - mean_absolute_error: 4.2136 - val_loss: 16.9376 - val_root_mean_squared_error: 4.1155 - val_mean_absolute_error: 3.4930\n",
            "Epoch 74/100\n",
            "19/19 [==============================] - 21s 1s/step - loss: 33.4838 - root_mean_squared_error: 5.7865 - mean_absolute_error: 4.5975 - val_loss: 16.6695 - val_root_mean_squared_error: 4.0828 - val_mean_absolute_error: 3.4768\n",
            "Epoch 75/100\n",
            "19/19 [==============================] - 21s 1s/step - loss: 35.1716 - root_mean_squared_error: 5.9306 - mean_absolute_error: 4.7788 - val_loss: 16.4264 - val_root_mean_squared_error: 4.0529 - val_mean_absolute_error: 3.4603\n",
            "Epoch 76/100\n",
            "19/19 [==============================] - 21s 1s/step - loss: 39.1561 - root_mean_squared_error: 6.2575 - mean_absolute_error: 4.9208 - val_loss: 16.2281 - val_root_mean_squared_error: 4.0284 - val_mean_absolute_error: 3.4449\n",
            "Epoch 77/100\n",
            "19/19 [==============================] - 21s 1s/step - loss: 28.4268 - root_mean_squared_error: 5.3317 - mean_absolute_error: 4.3551 - val_loss: 16.0261 - val_root_mean_squared_error: 4.0033 - val_mean_absolute_error: 3.4266\n",
            "Epoch 78/100\n",
            "19/19 [==============================] - 21s 1s/step - loss: 32.4242 - root_mean_squared_error: 5.6942 - mean_absolute_error: 4.6162 - val_loss: 15.9193 - val_root_mean_squared_error: 3.9899 - val_mean_absolute_error: 3.4152\n",
            "Epoch 79/100\n",
            "19/19 [==============================] - 21s 1s/step - loss: 35.7270 - root_mean_squared_error: 5.9772 - mean_absolute_error: 4.6966 - val_loss: 15.8289 - val_root_mean_squared_error: 3.9786 - val_mean_absolute_error: 3.4040\n",
            "Epoch 80/100\n",
            "19/19 [==============================] - 21s 1s/step - loss: 29.3596 - root_mean_squared_error: 5.4184 - mean_absolute_error: 4.4173 - val_loss: 15.7438 - val_root_mean_squared_error: 3.9678 - val_mean_absolute_error: 3.4000\n",
            "Epoch 81/100\n",
            "19/19 [==============================] - 21s 1s/step - loss: 30.7111 - root_mean_squared_error: 5.5418 - mean_absolute_error: 4.6383 - val_loss: 15.6777 - val_root_mean_squared_error: 3.9595 - val_mean_absolute_error: 3.4000\n",
            "Epoch 82/100\n",
            "19/19 [==============================] - 20s 1s/step - loss: 34.0984 - root_mean_squared_error: 5.8394 - mean_absolute_error: 4.6664 - val_loss: 15.6351 - val_root_mean_squared_error: 3.9541 - val_mean_absolute_error: 3.4000\n",
            "Epoch 83/100\n",
            "19/19 [==============================] - 21s 1s/step - loss: 31.8895 - root_mean_squared_error: 5.6471 - mean_absolute_error: 4.6289 - val_loss: 15.6168 - val_root_mean_squared_error: 3.9518 - val_mean_absolute_error: 3.4000\n",
            "Epoch 84/100\n",
            "19/19 [==============================] - 21s 1s/step - loss: 27.5999 - root_mean_squared_error: 5.2536 - mean_absolute_error: 4.3021 - val_loss: 15.6071 - val_root_mean_squared_error: 3.9506 - val_mean_absolute_error: 3.4000\n",
            "Epoch 85/100\n",
            "19/19 [==============================] - 21s 1s/step - loss: 35.2994 - root_mean_squared_error: 5.9413 - mean_absolute_error: 4.4964 - val_loss: 15.5883 - val_root_mean_squared_error: 3.9482 - val_mean_absolute_error: 3.4000\n",
            "Epoch 86/100\n",
            "19/19 [==============================] - 21s 1s/step - loss: 33.6388 - root_mean_squared_error: 5.7999 - mean_absolute_error: 4.6335 - val_loss: 15.5823 - val_root_mean_squared_error: 3.9474 - val_mean_absolute_error: 3.4000\n",
            "Epoch 87/100\n",
            "19/19 [==============================] - 21s 1s/step - loss: 28.7004 - root_mean_squared_error: 5.3573 - mean_absolute_error: 4.1661 - val_loss: 15.5861 - val_root_mean_squared_error: 3.9479 - val_mean_absolute_error: 3.4000\n",
            "Epoch 88/100\n",
            "19/19 [==============================] - 21s 1s/step - loss: 30.3577 - root_mean_squared_error: 5.5098 - mean_absolute_error: 4.3614 - val_loss: 15.5864 - val_root_mean_squared_error: 3.9480 - val_mean_absolute_error: 3.4000\n",
            "Epoch 89/100\n",
            "19/19 [==============================] - 20s 1s/step - loss: 32.9491 - root_mean_squared_error: 5.7401 - mean_absolute_error: 4.5045 - val_loss: 15.5878 - val_root_mean_squared_error: 3.9481 - val_mean_absolute_error: 3.4000\n",
            "Epoch 90/100\n",
            "19/19 [==============================] - 21s 1s/step - loss: 28.3135 - root_mean_squared_error: 5.3210 - mean_absolute_error: 4.2334 - val_loss: 15.5964 - val_root_mean_squared_error: 3.9492 - val_mean_absolute_error: 3.4000\n",
            "Epoch 91/100\n",
            "19/19 [==============================] - 21s 1s/step - loss: 35.1856 - root_mean_squared_error: 5.9317 - mean_absolute_error: 4.6867 - val_loss: 15.6071 - val_root_mean_squared_error: 3.9506 - val_mean_absolute_error: 3.4000\n",
            "Epoch 92/100\n",
            "19/19 [==============================] - 21s 1s/step - loss: 35.2511 - root_mean_squared_error: 5.9373 - mean_absolute_error: 4.7659 - val_loss: 15.6387 - val_root_mean_squared_error: 3.9546 - val_mean_absolute_error: 3.4000\n",
            "Epoch 93/100\n",
            "19/19 [==============================] - 21s 1s/step - loss: 35.3526 - root_mean_squared_error: 5.9458 - mean_absolute_error: 4.5082 - val_loss: 15.6897 - val_root_mean_squared_error: 3.9610 - val_mean_absolute_error: 3.4000\n",
            "Epoch 94/100\n",
            "19/19 [==============================] - 21s 1s/step - loss: 30.3700 - root_mean_squared_error: 5.5109 - mean_absolute_error: 4.4924 - val_loss: 15.7139 - val_root_mean_squared_error: 3.9641 - val_mean_absolute_error: 3.4000\n",
            "Epoch 95/100\n",
            "19/19 [==============================] - 21s 1s/step - loss: 30.3668 - root_mean_squared_error: 5.5106 - mean_absolute_error: 4.4295 - val_loss: 15.7062 - val_root_mean_squared_error: 3.9631 - val_mean_absolute_error: 3.4000\n",
            "Epoch 96/100\n",
            "19/19 [==============================] - 21s 1s/step - loss: 36.6385 - root_mean_squared_error: 6.0530 - mean_absolute_error: 4.8149 - val_loss: 15.6978 - val_root_mean_squared_error: 3.9620 - val_mean_absolute_error: 3.4000\n",
            "Epoch 97/100\n",
            "19/19 [==============================] - 21s 1s/step - loss: 36.5325 - root_mean_squared_error: 6.0442 - mean_absolute_error: 4.8760 - val_loss: 15.6981 - val_root_mean_squared_error: 3.9621 - val_mean_absolute_error: 3.4000\n",
            "Epoch 98/100\n",
            "19/19 [==============================] - 21s 1s/step - loss: 29.3397 - root_mean_squared_error: 5.4166 - mean_absolute_error: 4.4942 - val_loss: 15.6988 - val_root_mean_squared_error: 3.9622 - val_mean_absolute_error: 3.4000\n",
            "Epoch 99/100\n",
            "19/19 [==============================] - 21s 1s/step - loss: 41.4598 - root_mean_squared_error: 6.4389 - mean_absolute_error: 5.2790 - val_loss: 15.7160 - val_root_mean_squared_error: 3.9643 - val_mean_absolute_error: 3.4000\n",
            "Epoch 100/100\n",
            "19/19 [==============================] - 20s 1s/step - loss: 35.2357 - root_mean_squared_error: 5.9360 - mean_absolute_error: 4.7319 - val_loss: 15.7075 - val_root_mean_squared_error: 3.9633 - val_mean_absolute_error: 3.4000\n"
          ]
        }
      ]
    },
    {
      "cell_type": "markdown",
      "source": [
        "PLOTING THE GRU MODEL"
      ],
      "metadata": {
        "id": "optLilEqvZ5V"
      }
    },
    {
      "cell_type": "code",
      "source": [
        "plot_loss(model)"
      ],
      "metadata": {
        "id": "E5URDRZei8qy"
      },
      "execution_count": null,
      "outputs": []
    },
    {
      "cell_type": "markdown",
      "source": [
        "LSTM"
      ],
      "metadata": {
        "id": "gbp5axU8vsRE"
      }
    },
    {
      "cell_type": "code",
      "source": [
        "params = {\n",
        "    \"loss\": \"mean_squared_error\",\n",
        "    \"optimizer\": \"adam\",\n",
        "    \"dropout\": 0.2,\n",
        "    \"learning rate\": 1e-4, \n",
        "    \"lstm_units\": 300,\n",
        "    \"epochs\": 5,\n",
        "    \"batch_size\": 8,\n",
        "    \"es_patience\" : 0.4\n",
        "}\n",
        "\n",
        "model = get_model_LSTM(params=params, input_shape=X_train.shape[1])\n",
        "\n",
        "es_callback = tf.keras.callbacks.EarlyStopping(monitor='val_root_mean_squared_error',\n",
        "                                           \tmode='min', \n",
        "patience=params[\"es_patience\"])\n",
        "\n",
        "model = model.fit(\n",
        "    X_train,\n",
        "    y_train,\n",
        "    validation_data=(X_test, y_test),\n",
        "    epochs=params[\"epochs\"],\n",
        "    batch_size=params[\"batch_size\"],\n",
        "    verbose=1\n",
        ")"
      ],
      "metadata": {
        "id": "TgS3hmnzqUKS",
        "colab": {
          "base_uri": "https://localhost:8080/"
        },
        "outputId": "10bb0071-1831-4e48-8bc6-3fbd1e45b4f5"
      },
      "execution_count": null,
      "outputs": [
        {
          "output_type": "stream",
          "name": "stdout",
          "text": [
            "Epoch 1/40\n",
            "19/19 [==============================] - 35s 1s/step - loss: 4457.2744 - root_mean_squared_error: 66.7628 - mean_absolute_error: 66.1770 - val_loss: 3214.7009 - val_root_mean_squared_error: 56.6983 - val_mean_absolute_error: 56.5607\n",
            "Epoch 2/40\n",
            "19/19 [==============================] - 22s 1s/step - loss: 3006.3711 - root_mean_squared_error: 54.8304 - mean_absolute_error: 54.6436 - val_loss: 2591.8936 - val_root_mean_squared_error: 50.9106 - val_mean_absolute_error: 50.7574\n",
            "Epoch 3/40\n",
            "19/19 [==============================] - 22s 1s/step - loss: 2420.5635 - root_mean_squared_error: 49.1992 - mean_absolute_error: 49.0086 - val_loss: 2080.0015 - val_root_mean_squared_error: 45.6070 - val_mean_absolute_error: 45.4359\n",
            "Epoch 4/40\n",
            "19/19 [==============================] - 22s 1s/step - loss: 1972.6270 - root_mean_squared_error: 44.4143 - mean_absolute_error: 44.2091 - val_loss: 1653.8865 - val_root_mean_squared_error: 40.6680 - val_mean_absolute_error: 40.4760\n",
            "Epoch 5/40\n",
            "19/19 [==============================] - 22s 1s/step - loss: 1558.7378 - root_mean_squared_error: 39.4809 - mean_absolute_error: 39.2472 - val_loss: 1302.8674 - val_root_mean_squared_error: 36.0953 - val_mean_absolute_error: 35.8788\n",
            "Epoch 6/40\n",
            "19/19 [==============================] - 22s 1s/step - loss: 1224.7188 - root_mean_squared_error: 34.9960 - mean_absolute_error: 34.7217 - val_loss: 1011.7902 - val_root_mean_squared_error: 31.8086 - val_mean_absolute_error: 31.5628\n",
            "Epoch 7/40\n",
            "19/19 [==============================] - 22s 1s/step - loss: 934.5609 - root_mean_squared_error: 30.5706 - mean_absolute_error: 30.2827 - val_loss: 777.2577 - val_root_mean_squared_error: 27.8793 - val_mean_absolute_error: 27.5985\n",
            "Epoch 8/40\n",
            "19/19 [==============================] - 22s 1s/step - loss: 742.8726 - root_mean_squared_error: 27.2557 - mean_absolute_error: 26.8531 - val_loss: 589.9471 - val_root_mean_squared_error: 24.2888 - val_mean_absolute_error: 23.9659\n",
            "Epoch 9/40\n",
            "19/19 [==============================] - 22s 1s/step - loss: 560.3497 - root_mean_squared_error: 23.6717 - mean_absolute_error: 23.2565 - val_loss: 444.5269 - val_root_mean_squared_error: 21.0838 - val_mean_absolute_error: 20.7110\n",
            "Epoch 10/40\n",
            "19/19 [==============================] - 22s 1s/step - loss: 425.3423 - root_mean_squared_error: 20.6238 - mean_absolute_error: 20.0584 - val_loss: 329.4955 - val_root_mean_squared_error: 18.1520 - val_mean_absolute_error: 17.7176\n",
            "Epoch 11/40\n",
            "19/19 [==============================] - 22s 1s/step - loss: 316.1618 - root_mean_squared_error: 17.7809 - mean_absolute_error: 17.2547 - val_loss: 241.7737 - val_root_mean_squared_error: 15.5491 - val_mean_absolute_error: 15.0397\n",
            "Epoch 12/40\n",
            "19/19 [==============================] - 22s 1s/step - loss: 244.3189 - root_mean_squared_error: 15.6307 - mean_absolute_error: 14.9977 - val_loss: 175.6113 - val_root_mean_squared_error: 13.2518 - val_mean_absolute_error: 12.6503\n",
            "Epoch 13/40\n",
            "19/19 [==============================] - 22s 1s/step - loss: 174.1042 - root_mean_squared_error: 13.1949 - mean_absolute_error: 12.4316 - val_loss: 126.8407 - val_root_mean_squared_error: 11.2624 - val_mean_absolute_error: 10.5479\n",
            "Epoch 14/40\n",
            "19/19 [==============================] - 22s 1s/step - loss: 133.2845 - root_mean_squared_error: 11.5449 - mean_absolute_error: 10.7333 - val_loss: 90.7412 - val_root_mean_squared_error: 9.5258 - val_mean_absolute_error: 8.6694\n",
            "Epoch 15/40\n",
            "19/19 [==============================] - 22s 1s/step - loss: 99.8355 - root_mean_squared_error: 9.9918 - mean_absolute_error: 8.8350 - val_loss: 65.2969 - val_root_mean_squared_error: 8.0807 - val_mean_absolute_error: 7.0786\n",
            "Epoch 16/40\n",
            "19/19 [==============================] - 22s 1s/step - loss: 77.6412 - root_mean_squared_error: 8.8114 - mean_absolute_error: 7.5862 - val_loss: 48.0275 - val_root_mean_squared_error: 6.9302 - val_mean_absolute_error: 5.8655\n",
            "Epoch 17/40\n",
            "19/19 [==============================] - 22s 1s/step - loss: 56.9734 - root_mean_squared_error: 7.5481 - mean_absolute_error: 6.3433 - val_loss: 36.2670 - val_root_mean_squared_error: 6.0222 - val_mean_absolute_error: 4.9318\n",
            "Epoch 18/40\n",
            "19/19 [==============================] - 22s 1s/step - loss: 42.6849 - root_mean_squared_error: 6.5334 - mean_absolute_error: 5.3517 - val_loss: 28.0631 - val_root_mean_squared_error: 5.2975 - val_mean_absolute_error: 4.3064\n",
            "Epoch 19/40\n",
            "19/19 [==============================] - 22s 1s/step - loss: 38.0915 - root_mean_squared_error: 6.1718 - mean_absolute_error: 4.8768 - val_loss: 22.6580 - val_root_mean_squared_error: 4.7600 - val_mean_absolute_error: 3.8902\n",
            "Epoch 20/40\n",
            "19/19 [==============================] - 22s 1s/step - loss: 30.4475 - root_mean_squared_error: 5.5179 - mean_absolute_error: 4.4222 - val_loss: 19.3593 - val_root_mean_squared_error: 4.3999 - val_mean_absolute_error: 3.6605\n",
            "Epoch 21/40\n",
            "19/19 [==============================] - 22s 1s/step - loss: 25.9782 - root_mean_squared_error: 5.0969 - mean_absolute_error: 4.0218 - val_loss: 17.8042 - val_root_mean_squared_error: 4.2195 - val_mean_absolute_error: 3.5397\n",
            "Epoch 22/40\n",
            "19/19 [==============================] - 27s 1s/step - loss: 24.3600 - root_mean_squared_error: 4.9356 - mean_absolute_error: 4.0437 - val_loss: 16.6046 - val_root_mean_squared_error: 4.0749 - val_mean_absolute_error: 3.4726\n",
            "Epoch 23/40\n",
            "19/19 [==============================] - 22s 1s/step - loss: 24.2521 - root_mean_squared_error: 4.9246 - mean_absolute_error: 3.9057 - val_loss: 15.9765 - val_root_mean_squared_error: 3.9971 - val_mean_absolute_error: 3.4215\n",
            "Epoch 24/40\n",
            "19/19 [==============================] - 22s 1s/step - loss: 23.7552 - root_mean_squared_error: 4.8739 - mean_absolute_error: 3.8710 - val_loss: 15.6427 - val_root_mean_squared_error: 3.9551 - val_mean_absolute_error: 3.4000\n",
            "Epoch 25/40\n",
            "19/19 [==============================] - 23s 1s/step - loss: 21.3616 - root_mean_squared_error: 4.6219 - mean_absolute_error: 3.7771 - val_loss: 15.5823 - val_root_mean_squared_error: 3.9474 - val_mean_absolute_error: 3.4000\n",
            "Epoch 26/40\n",
            "19/19 [==============================] - 22s 1s/step - loss: 24.6031 - root_mean_squared_error: 4.9602 - mean_absolute_error: 3.9373 - val_loss: 15.6060 - val_root_mean_squared_error: 3.9504 - val_mean_absolute_error: 3.4000\n",
            "Epoch 27/40\n",
            "19/19 [==============================] - 22s 1s/step - loss: 20.4701 - root_mean_squared_error: 4.5244 - mean_absolute_error: 3.6153 - val_loss: 15.6524 - val_root_mean_squared_error: 3.9563 - val_mean_absolute_error: 3.4000\n",
            "Epoch 28/40\n",
            "19/19 [==============================] - 22s 1s/step - loss: 20.4195 - root_mean_squared_error: 4.5188 - mean_absolute_error: 3.7315 - val_loss: 15.7021 - val_root_mean_squared_error: 3.9626 - val_mean_absolute_error: 3.4000\n",
            "Epoch 29/40\n",
            "19/19 [==============================] - 23s 1s/step - loss: 20.5753 - root_mean_squared_error: 4.5360 - mean_absolute_error: 3.7392 - val_loss: 15.8161 - val_root_mean_squared_error: 3.9769 - val_mean_absolute_error: 3.4000\n",
            "Epoch 30/40\n",
            "19/19 [==============================] - 22s 1s/step - loss: 22.8518 - root_mean_squared_error: 4.7804 - mean_absolute_error: 3.6047 - val_loss: 15.9098 - val_root_mean_squared_error: 3.9887 - val_mean_absolute_error: 3.4052\n",
            "Epoch 31/40\n",
            "19/19 [==============================] - 22s 1s/step - loss: 19.3678 - root_mean_squared_error: 4.4009 - mean_absolute_error: 3.5929 - val_loss: 15.9941 - val_root_mean_squared_error: 3.9993 - val_mean_absolute_error: 3.4145\n",
            "Epoch 32/40\n",
            "19/19 [==============================] - 22s 1s/step - loss: 19.3088 - root_mean_squared_error: 4.3942 - mean_absolute_error: 3.5218 - val_loss: 16.0740 - val_root_mean_squared_error: 4.0092 - val_mean_absolute_error: 3.4224\n",
            "Epoch 33/40\n",
            "19/19 [==============================] - 22s 1s/step - loss: 22.4924 - root_mean_squared_error: 4.7426 - mean_absolute_error: 3.9031 - val_loss: 16.0576 - val_root_mean_squared_error: 4.0072 - val_mean_absolute_error: 3.4208\n",
            "Epoch 34/40\n",
            "19/19 [==============================] - 22s 1s/step - loss: 21.7825 - root_mean_squared_error: 4.6672 - mean_absolute_error: 3.7037 - val_loss: 15.9333 - val_root_mean_squared_error: 3.9916 - val_mean_absolute_error: 3.4079\n",
            "Epoch 35/40\n",
            "19/19 [==============================] - 22s 1s/step - loss: 23.3651 - root_mean_squared_error: 4.8338 - mean_absolute_error: 4.0075 - val_loss: 15.9051 - val_root_mean_squared_error: 3.9881 - val_mean_absolute_error: 3.4047\n",
            "Epoch 36/40\n",
            "19/19 [==============================] - 22s 1s/step - loss: 20.0405 - root_mean_squared_error: 4.4767 - mean_absolute_error: 3.6098 - val_loss: 15.9131 - val_root_mean_squared_error: 3.9891 - val_mean_absolute_error: 3.4056\n",
            "Epoch 37/40\n",
            "19/19 [==============================] - 23s 1s/step - loss: 25.2227 - root_mean_squared_error: 5.0222 - mean_absolute_error: 4.0207 - val_loss: 15.8739 - val_root_mean_squared_error: 3.9842 - val_mean_absolute_error: 3.4009\n",
            "Epoch 38/40\n",
            "19/19 [==============================] - 22s 1s/step - loss: 20.2138 - root_mean_squared_error: 4.4960 - mean_absolute_error: 3.4483 - val_loss: 15.9986 - val_root_mean_squared_error: 3.9998 - val_mean_absolute_error: 3.4149\n",
            "Epoch 39/40\n",
            "19/19 [==============================] - 22s 1s/step - loss: 24.0287 - root_mean_squared_error: 4.9019 - mean_absolute_error: 3.8952 - val_loss: 16.0106 - val_root_mean_squared_error: 4.0013 - val_mean_absolute_error: 3.4162\n",
            "Epoch 40/40\n",
            "19/19 [==============================] - 22s 1s/step - loss: 23.2739 - root_mean_squared_error: 4.8243 - mean_absolute_error: 3.9455 - val_loss: 16.1392 - val_root_mean_squared_error: 4.0174 - val_mean_absolute_error: 3.4284\n"
          ]
        }
      ]
    },
    {
      "cell_type": "markdown",
      "source": [
        "PLOTTING THE LSTM MODEL"
      ],
      "metadata": {
        "id": "MysWXEeCv3ot"
      }
    },
    {
      "cell_type": "code",
      "source": [
        "plot_loss(model)"
      ],
      "metadata": {
        "colab": {
          "base_uri": "https://localhost:8080/",
          "height": 283
        },
        "id": "FTYdg6AOxaIx",
        "outputId": "ac16960c-dc49-44af-b2e2-cd04b263b133"
      },
      "execution_count": null,
      "outputs": [
        {
          "output_type": "display_data",
          "data": {
            "text/plain": [
              "<Figure size 432x288 with 1 Axes>"
            ],
            "image/png": "[encoded data removed]"
          },
          "metadata": {
            "needs_background": "light"
          }
        }
      ]
    },
    {
      "cell_type": "markdown",
      "source": [
        "## ATTRIBUTABLE\n",
        "\n"
      ],
      "metadata": {
        "id": "n2mjEW8pv609"
      }
    },
    {
      "cell_type": "markdown",
      "source": [
        "SPLITTING THE DATA"
      ],
      "metadata": {
        "id": "iFX28NK10Yh1"
      }
    },
    {
      "cell_type": "code",
      "source": [
        "c = yAttributable\n",
        "from sklearn.model_selection import train_test_split\n",
        "\n",
        "X = d\n",
        "y=  c\n",
        "\n",
        "X_train, X_test, y_train, y_test = train_test_split(X, y, test_size=0.17, random_state=42)"
      ],
      "metadata": {
        "id": "Dz_-YQd9xiOf"
      },
      "execution_count": null,
      "outputs": []
    },
    {
      "cell_type": "markdown",
      "source": [
        "BI_LSTM"
      ],
      "metadata": {
        "id": "sXjlN9FtWS69"
      }
    },
    {
      "cell_type": "code",
      "source": [
        "params = {\n",
        "    \"loss\": \"mean_squared_error\",\n",
        "    \"optimizer\": \"adam\",\n",
        "    \"dropout\": 0.2,\n",
        "    \"learning rate\": 1e-3, \n",
        "    \"lstm_units\": 200,\n",
        "    \"epochs\": 15,\n",
        "    \"batch_size\": 8,\n",
        "    \"es_patience\" : 0.5\n",
        "}\n",
        "\n",
        "model = get_model_BI_LSTM(params=params, input_shape=X_train.shape[1])\n",
        "\n",
        "es_callback = tf.keras.callbacks.EarlyStopping(monitor='val_root_mean_squared_error',\n",
        "                                           \tmode='min', \n",
        "patience=params[\"es_patience\"])\n",
        "\n",
        "model = model = model.fit(\n",
        "    X_train,\n",
        "    y_train,\n",
        "    validation_data=(X_test, y_test),\n",
        "    epochs=params[\"epochs\"],\n",
        "    batch_size=params[\"batch_size\"],\n",
        "    verbose=1\n",
        ")"
      ],
      "metadata": {
        "id": "yVnshKD9WTZ0",
        "colab": {
          "base_uri": "https://localhost:8080/"
        },
        "outputId": "edb32d23-2e24-4835-ce23-600dbc42da3b"
      },
      "execution_count": null,
      "outputs": [
        {
          "output_type": "stream",
          "name": "stdout",
          "text": [
            "Epoch 1/15\n",
            "19/19 [==============================] - 190s 9s/step - loss: 1025.9557 - root_mean_squared_error: 32.0305 - mean_absolute_error: 30.6383 - val_loss: 389.0577 - val_root_mean_squared_error: 19.7245 - val_mean_absolute_error: 19.6916\n",
            "Epoch 2/15\n",
            "19/19 [==============================] - 165s 9s/step - loss: 269.4473 - root_mean_squared_error: 16.4149 - mean_absolute_error: 16.1974 - val_loss: 160.4995 - val_root_mean_squared_error: 12.6688 - val_mean_absolute_error: 12.6175\n",
            "Epoch 3/15\n",
            "19/19 [==============================] - 165s 9s/step - loss: 103.2378 - root_mean_squared_error: 10.1606 - mean_absolute_error: 9.8838 - val_loss: 52.1529 - val_root_mean_squared_error: 7.2217 - val_mean_absolute_error: 7.1312\n",
            "Epoch 4/15\n",
            "19/19 [==============================] - 165s 9s/step - loss: 31.9744 - root_mean_squared_error: 5.6546 - mean_absolute_error: 5.2745 - val_loss: 14.1165 - val_root_mean_squared_error: 3.7572 - val_mean_absolute_error: 3.5802\n",
            "Epoch 5/15\n",
            "19/19 [==============================] - 165s 9s/step - loss: 12.2377 - root_mean_squared_error: 3.4982 - mean_absolute_error: 2.7041 - val_loss: 3.5878 - val_root_mean_squared_error: 1.8941 - val_mean_absolute_error: 1.6934\n",
            "Epoch 6/15\n",
            "19/19 [==============================] - 165s 9s/step - loss: 7.1909 - root_mean_squared_error: 2.6816 - mean_absolute_error: 1.7916 - val_loss: 1.6422 - val_root_mean_squared_error: 1.2815 - val_mean_absolute_error: 0.9941\n",
            "Epoch 7/15\n",
            "19/19 [==============================] - 165s 9s/step - loss: 6.5608 - root_mean_squared_error: 2.5614 - mean_absolute_error: 1.5356 - val_loss: 1.3477 - val_root_mean_squared_error: 1.1609 - val_mean_absolute_error: 0.8528\n",
            "Epoch 8/15\n",
            "19/19 [==============================] - 164s 9s/step - loss: 7.6140 - root_mean_squared_error: 2.7593 - mean_absolute_error: 1.6909 - val_loss: 1.3630 - val_root_mean_squared_error: 1.1675 - val_mean_absolute_error: 0.8484\n",
            "Epoch 9/15\n",
            "19/19 [==============================] - 164s 9s/step - loss: 7.2675 - root_mean_squared_error: 2.6958 - mean_absolute_error: 1.6257 - val_loss: 1.4080 - val_root_mean_squared_error: 1.1866 - val_mean_absolute_error: 0.8382\n",
            "Epoch 10/15\n",
            "19/19 [==============================] - 164s 9s/step - loss: 6.8357 - root_mean_squared_error: 2.6145 - mean_absolute_error: 1.5672 - val_loss: 1.3816 - val_root_mean_squared_error: 1.1754 - val_mean_absolute_error: 0.8439\n",
            "Epoch 11/15\n",
            "19/19 [==============================] - 164s 9s/step - loss: 7.9596 - root_mean_squared_error: 2.8213 - mean_absolute_error: 1.6047 - val_loss: 1.7183 - val_root_mean_squared_error: 1.3108 - val_mean_absolute_error: 1.0394\n",
            "Epoch 12/15\n",
            "19/19 [==============================] - 164s 9s/step - loss: 6.5803 - root_mean_squared_error: 2.5652 - mean_absolute_error: 1.5739 - val_loss: 1.4176 - val_root_mean_squared_error: 1.1906 - val_mean_absolute_error: 0.8363\n",
            "Epoch 13/15\n",
            "19/19 [==============================] - 164s 9s/step - loss: 6.5568 - root_mean_squared_error: 2.5606 - mean_absolute_error: 1.5512 - val_loss: 1.3216 - val_root_mean_squared_error: 1.1496 - val_mean_absolute_error: 0.8621\n",
            "Epoch 14/15\n",
            "19/19 [==============================] - 165s 9s/step - loss: 6.9117 - root_mean_squared_error: 2.6290 - mean_absolute_error: 1.4632 - val_loss: 1.3351 - val_root_mean_squared_error: 1.1555 - val_mean_absolute_error: 0.8569\n",
            "Epoch 15/15\n",
            "19/19 [==============================] - 166s 9s/step - loss: 7.3316 - root_mean_squared_error: 2.7077 - mean_absolute_error: 1.5866 - val_loss: 1.3858 - val_root_mean_squared_error: 1.1772 - val_mean_absolute_error: 0.8429\n"
          ]
        }
      ]
    },
    {
      "cell_type": "markdown",
      "source": [
        "PLOTING BI_LSTM"
      ],
      "metadata": {
        "id": "vAzvE9uXWTi1"
      }
    },
    {
      "cell_type": "code",
      "source": [
        "plot_loss(model)"
      ],
      "metadata": {
        "id": "lTh1PkHTWR-K",
        "colab": {
          "base_uri": "https://localhost:8080/",
          "height": 283
        },
        "outputId": "066198cd-6e4c-480e-c6d4-1239c402c7dc"
      },
      "execution_count": null,
      "outputs": [
        {
          "output_type": "display_data",
          "data": {
            "text/plain": [
              "<Figure size 432x288 with 1 Axes>"
            ],
            "image/png": "[encoded data removed]"
          },
          "metadata": {
            "needs_background": "light"
          }
        }
      ]
    },
    {
      "cell_type": "markdown",
      "source": [
        "GRU"
      ],
      "metadata": {
        "id": "23Mo8YqGxe1O"
      }
    },
    {
      "cell_type": "code",
      "source": [
        "params = {\n",
        "    \"loss\": \"mean_squared_error\",\n",
        "    \"optimizer\": \"adam\",\n",
        "    \"dropout\": 0.2,\n",
        "    \"learning rate\": 1e-4, \n",
        "    \"gru_units\": 200,\n",
        "    \"epochs\": 25,\n",
        "    \"batch_size\": 8,\n",
        "    \"es_patience\" : 0.4\n",
        "}\n",
        "\n",
        "model = get_model_GRU(params=params, input_shape=X_train.shape[1])\n",
        "\n",
        "es_callback = tf.keras.callbacks.EarlyStopping(monitor='val_root_mean_squared_error',\n",
        "                                           \tmode='min', \n",
        "patience=params[\"es_patience\"])\n",
        "\n",
        "model = model.fit(\n",
        "    X_train,\n",
        "    y_train,\n",
        "    validation_data=(X_test, y_test),\n",
        "    epochs=params[\"epochs\"],\n",
        "    batch_size=params[\"batch_size\"],\n",
        "    verbose=1\n",
        ")"
      ],
      "metadata": {
        "id": "6o6saWY3xaVD",
        "colab": {
          "base_uri": "https://localhost:8080/"
        },
        "outputId": "f3a09604-6293-40ab-de19-59074e7a6bb5"
      },
      "execution_count": null,
      "outputs": [
        {
          "output_type": "stream",
          "name": "stdout",
          "text": [
            "Epoch 1/25\n",
            "19/19 [==============================] - 83s 4s/step - loss: 1301.5013 - root_mean_squared_error: 36.0763 - mean_absolute_error: 35.2966 - val_loss: 798.5598 - val_root_mean_squared_error: 28.2588 - val_mean_absolute_error: 28.2358\n",
            "Epoch 2/25\n",
            "19/19 [==============================] - 74s 4s/step - loss: 701.3309 - root_mean_squared_error: 26.4827 - mean_absolute_error: 26.3581 - val_loss: 593.6296 - val_root_mean_squared_error: 24.3645 - val_mean_absolute_error: 24.3378\n",
            "Epoch 3/25\n",
            "19/19 [==============================] - 74s 4s/step - loss: 509.2657 - root_mean_squared_error: 22.5669 - mean_absolute_error: 22.4349 - val_loss: 431.0468 - val_root_mean_squared_error: 20.7617 - val_mean_absolute_error: 20.7304\n",
            "Epoch 4/25\n",
            "19/19 [==============================] - 74s 4s/step - loss: 370.4511 - root_mean_squared_error: 19.2471 - mean_absolute_error: 19.1230 - val_loss: 306.3208 - val_root_mean_squared_error: 17.5020 - val_mean_absolute_error: 17.4649\n",
            "Epoch 5/25\n",
            "19/19 [==============================] - 74s 4s/step - loss: 259.0185 - root_mean_squared_error: 16.0941 - mean_absolute_error: 15.9563 - val_loss: 213.4384 - val_root_mean_squared_error: 14.6095 - val_mean_absolute_error: 14.5650\n",
            "Epoch 6/25\n",
            "19/19 [==============================] - 74s 4s/step - loss: 178.7808 - root_mean_squared_error: 13.3709 - mean_absolute_error: 13.2356 - val_loss: 145.8560 - val_root_mean_squared_error: 12.0771 - val_mean_absolute_error: 12.0232\n",
            "Epoch 7/25\n",
            "19/19 [==============================] - 74s 4s/step - loss: 123.0604 - root_mean_squared_error: 11.0933 - mean_absolute_error: 10.9485 - val_loss: 97.4369 - val_root_mean_squared_error: 9.8710 - val_mean_absolute_error: 9.8050\n",
            "Epoch 8/25\n",
            "19/19 [==============================] - 74s 4s/step - loss: 82.1460 - root_mean_squared_error: 9.0634 - mean_absolute_error: 8.8613 - val_loss: 63.3790 - val_root_mean_squared_error: 7.9611 - val_mean_absolute_error: 7.8791\n",
            "Epoch 9/25\n",
            "19/19 [==============================] - 74s 4s/step - loss: 51.9296 - root_mean_squared_error: 7.2062 - mean_absolute_error: 6.9349 - val_loss: 40.6098 - val_root_mean_squared_error: 6.3726 - val_mean_absolute_error: 6.2698\n",
            "Epoch 10/25\n",
            "19/19 [==============================] - 74s 4s/step - loss: 34.3190 - root_mean_squared_error: 5.8582 - mean_absolute_error: 5.4480 - val_loss: 25.8252 - val_root_mean_squared_error: 5.0818 - val_mean_absolute_error: 4.9524\n",
            "Epoch 11/25\n",
            "19/19 [==============================] - 74s 4s/step - loss: 24.4969 - root_mean_squared_error: 4.9494 - mean_absolute_error: 4.3285 - val_loss: 16.1889 - val_root_mean_squared_error: 4.0235 - val_mean_absolute_error: 3.8588\n",
            "Epoch 12/25\n",
            "19/19 [==============================] - 74s 4s/step - loss: 17.0673 - root_mean_squared_error: 4.1313 - mean_absolute_error: 3.5305 - val_loss: 10.4322 - val_root_mean_squared_error: 3.2299 - val_mean_absolute_error: 3.0451\n",
            "Epoch 13/25\n",
            "19/19 [==============================] - 74s 4s/step - loss: 14.2478 - root_mean_squared_error: 3.7746 - mean_absolute_error: 2.9198 - val_loss: 6.6990 - val_root_mean_squared_error: 2.5882 - val_mean_absolute_error: 2.3962\n",
            "Epoch 14/25\n",
            "19/19 [==============================] - 74s 4s/step - loss: 9.8786 - root_mean_squared_error: 3.1430 - mean_absolute_error: 2.3048 - val_loss: 4.4324 - val_root_mean_squared_error: 2.1053 - val_mean_absolute_error: 1.9164\n",
            "Epoch 15/25\n",
            "19/19 [==============================] - 74s 4s/step - loss: 10.4049 - root_mean_squared_error: 3.2257 - mean_absolute_error: 2.2545 - val_loss: 3.0595 - val_root_mean_squared_error: 1.7491 - val_mean_absolute_error: 1.5375\n",
            "Epoch 16/25\n",
            "19/19 [==============================] - 74s 4s/step - loss: 9.1619 - root_mean_squared_error: 3.0269 - mean_absolute_error: 2.1645 - val_loss: 2.2727 - val_root_mean_squared_error: 1.5075 - val_mean_absolute_error: 1.2881\n",
            "Epoch 17/25\n",
            "19/19 [==============================] - 74s 4s/step - loss: 9.3076 - root_mean_squared_error: 3.0508 - mean_absolute_error: 1.9643 - val_loss: 1.8500 - val_root_mean_squared_error: 1.3602 - val_mean_absolute_error: 1.1089\n",
            "Epoch 18/25\n",
            "19/19 [==============================] - 74s 4s/step - loss: 7.9697 - root_mean_squared_error: 2.8231 - mean_absolute_error: 1.8708 - val_loss: 1.6588 - val_root_mean_squared_error: 1.2879 - val_mean_absolute_error: 1.0044\n",
            "Epoch 19/25\n",
            "19/19 [==============================] - 74s 4s/step - loss: 8.7232 - root_mean_squared_error: 2.9535 - mean_absolute_error: 1.9464 - val_loss: 1.5044 - val_root_mean_squared_error: 1.2265 - val_mean_absolute_error: 0.8969\n",
            "Epoch 20/25\n",
            "19/19 [==============================] - 74s 4s/step - loss: 8.7347 - root_mean_squared_error: 2.9554 - mean_absolute_error: 1.9940 - val_loss: 1.4483 - val_root_mean_squared_error: 1.2034 - val_mean_absolute_error: 0.8479\n",
            "Epoch 21/25\n",
            "19/19 [==============================] - 74s 4s/step - loss: 7.1382 - root_mean_squared_error: 2.6717 - mean_absolute_error: 1.6294 - val_loss: 1.4581 - val_root_mean_squared_error: 1.2075 - val_mean_absolute_error: 0.8571\n",
            "Epoch 22/25\n",
            "19/19 [==============================] - 74s 4s/step - loss: 8.3599 - root_mean_squared_error: 2.8913 - mean_absolute_error: 1.8367 - val_loss: 1.4065 - val_root_mean_squared_error: 1.1860 - val_mean_absolute_error: 0.8385\n",
            "Epoch 23/25\n",
            "19/19 [==============================] - 74s 4s/step - loss: 6.7651 - root_mean_squared_error: 2.6010 - mean_absolute_error: 1.7597 - val_loss: 1.4120 - val_root_mean_squared_error: 1.1883 - val_mean_absolute_error: 0.8374\n",
            "Epoch 24/25\n",
            "19/19 [==============================] - 74s 4s/step - loss: 11.0307 - root_mean_squared_error: 3.3213 - mean_absolute_error: 2.0724 - val_loss: 1.4358 - val_root_mean_squared_error: 1.1983 - val_mean_absolute_error: 0.8358\n",
            "Epoch 25/25\n",
            "19/19 [==============================] - 74s 4s/step - loss: 7.9660 - root_mean_squared_error: 2.8224 - mean_absolute_error: 1.7525 - val_loss: 1.4272 - val_root_mean_squared_error: 1.1947 - val_mean_absolute_error: 0.8345\n"
          ]
        }
      ]
    },
    {
      "cell_type": "markdown",
      "source": [
        "PLOTTING THE GRU"
      ],
      "metadata": {
        "id": "aFi3-KbywY0S"
      }
    },
    {
      "cell_type": "code",
      "source": [
        "plot_loss(model)"
      ],
      "metadata": {
        "id": "aNXTWawPxbYH",
        "colab": {
          "base_uri": "https://localhost:8080/",
          "height": 283
        },
        "outputId": "352881d9-d346-4c29-ed62-dd98fd9bd9be"
      },
      "execution_count": null,
      "outputs": [
        {
          "output_type": "display_data",
          "data": {
            "text/plain": [
              "<Figure size 432x288 with 1 Axes>"
            ],
            "image/png": "[encoded data removed]"
          },
          "metadata": {
            "needs_background": "light"
          }
        }
      ]
    },
    {
      "cell_type": "markdown",
      "source": [
        "LSTM "
      ],
      "metadata": {
        "id": "pLfsGwGlwbpB"
      }
    },
    {
      "cell_type": "code",
      "source": [
        "params = {\n",
        "    \"loss\": \"mean_squared_error\",\n",
        "    \"optimizer\": \"adam\",\n",
        "    \"dropout\": 0.2,\n",
        "    \"learning rate\": 1e-4, \n",
        "    \"lstm_units\": 500,\n",
        "    \"epochs\": 20,\n",
        "    \"batch_size\": 8,\n",
        "    \"es_patience\" : 0.4\n",
        "}\n",
        "\n",
        "model = get_model_LSTM(params=params, input_shape=X_train.shape[1])\n",
        "\n",
        "es_callback = tf.keras.callbacks.EarlyStopping(monitor='val_root_mean_squared_error',\n",
        "                                           \tmode='min', \n",
        "patience=params[\"es_patience\"])\n",
        "\n",
        "model = model.fit(\n",
        "    X_train,\n",
        "    y_train,\n",
        "    validation_data=(X_test, y_test),\n",
        "    epochs=params[\"epochs\"],\n",
        "    batch_size=params[\"batch_size\"],\n",
        "    verbose=1\n",
        ")"
      ],
      "metadata": {
        "id": "P08gxu6YxzEm",
        "colab": {
          "base_uri": "https://localhost:8080/"
        },
        "outputId": "25c285d4-7e3e-4a56-fe44-226562a8aec2"
      },
      "execution_count": null,
      "outputs": [
        {
          "output_type": "stream",
          "name": "stdout",
          "text": [
            "Epoch 1/20\n",
            "19/19 [==============================] - 147s 7s/step - loss: 703.0941 - root_mean_squared_error: 26.5159 - mean_absolute_error: 24.2841 - val_loss: 196.6904 - val_root_mean_squared_error: 14.0246 - val_mean_absolute_error: 13.9783\n",
            "Epoch 2/20\n",
            "19/19 [==============================] - 137s 7s/step - loss: 111.8637 - root_mean_squared_error: 10.5766 - mean_absolute_error: 10.2176 - val_loss: 41.7110 - val_root_mean_squared_error: 6.4584 - val_mean_absolute_error: 6.3570\n",
            "Epoch 3/20\n",
            "19/19 [==============================] - 137s 7s/step - loss: 22.6833 - root_mean_squared_error: 4.7627 - mean_absolute_error: 4.2012 - val_loss: 4.6557 - val_root_mean_squared_error: 2.1577 - val_mean_absolute_error: 1.9701\n",
            "Epoch 4/20\n",
            "19/19 [==============================] - 137s 7s/step - loss: 6.2206 - root_mean_squared_error: 2.4941 - mean_absolute_error: 1.5769 - val_loss: 1.3037 - val_root_mean_squared_error: 1.1418 - val_mean_absolute_error: 0.8730\n",
            "Epoch 5/20\n",
            "19/19 [==============================] - 137s 7s/step - loss: 6.8493 - root_mean_squared_error: 2.6171 - mean_absolute_error: 1.4396 - val_loss: 1.3061 - val_root_mean_squared_error: 1.1429 - val_mean_absolute_error: 0.8936\n",
            "Epoch 6/20\n",
            "19/19 [==============================] - 137s 7s/step - loss: 6.6730 - root_mean_squared_error: 2.5832 - mean_absolute_error: 1.5099 - val_loss: 1.3527 - val_root_mean_squared_error: 1.1631 - val_mean_absolute_error: 0.8513\n",
            "Epoch 7/20\n",
            "19/19 [==============================] - 137s 7s/step - loss: 7.8514 - root_mean_squared_error: 2.8020 - mean_absolute_error: 1.6648 - val_loss: 1.3420 - val_root_mean_squared_error: 1.1584 - val_mean_absolute_error: 0.8546\n",
            "Epoch 8/20\n",
            "19/19 [==============================] - 137s 7s/step - loss: 6.3864 - root_mean_squared_error: 2.5271 - mean_absolute_error: 1.3456 - val_loss: 1.3181 - val_root_mean_squared_error: 1.1481 - val_mean_absolute_error: 0.8638\n",
            "Epoch 9/20\n",
            "19/19 [==============================] - 137s 7s/step - loss: 6.5722 - root_mean_squared_error: 2.5636 - mean_absolute_error: 1.4752 - val_loss: 1.4264 - val_root_mean_squared_error: 1.1943 - val_mean_absolute_error: 0.8346\n",
            "Epoch 10/20\n",
            "19/19 [==============================] - 137s 7s/step - loss: 6.6042 - root_mean_squared_error: 2.5699 - mean_absolute_error: 1.4795 - val_loss: 1.4093 - val_root_mean_squared_error: 1.1871 - val_mean_absolute_error: 0.8379\n",
            "Epoch 11/20\n",
            "19/19 [==============================] - 137s 7s/step - loss: 5.9385 - root_mean_squared_error: 2.4369 - mean_absolute_error: 1.4085 - val_loss: 1.3611 - val_root_mean_squared_error: 1.1667 - val_mean_absolute_error: 0.8490\n",
            "Epoch 12/20\n",
            "19/19 [==============================] - 137s 7s/step - loss: 6.4434 - root_mean_squared_error: 2.5384 - mean_absolute_error: 1.4525 - val_loss: 1.3485 - val_root_mean_squared_error: 1.1613 - val_mean_absolute_error: 0.8525\n",
            "Epoch 13/20\n",
            "19/19 [==============================] - 137s 7s/step - loss: 6.0359 - root_mean_squared_error: 2.4568 - mean_absolute_error: 1.2693 - val_loss: 1.3208 - val_root_mean_squared_error: 1.1493 - val_mean_absolute_error: 0.8625\n",
            "Epoch 14/20\n",
            "19/19 [==============================] - 137s 7s/step - loss: 5.9233 - root_mean_squared_error: 2.4338 - mean_absolute_error: 1.3802 - val_loss: 1.3885 - val_root_mean_squared_error: 1.1784 - val_mean_absolute_error: 0.8423\n",
            "Epoch 15/20\n",
            "19/19 [==============================] - 137s 7s/step - loss: 6.9204 - root_mean_squared_error: 2.6307 - mean_absolute_error: 1.4781 - val_loss: 1.3834 - val_root_mean_squared_error: 1.1762 - val_mean_absolute_error: 0.8435\n",
            "Epoch 16/20\n",
            "19/19 [==============================] - 137s 7s/step - loss: 6.4581 - root_mean_squared_error: 2.5413 - mean_absolute_error: 1.4624 - val_loss: 1.3604 - val_root_mean_squared_error: 1.1664 - val_mean_absolute_error: 0.8492\n",
            "Epoch 17/20\n",
            "19/19 [==============================] - 137s 7s/step - loss: 7.0013 - root_mean_squared_error: 2.6460 - mean_absolute_error: 1.4477 - val_loss: 1.3158 - val_root_mean_squared_error: 1.1471 - val_mean_absolute_error: 0.8649\n",
            "Epoch 18/20\n",
            "19/19 [==============================] - 137s 7s/step - loss: 6.4459 - root_mean_squared_error: 2.5389 - mean_absolute_error: 1.4957 - val_loss: 1.3528 - val_root_mean_squared_error: 1.1631 - val_mean_absolute_error: 0.8513\n",
            "Epoch 19/20\n",
            "19/19 [==============================] - 137s 7s/step - loss: 6.6874 - root_mean_squared_error: 2.5860 - mean_absolute_error: 1.4428 - val_loss: 1.3937 - val_root_mean_squared_error: 1.1806 - val_mean_absolute_error: 0.8412\n",
            "Epoch 20/20\n",
            "19/19 [==============================] - 137s 7s/step - loss: 6.0478 - root_mean_squared_error: 2.4592 - mean_absolute_error: 1.4858 - val_loss: 1.3067 - val_root_mean_squared_error: 1.1431 - val_mean_absolute_error: 0.8705\n"
          ]
        }
      ]
    },
    {
      "cell_type": "markdown",
      "source": [
        "PLOTTING THE LSTM"
      ],
      "metadata": {
        "id": "cMh6KzhXwdWy"
      }
    },
    {
      "cell_type": "code",
      "source": [
        "plot_loss(model)"
      ],
      "metadata": {
        "id": "G_6d1pe_xcLz",
        "colab": {
          "base_uri": "https://localhost:8080/",
          "height": 283
        },
        "outputId": "a0366dd3-7bd0-4f32-bbd5-986de0d6457f"
      },
      "execution_count": null,
      "outputs": [
        {
          "output_type": "display_data",
          "data": {
            "text/plain": [
              "<Figure size 432x288 with 1 Axes>"
            ],
            "image/png": "[encoded data removed]"
          },
          "metadata": {
            "needs_background": "light"
          }
        }
      ]
    },
    {
      "cell_type": "markdown",
      "source": [
        "## ACCURATE\n"
      ],
      "metadata": {
        "id": "0kNBfmpIwiAO"
      }
    },
    {
      "cell_type": "markdown",
      "source": [
        "\n",
        "SPLITTING THE DATA"
      ],
      "metadata": {
        "id": "uwyB-fVM0i-l"
      }
    },
    {
      "cell_type": "code",
      "source": [
        "c = yAccurate\n",
        "from sklearn.model_selection import train_test_split\n",
        "\n",
        "X = d\n",
        "y=  c\n",
        "\n",
        "X_train, X_test, y_train, y_test = train_test_split(X, y, test_size=0.17, random_state=42)"
      ],
      "metadata": {
        "id": "vcO-70Zxx0C_"
      },
      "execution_count": null,
      "outputs": []
    },
    {
      "cell_type": "markdown",
      "source": [
        "BI_LSTM"
      ],
      "metadata": {
        "id": "OFDa_jOsWnB9"
      }
    },
    {
      "cell_type": "code",
      "source": [
        "params = {\n",
        "    \"loss\": \"mean_squared_error\",\n",
        "    \"optimizer\": \"adam\",\n",
        "    \"dropout\": 0.2,\n",
        "    \"learning rate\": 1e-3, \n",
        "    \"lstm_units\": 200,\n",
        "    \"epochs\": 10,\n",
        "    \"batch_size\": 8,\n",
        "    \"es_patience\" : 0.4\n",
        "}\n",
        "\n",
        "model = get_model_BI_LSTM(params=params, input_shape=X_train.shape[1])\n",
        "\n",
        "es_callback = tf.keras.callbacks.EarlyStopping(monitor='val_root_mean_squared_error',\n",
        "                                           \tmode='min', \n",
        "patience=params[\"es_patience\"])\n",
        "\n",
        "model = model = model.fit(\n",
        "    X_train,\n",
        "    y_train,\n",
        "    validation_data=(X_test, y_test),\n",
        "    epochs=params[\"epochs\"],\n",
        "    batch_size=params[\"batch_size\"],\n",
        "    verbose=1\n",
        ")\n"
      ],
      "metadata": {
        "id": "FNTPkea2WnSe",
        "colab": {
          "base_uri": "https://localhost:8080/"
        },
        "outputId": "be3c52d9-ec8c-48f6-d8b1-fb450c53231f"
      },
      "execution_count": null,
      "outputs": [
        {
          "output_type": "stream",
          "name": "stdout",
          "text": [
            "Epoch 1/10\n",
            "19/19 [==============================] - 55s 2s/step - loss: 657.2177 - root_mean_squared_error: 25.6363 - mean_absolute_error: 23.4502 - val_loss: 124.3894 - val_root_mean_squared_error: 11.1530 - val_mean_absolute_error: 10.5555\n",
            "Epoch 2/10\n",
            "19/19 [==============================] - 35s 2s/step - loss: 89.3336 - root_mean_squared_error: 9.4516 - mean_absolute_error: 7.7499 - val_loss: 29.7951 - val_root_mean_squared_error: 5.4585 - val_mean_absolute_error: 4.0958\n",
            "Epoch 3/10\n",
            "19/19 [==============================] - 35s 2s/step - loss: 52.2009 - root_mean_squared_error: 7.2250 - mean_absolute_error: 4.1732 - val_loss: 14.5029 - val_root_mean_squared_error: 3.8083 - val_mean_absolute_error: 2.3146\n",
            "Epoch 4/10\n",
            "19/19 [==============================] - 35s 2s/step - loss: 49.4110 - root_mean_squared_error: 7.0293 - mean_absolute_error: 3.6666 - val_loss: 13.1222 - val_root_mean_squared_error: 3.6225 - val_mean_absolute_error: 2.2547\n",
            "Epoch 5/10\n",
            "19/19 [==============================] - 35s 2s/step - loss: 47.1033 - root_mean_squared_error: 6.8632 - mean_absolute_error: 3.4467 - val_loss: 13.6934 - val_root_mean_squared_error: 3.7005 - val_mean_absolute_error: 2.2883\n",
            "Epoch 6/10\n",
            "19/19 [==============================] - 35s 2s/step - loss: 47.8352 - root_mean_squared_error: 6.9163 - mean_absolute_error: 3.6537 - val_loss: 13.5449 - val_root_mean_squared_error: 3.6803 - val_mean_absolute_error: 2.2819\n",
            "Epoch 7/10\n",
            "19/19 [==============================] - 35s 2s/step - loss: 48.0650 - root_mean_squared_error: 6.9329 - mean_absolute_error: 3.6153 - val_loss: 13.5934 - val_root_mean_squared_error: 3.6869 - val_mean_absolute_error: 2.2841\n",
            "Epoch 8/10\n",
            "19/19 [==============================] - 35s 2s/step - loss: 49.4596 - root_mean_squared_error: 7.0328 - mean_absolute_error: 3.7034 - val_loss: 15.8139 - val_root_mean_squared_error: 3.9767 - val_mean_absolute_error: 2.3451\n",
            "Epoch 9/10\n",
            "19/19 [==============================] - 35s 2s/step - loss: 50.0400 - root_mean_squared_error: 7.0739 - mean_absolute_error: 3.7202 - val_loss: 14.5971 - val_root_mean_squared_error: 3.8206 - val_mean_absolute_error: 2.3174\n",
            "Epoch 10/10\n",
            "19/19 [==============================] - 35s 2s/step - loss: 48.1774 - root_mean_squared_error: 6.9410 - mean_absolute_error: 3.6161 - val_loss: 13.8054 - val_root_mean_squared_error: 3.7156 - val_mean_absolute_error: 2.2927\n"
          ]
        }
      ]
    },
    {
      "cell_type": "markdown",
      "source": [
        "PLOTING BI_LSTM"
      ],
      "metadata": {
        "id": "cj0ZmnEjWkXK"
      }
    },
    {
      "cell_type": "code",
      "source": [
        "plot_loss(model)"
      ],
      "metadata": {
        "id": "PIclMj1IWj6v",
        "colab": {
          "base_uri": "https://localhost:8080/",
          "height": 283
        },
        "outputId": "e800b503-3d77-4af1-b955-401050b7e806"
      },
      "execution_count": null,
      "outputs": [
        {
          "output_type": "display_data",
          "data": {
            "text/plain": [
              "<Figure size 432x288 with 1 Axes>"
            ],
            "image/png": "[encoded data removed]"
          },
          "metadata": {
            "needs_background": "light"
          }
        }
      ]
    },
    {
      "cell_type": "markdown",
      "source": [
        "GRU"
      ],
      "metadata": {
        "id": "ca5deFJ6whUh"
      }
    },
    {
      "cell_type": "code",
      "source": [
        "params = {\n",
        "    \"loss\": \"mean_squared_error\",\n",
        "    \"optimizer\": \"adam\",\n",
        "    \"dropout\": 0.2,\n",
        "    \"learning rate\": 1e-3, \n",
        "    \"gru_units\": 400,\n",
        "    \"epochs\": 100,\n",
        "    \"batch_size\": 16,\n",
        "    \"es_patience\" : 0.4\n",
        "}\n",
        "\n",
        "model = get_model_GRU(params=params, input_shape=X_train.shape[1])\n",
        "\n",
        "es_callback = tf.keras.callbacks.EarlyStopping(monitor='val_root_mean_squared_error',\n",
        "                                           \tmode='min', \n",
        "patience=params[\"es_patience\"])\n",
        "\n",
        "model = model.fit(\n",
        "    X_train,\n",
        "    y_train,\n",
        "    validation_data=(X_test, y_test),\n",
        "    epochs=params[\"epochs\"],\n",
        "    batch_size=params[\"batch_size\"],\n",
        "    verbose=1\n",
        ")"
      ],
      "metadata": {
        "id": "8GrbQlwwx6Aq",
        "colab": {
          "base_uri": "https://localhost:8080/"
        },
        "outputId": "441354e6-23c0-457b-de60-763fa3dbe94b"
      },
      "execution_count": null,
      "outputs": [
        {
          "output_type": "stream",
          "name": "stdout",
          "text": [
            "Epoch 1/100\n",
            "10/10 [==============================] - 97s 7s/step - loss: 734.8798 - root_mean_squared_error: 27.1087 - mean_absolute_error: 24.2885 - val_loss: 273.7710 - val_root_mean_squared_error: 16.5460 - val_mean_absolute_error: 13.5655\n",
            "Epoch 2/100\n",
            "10/10 [==============================] - 72s 7s/step - loss: 344.9958 - root_mean_squared_error: 18.5741 - mean_absolute_error: 13.3123 - val_loss: 930.5491 - val_root_mean_squared_error: 30.5049 - val_mean_absolute_error: 20.2897\n",
            "Epoch 3/100\n",
            "10/10 [==============================] - 72s 7s/step - loss: 693.7510 - root_mean_squared_error: 26.3392 - mean_absolute_error: 16.3713 - val_loss: 1393.8383 - val_root_mean_squared_error: 37.3341 - val_mean_absolute_error: 25.9886\n",
            "Epoch 4/100\n",
            "10/10 [==============================] - 72s 7s/step - loss: 1326.2773 - root_mean_squared_error: 36.4181 - mean_absolute_error: 25.8075 - val_loss: 1896.8634 - val_root_mean_squared_error: 43.5530 - val_mean_absolute_error: 35.4916\n",
            "Epoch 5/100\n",
            "10/10 [==============================] - 72s 7s/step - loss: 1383.1859 - root_mean_squared_error: 37.1912 - mean_absolute_error: 29.7451 - val_loss: 1304.8759 - val_root_mean_squared_error: 36.1231 - val_mean_absolute_error: 30.7873\n",
            "Epoch 6/100\n",
            "10/10 [==============================] - 72s 7s/step - loss: 1228.4938 - root_mean_squared_error: 35.0499 - mean_absolute_error: 30.2402 - val_loss: 1118.3380 - val_root_mean_squared_error: 33.4416 - val_mean_absolute_error: 30.2096\n",
            "Epoch 7/100\n",
            "10/10 [==============================] - 73s 7s/step - loss: 937.7230 - root_mean_squared_error: 30.6223 - mean_absolute_error: 27.3506 - val_loss: 840.7634 - val_root_mean_squared_error: 28.9959 - val_mean_absolute_error: 26.9363\n",
            "Epoch 8/100\n",
            "10/10 [==============================] - 73s 7s/step - loss: 661.8367 - root_mean_squared_error: 25.7262 - mean_absolute_error: 23.5985 - val_loss: 597.1728 - val_root_mean_squared_error: 24.4371 - val_mean_absolute_error: 23.0781\n",
            "Epoch 9/100\n",
            "10/10 [==============================] - 72s 7s/step - loss: 477.6952 - root_mean_squared_error: 21.8562 - mean_absolute_error: 20.2950 - val_loss: 431.6979 - val_root_mean_squared_error: 20.7773 - val_mean_absolute_error: 20.0068\n",
            "Epoch 10/100\n",
            "10/10 [==============================] - 72s 7s/step - loss: 346.0199 - root_mean_squared_error: 18.6016 - mean_absolute_error: 17.4195 - val_loss: 245.7966 - val_root_mean_squared_error: 15.6779 - val_mean_absolute_error: 15.0763\n",
            "Epoch 11/100\n",
            "10/10 [==============================] - 72s 7s/step - loss: 217.1507 - root_mean_squared_error: 14.7360 - mean_absolute_error: 13.6992 - val_loss: 237.5231 - val_root_mean_squared_error: 15.4118 - val_mean_absolute_error: 13.4717\n",
            "Epoch 12/100\n",
            "10/10 [==============================] - 72s 7s/step - loss: 163.7325 - root_mean_squared_error: 12.7958 - mean_absolute_error: 11.3435 - val_loss: 97.4007 - val_root_mean_squared_error: 9.8692 - val_mean_absolute_error: 9.2284\n",
            "Epoch 13/100\n",
            "10/10 [==============================] - 72s 7s/step - loss: 100.9260 - root_mean_squared_error: 10.0462 - mean_absolute_error: 8.5183 - val_loss: 53.7277 - val_root_mean_squared_error: 7.3299 - val_mean_absolute_error: 6.3764\n",
            "Epoch 14/100\n",
            "10/10 [==============================] - 72s 7s/step - loss: 68.2069 - root_mean_squared_error: 8.2587 - mean_absolute_error: 6.2020 - val_loss: 34.2934 - val_root_mean_squared_error: 5.8561 - val_mean_absolute_error: 4.5192\n",
            "Epoch 15/100\n",
            "10/10 [==============================] - 72s 7s/step - loss: 57.4382 - root_mean_squared_error: 7.5788 - mean_absolute_error: 4.8533 - val_loss: 24.8765 - val_root_mean_squared_error: 4.9876 - val_mean_absolute_error: 3.3609\n",
            "Epoch 16/100\n",
            "10/10 [==============================] - 72s 7s/step - loss: 49.0026 - root_mean_squared_error: 7.0002 - mean_absolute_error: 4.0887 - val_loss: 20.0453 - val_root_mean_squared_error: 4.4772 - val_mean_absolute_error: 2.8457\n",
            "Epoch 17/100\n",
            "10/10 [==============================] - 72s 7s/step - loss: 51.1982 - root_mean_squared_error: 7.1553 - mean_absolute_error: 3.9974 - val_loss: 17.2582 - val_root_mean_squared_error: 4.1543 - val_mean_absolute_error: 2.5506\n",
            "Epoch 18/100\n",
            "10/10 [==============================] - 72s 7s/step - loss: 48.1119 - root_mean_squared_error: 6.9363 - mean_absolute_error: 3.7275 - val_loss: 15.9926 - val_root_mean_squared_error: 3.9991 - val_mean_absolute_error: 2.5041\n",
            "Epoch 19/100\n",
            "10/10 [==============================] - 72s 7s/step - loss: 46.2949 - root_mean_squared_error: 6.8040 - mean_absolute_error: 3.5659 - val_loss: 15.4107 - val_root_mean_squared_error: 3.9257 - val_mean_absolute_error: 2.4798\n",
            "Epoch 20/100\n",
            "10/10 [==============================] - 72s 7s/step - loss: 49.3195 - root_mean_squared_error: 7.0228 - mean_absolute_error: 3.7059 - val_loss: 14.7399 - val_root_mean_squared_error: 3.8393 - val_mean_absolute_error: 2.4209\n",
            "Epoch 21/100\n",
            "10/10 [==============================] - 72s 7s/step - loss: 47.7169 - root_mean_squared_error: 6.9077 - mean_absolute_error: 3.7282 - val_loss: 14.6217 - val_root_mean_squared_error: 3.8238 - val_mean_absolute_error: 2.4141\n",
            "Epoch 22/100\n",
            "10/10 [==============================] - 72s 7s/step - loss: 48.6088 - root_mean_squared_error: 6.9720 - mean_absolute_error: 3.7144 - val_loss: 14.5794 - val_root_mean_squared_error: 3.8183 - val_mean_absolute_error: 2.4086\n",
            "Epoch 23/100\n",
            "10/10 [==============================] - 72s 7s/step - loss: 49.3881 - root_mean_squared_error: 7.0277 - mean_absolute_error: 3.6688 - val_loss: 14.7371 - val_root_mean_squared_error: 3.8389 - val_mean_absolute_error: 2.4161\n",
            "Epoch 24/100\n",
            "10/10 [==============================] - 72s 7s/step - loss: 48.7306 - root_mean_squared_error: 6.9807 - mean_absolute_error: 3.5882 - val_loss: 14.7929 - val_root_mean_squared_error: 3.8462 - val_mean_absolute_error: 2.4073\n",
            "Epoch 25/100\n",
            "10/10 [==============================] - 72s 7s/step - loss: 46.6716 - root_mean_squared_error: 6.8317 - mean_absolute_error: 3.6512 - val_loss: 14.4624 - val_root_mean_squared_error: 3.8030 - val_mean_absolute_error: 2.3952\n",
            "Epoch 26/100\n",
            "10/10 [==============================] - 72s 7s/step - loss: 45.1372 - root_mean_squared_error: 6.7184 - mean_absolute_error: 3.6070 - val_loss: 14.6532 - val_root_mean_squared_error: 3.8279 - val_mean_absolute_error: 2.4056\n",
            "Epoch 27/100\n",
            "10/10 [==============================] - 72s 7s/step - loss: 49.7415 - root_mean_squared_error: 7.0528 - mean_absolute_error: 3.7121 - val_loss: 14.6896 - val_root_mean_squared_error: 3.8327 - val_mean_absolute_error: 2.4010\n",
            "Epoch 28/100\n",
            " 2/10 [=====>........................] - ETA: 54s - loss: 23.7108 - root_mean_squared_error: 4.8694 - mean_absolute_error: 3.2184 "
          ]
        }
      ]
    },
    {
      "cell_type": "markdown",
      "source": [
        "PLOTTING GRU"
      ],
      "metadata": {
        "id": "sZ8goRkCwoLZ"
      }
    },
    {
      "cell_type": "code",
      "source": [
        "plot_loss(model)"
      ],
      "metadata": {
        "id": "PbdbJFr3xcxW",
        "colab": {
          "base_uri": "https://localhost:8080/",
          "height": 283
        },
        "outputId": "87d77514-9e43-4485-f8be-9eae94952272"
      },
      "execution_count": null,
      "outputs": [
        {
          "output_type": "display_data",
          "data": {
            "text/plain": [
              "<Figure size 432x288 with 1 Axes>"
            ],
            "image/png": "[encoded data removed]"
          },
          "metadata": {
            "needs_background": "light"
          }
        }
      ]
    },
    {
      "cell_type": "markdown",
      "source": [
        "LSTM"
      ],
      "metadata": {
        "id": "xGUB6_X4wsBB"
      }
    },
    {
      "cell_type": "code",
      "source": [
        "params = {\n",
        "    \"loss\": \"mean_squared_error\",\n",
        "    \"optimizer\": \"adam\",\n",
        "    \"dropout\": 0.2,\n",
        "    \"learning rate\": 1e-4, \n",
        "    \"lstm_units\": 400,\n",
        "    \"epochs\": 20,\n",
        "    \"batch_size\": 8,\n",
        "    \"es_patience\" : 0.4\n",
        "}\n",
        "\n",
        "model = get_model_LSTM(params=params, input_shape=X_train.shape[1])\n",
        "\n",
        "es_callback = tf.keras.callbacks.EarlyStopping(monitor='val_root_mean_squared_error',\n",
        "                                           \tmode='min', \n",
        "patience=params[\"es_patience\"])\n",
        "\n",
        "model = model.fit(\n",
        "    X_train,\n",
        "    y_train,\n",
        "    validation_data=(X_test, y_test),\n",
        "    epochs=params[\"epochs\"],\n",
        "    batch_size=params[\"batch_size\"],\n",
        "    verbose=1\n",
        ")"
      ],
      "metadata": {
        "id": "27TPiLplx7VN",
        "colab": {
          "base_uri": "https://localhost:8080/"
        },
        "outputId": "02dee1c0-942c-4152-d7e0-32d3be62d2ce"
      },
      "execution_count": null,
      "outputs": [
        {
          "output_type": "stream",
          "name": "stdout",
          "text": [
            "Epoch 1/20\n",
            "19/19 [==============================] - 34s 1s/step - loss: 708.5137 - root_mean_squared_error: 26.6179 - mean_absolute_error: 23.6184 - val_loss: 799.5411 - val_root_mean_squared_error: 28.2762 - val_mean_absolute_error: 25.0123\n",
            "Epoch 2/20\n",
            "19/19 [==============================] - 27s 1s/step - loss: 665.3332 - root_mean_squared_error: 25.7941 - mean_absolute_error: 21.7113 - val_loss: 692.8132 - val_root_mean_squared_error: 26.3213 - val_mean_absolute_error: 23.1040\n",
            "Epoch 3/20\n",
            "19/19 [==============================] - 28s 1s/step - loss: 250.0495 - root_mean_squared_error: 15.8130 - mean_absolute_error: 11.2281 - val_loss: 23.7378 - val_root_mean_squared_error: 4.8722 - val_mean_absolute_error: 3.2510\n",
            "Epoch 4/20\n",
            "19/19 [==============================] - 28s 1s/step - loss: 50.0671 - root_mean_squared_error: 7.0758 - mean_absolute_error: 3.9687 - val_loss: 17.8639 - val_root_mean_squared_error: 4.2266 - val_mean_absolute_error: 2.9536\n",
            "Epoch 5/20\n",
            "19/19 [==============================] - 28s 1s/step - loss: 49.6609 - root_mean_squared_error: 7.0470 - mean_absolute_error: 3.8390 - val_loss: 16.3994 - val_root_mean_squared_error: 4.0496 - val_mean_absolute_error: 2.6776\n",
            "Epoch 6/20\n",
            "19/19 [==============================] - 28s 1s/step - loss: 51.4645 - root_mean_squared_error: 7.1739 - mean_absolute_error: 4.0066 - val_loss: 15.9109 - val_root_mean_squared_error: 3.9888 - val_mean_absolute_error: 2.7363\n",
            "Epoch 7/20\n",
            "19/19 [==============================] - 28s 1s/step - loss: 47.6274 - root_mean_squared_error: 6.9013 - mean_absolute_error: 3.7511 - val_loss: 15.6885 - val_root_mean_squared_error: 3.9609 - val_mean_absolute_error: 2.5774\n",
            "Epoch 8/20\n",
            "19/19 [==============================] - 28s 1s/step - loss: 47.6168 - root_mean_squared_error: 6.9005 - mean_absolute_error: 3.7171 - val_loss: 16.1422 - val_root_mean_squared_error: 4.0177 - val_mean_absolute_error: 2.5517\n",
            "Epoch 9/20\n",
            "19/19 [==============================] - 28s 1s/step - loss: 48.1162 - root_mean_squared_error: 6.9366 - mean_absolute_error: 3.6754 - val_loss: 15.5273 - val_root_mean_squared_error: 3.9405 - val_mean_absolute_error: 2.4760\n",
            "Epoch 10/20\n",
            "19/19 [==============================] - 28s 1s/step - loss: 48.1830 - root_mean_squared_error: 6.9414 - mean_absolute_error: 3.7531 - val_loss: 15.5849 - val_root_mean_squared_error: 3.9478 - val_mean_absolute_error: 2.4725\n",
            "Epoch 11/20\n",
            "19/19 [==============================] - 28s 1s/step - loss: 49.6007 - root_mean_squared_error: 7.0428 - mean_absolute_error: 3.7672 - val_loss: 14.6700 - val_root_mean_squared_error: 3.8301 - val_mean_absolute_error: 2.4251\n",
            "Epoch 12/20\n",
            "19/19 [==============================] - 28s 1s/step - loss: 48.3838 - root_mean_squared_error: 6.9558 - mean_absolute_error: 3.6895 - val_loss: 14.6677 - val_root_mean_squared_error: 3.8298 - val_mean_absolute_error: 2.4036\n",
            "Epoch 13/20\n",
            "19/19 [==============================] - 28s 1s/step - loss: 47.0118 - root_mean_squared_error: 6.8565 - mean_absolute_error: 3.6138 - val_loss: 14.7870 - val_root_mean_squared_error: 3.8454 - val_mean_absolute_error: 2.4023\n",
            "Epoch 14/20\n",
            "19/19 [==============================] - 28s 1s/step - loss: 48.0355 - root_mean_squared_error: 6.9308 - mean_absolute_error: 3.6961 - val_loss: 14.5126 - val_root_mean_squared_error: 3.8095 - val_mean_absolute_error: 2.3941\n",
            "Epoch 15/20\n",
            "19/19 [==============================] - 28s 1s/step - loss: 48.0846 - root_mean_squared_error: 6.9343 - mean_absolute_error: 3.7315 - val_loss: 14.4438 - val_root_mean_squared_error: 3.8005 - val_mean_absolute_error: 2.3880\n",
            "Epoch 16/20\n",
            "19/19 [==============================] - 28s 1s/step - loss: 49.3414 - root_mean_squared_error: 7.0243 - mean_absolute_error: 3.6775 - val_loss: 14.0440 - val_root_mean_squared_error: 3.7475 - val_mean_absolute_error: 2.4180\n",
            "Epoch 17/20\n",
            "19/19 [==============================] - 28s 1s/step - loss: 45.8590 - root_mean_squared_error: 6.7719 - mean_absolute_error: 3.5728 - val_loss: 14.4495 - val_root_mean_squared_error: 3.8012 - val_mean_absolute_error: 2.3972\n",
            "Epoch 18/20\n",
            "19/19 [==============================] - 28s 1s/step - loss: 48.0480 - root_mean_squared_error: 6.9317 - mean_absolute_error: 3.6204 - val_loss: 15.2902 - val_root_mean_squared_error: 3.9103 - val_mean_absolute_error: 2.4260\n",
            "Epoch 19/20\n",
            "19/19 [==============================] - 28s 1s/step - loss: 49.7309 - root_mean_squared_error: 7.0520 - mean_absolute_error: 3.6659 - val_loss: 14.4759 - val_root_mean_squared_error: 3.8047 - val_mean_absolute_error: 2.3951\n",
            "Epoch 20/20\n",
            "19/19 [==============================] - 28s 1s/step - loss: 50.2359 - root_mean_squared_error: 7.0877 - mean_absolute_error: 3.7415 - val_loss: 14.3615 - val_root_mean_squared_error: 3.7897 - val_mean_absolute_error: 2.3935\n"
          ]
        }
      ]
    },
    {
      "cell_type": "markdown",
      "source": [
        "PLOTTING THE LSTM"
      ],
      "metadata": {
        "id": "Pa6W4W27wtzC"
      }
    },
    {
      "cell_type": "code",
      "source": [
        "plot_loss(model)"
      ],
      "metadata": {
        "id": "4aGLZOoxxe-o"
      },
      "execution_count": null,
      "outputs": []
    },
    {
      "cell_type": "markdown",
      "source": [
        "## CONTEMPORANEOUS\n",
        "\n"
      ],
      "metadata": {
        "id": "XaQs-4MawwXM"
      }
    },
    {
      "cell_type": "markdown",
      "source": [
        "SPLITING THE DATA"
      ],
      "metadata": {
        "id": "52DAxnA60-lo"
      }
    },
    {
      "cell_type": "code",
      "source": [
        "c = yContemporaneous\n",
        "from sklearn.model_selection import train_test_split\n",
        "\n",
        "X = d\n",
        "y=  c\n",
        "\n",
        "X_train, X_test, y_train, y_test = train_test_split(X, y, test_size=0.17, random_state=42)"
      ],
      "metadata": {
        "id": "XiTUXv_WyBq3"
      },
      "execution_count": null,
      "outputs": []
    },
    {
      "cell_type": "markdown",
      "source": [
        "BI_LSTM"
      ],
      "metadata": {
        "id": "_XASkPk2W3m5"
      }
    },
    {
      "cell_type": "code",
      "source": [
        "params = {\n",
        "    \"loss\": \"mean_squared_error\",\n",
        "    \"optimizer\": \"adam\",\n",
        "    \"dropout\": 0.2,\n",
        "    \"learning rate\": 1e-3, \n",
        "    \"lstm_units\": 200,\n",
        "    \"epochs\": 40,\n",
        "    \"batch_size\": 8,\n",
        "    \"es_patience\" : 0.5\n",
        "}\n",
        "\n",
        "model = get_model_BI_LSTM(params=params, input_shape=X_train.shape[1])\n",
        "\n",
        "es_callback = tf.keras.callbacks.EarlyStopping(monitor='val_root_mean_squared_error',\n",
        "                                           \tmode='min', \n",
        "patience=params[\"es_patience\"])\n",
        "\n",
        "model = model = model.fit(\n",
        "    X_train,\n",
        "    y_train,\n",
        "    validation_data=(X_test, y_test),\n",
        "    epochs=params[\"epochs\"],\n",
        "    batch_size=params[\"batch_size\"],\n",
        "    verbose=1\n",
        ")"
      ],
      "metadata": {
        "id": "7K4A89X7W3sf",
        "colab": {
          "base_uri": "https://localhost:8080/"
        },
        "outputId": "5aae0ea6-11f8-4ec8-8c9e-9523f0630e9c"
      },
      "execution_count": null,
      "outputs": [
        {
          "output_type": "stream",
          "name": "stdout",
          "text": [
            "Epoch 1/40\n",
            "19/19 [==============================] - 53s 2s/step - loss: 4878.0952 - root_mean_squared_error: 69.8434 - mean_absolute_error: 68.8769 - val_loss: 3379.6062 - val_root_mean_squared_error: 58.1344 - val_mean_absolute_error: 57.8109\n",
            "Epoch 2/40\n",
            "19/19 [==============================] - 35s 2s/step - loss: 2870.5688 - root_mean_squared_error: 53.5777 - mean_absolute_error: 53.1699 - val_loss: 2535.3970 - val_root_mean_squared_error: 50.3527 - val_mean_absolute_error: 49.9789\n",
            "Epoch 3/40\n",
            "19/19 [==============================] - 35s 2s/step - loss: 2163.7791 - root_mean_squared_error: 46.5164 - mean_absolute_error: 46.0372 - val_loss: 1883.3003 - val_root_mean_squared_error: 43.3970 - val_mean_absolute_error: 42.9627\n",
            "Epoch 4/40\n",
            "19/19 [==============================] - 35s 2s/step - loss: 1568.5198 - root_mean_squared_error: 39.6045 - mean_absolute_error: 38.9541 - val_loss: 1366.7028 - val_root_mean_squared_error: 36.9689 - val_mean_absolute_error: 36.4581\n",
            "Epoch 5/40\n",
            "19/19 [==============================] - 35s 2s/step - loss: 1123.5422 - root_mean_squared_error: 33.5193 - mean_absolute_error: 32.8900 - val_loss: 983.6025 - val_root_mean_squared_error: 31.3624 - val_mean_absolute_error: 30.7587\n",
            "Epoch 6/40\n",
            "19/19 [==============================] - 35s 2s/step - loss: 792.2919 - root_mean_squared_error: 28.1477 - mean_absolute_error: 27.3601 - val_loss: 696.1352 - val_root_mean_squared_error: 26.3844 - val_mean_absolute_error: 25.6638\n",
            "Epoch 7/40\n",
            "19/19 [==============================] - 35s 2s/step - loss: 557.7439 - root_mean_squared_error: 23.6166 - mean_absolute_error: 22.8069 - val_loss: 486.2318 - val_root_mean_squared_error: 22.0507 - val_mean_absolute_error: 21.2643\n",
            "Epoch 8/40\n",
            "19/19 [==============================] - 35s 2s/step - loss: 391.2151 - root_mean_squared_error: 19.7792 - mean_absolute_error: 18.9860 - val_loss: 338.5338 - val_root_mean_squared_error: 18.3993 - val_mean_absolute_error: 17.6901\n",
            "Epoch 9/40\n",
            "19/19 [==============================] - 35s 2s/step - loss: 276.4535 - root_mean_squared_error: 16.6269 - mean_absolute_error: 15.9880 - val_loss: 234.9727 - val_root_mean_squared_error: 15.3288 - val_mean_absolute_error: 14.8320\n",
            "Epoch 10/40\n",
            "19/19 [==============================] - 35s 2s/step - loss: 188.3022 - root_mean_squared_error: 13.7223 - mean_absolute_error: 13.2123 - val_loss: 163.9498 - val_root_mean_squared_error: 12.8043 - val_mean_absolute_error: 12.3987\n",
            "Epoch 11/40\n",
            "19/19 [==============================] - 35s 2s/step - loss: 130.7938 - root_mean_squared_error: 11.4365 - mean_absolute_error: 10.9437 - val_loss: 116.6494 - val_root_mean_squared_error: 10.8004 - val_mean_absolute_error: 10.3634\n",
            "Epoch 12/40\n",
            "19/19 [==============================] - 35s 2s/step - loss: 92.9900 - root_mean_squared_error: 9.6431 - mean_absolute_error: 8.8804 - val_loss: 86.8086 - val_root_mean_squared_error: 9.3171 - val_mean_absolute_error: 8.7387\n",
            "Epoch 13/40\n",
            "19/19 [==============================] - 35s 2s/step - loss: 72.2544 - root_mean_squared_error: 8.5003 - mean_absolute_error: 7.4193 - val_loss: 68.9912 - val_root_mean_squared_error: 8.3061 - val_mean_absolute_error: 7.5689\n",
            "Epoch 14/40\n",
            "19/19 [==============================] - 35s 2s/step - loss: 64.2455 - root_mean_squared_error: 8.0153 - mean_absolute_error: 6.7964 - val_loss: 56.4976 - val_root_mean_squared_error: 7.5165 - val_mean_absolute_error: 6.5719\n",
            "Epoch 15/40\n",
            "19/19 [==============================] - 36s 2s/step - loss: 51.2595 - root_mean_squared_error: 7.1596 - mean_absolute_error: 5.7477 - val_loss: 49.3134 - val_root_mean_squared_error: 7.0223 - val_mean_absolute_error: 5.9574\n",
            "Epoch 16/40\n",
            "19/19 [==============================] - 35s 2s/step - loss: 47.5119 - root_mean_squared_error: 6.8929 - mean_absolute_error: 5.3578 - val_loss: 45.3395 - val_root_mean_squared_error: 6.7335 - val_mean_absolute_error: 5.5726\n",
            "Epoch 17/40\n",
            "19/19 [==============================] - 35s 2s/step - loss: 47.3612 - root_mean_squared_error: 6.8819 - mean_absolute_error: 5.0809 - val_loss: 42.3235 - val_root_mean_squared_error: 6.5057 - val_mean_absolute_error: 5.2239\n",
            "Epoch 18/40\n",
            "19/19 [==============================] - 35s 2s/step - loss: 49.7096 - root_mean_squared_error: 7.0505 - mean_absolute_error: 4.9918 - val_loss: 41.4181 - val_root_mean_squared_error: 6.4357 - val_mean_absolute_error: 5.1081\n",
            "Epoch 19/40\n",
            "19/19 [==============================] - 35s 2s/step - loss: 45.2683 - root_mean_squared_error: 6.7282 - mean_absolute_error: 4.7644 - val_loss: 40.3898 - val_root_mean_squared_error: 6.3553 - val_mean_absolute_error: 4.9589\n",
            "Epoch 20/40\n",
            "19/19 [==============================] - 35s 2s/step - loss: 51.4275 - root_mean_squared_error: 7.1713 - mean_absolute_error: 4.8441 - val_loss: 39.5728 - val_root_mean_squared_error: 6.2907 - val_mean_absolute_error: 4.8200\n",
            "Epoch 21/40\n",
            "19/19 [==============================] - 36s 2s/step - loss: 43.3408 - root_mean_squared_error: 6.5834 - mean_absolute_error: 4.5861 - val_loss: 39.7657 - val_root_mean_squared_error: 6.3060 - val_mean_absolute_error: 4.8549\n",
            "Epoch 22/40\n",
            "19/19 [==============================] - 35s 2s/step - loss: 46.7208 - root_mean_squared_error: 6.8353 - mean_absolute_error: 4.6670 - val_loss: 39.2138 - val_root_mean_squared_error: 6.2621 - val_mean_absolute_error: 4.7502\n",
            "Epoch 23/40\n",
            "19/19 [==============================] - 36s 2s/step - loss: 46.5669 - root_mean_squared_error: 6.8240 - mean_absolute_error: 4.3764 - val_loss: 38.7640 - val_root_mean_squared_error: 6.2261 - val_mean_absolute_error: 4.6514\n",
            "Epoch 24/40\n",
            "19/19 [==============================] - 35s 2s/step - loss: 47.0742 - root_mean_squared_error: 6.8611 - mean_absolute_error: 4.5571 - val_loss: 38.8395 - val_root_mean_squared_error: 6.2321 - val_mean_absolute_error: 4.6691\n",
            "Epoch 25/40\n",
            "19/19 [==============================] - 35s 2s/step - loss: 47.7083 - root_mean_squared_error: 6.9071 - mean_absolute_error: 4.8521 - val_loss: 38.6821 - val_root_mean_squared_error: 6.2195 - val_mean_absolute_error: 4.6315\n",
            "Epoch 26/40\n",
            "19/19 [==============================] - 35s 2s/step - loss: 46.1521 - root_mean_squared_error: 6.7935 - mean_absolute_error: 4.6228 - val_loss: 39.0397 - val_root_mean_squared_error: 6.2482 - val_mean_absolute_error: 4.7137\n",
            "Epoch 27/40\n",
            "19/19 [==============================] - 36s 2s/step - loss: 45.8225 - root_mean_squared_error: 6.7692 - mean_absolute_error: 4.5095 - val_loss: 38.7870 - val_root_mean_squared_error: 6.2279 - val_mean_absolute_error: 4.6568\n",
            "Epoch 28/40\n",
            "19/19 [==============================] - 36s 2s/step - loss: 43.2062 - root_mean_squared_error: 6.5731 - mean_absolute_error: 4.4091 - val_loss: 38.4637 - val_root_mean_squared_error: 6.2019 - val_mean_absolute_error: 4.5751\n",
            "Epoch 29/40\n",
            "19/19 [==============================] - 35s 2s/step - loss: 39.3831 - root_mean_squared_error: 6.2756 - mean_absolute_error: 4.0488 - val_loss: 38.5358 - val_root_mean_squared_error: 6.2077 - val_mean_absolute_error: 4.5944\n",
            "Epoch 30/40\n",
            "19/19 [==============================] - 36s 2s/step - loss: 46.5886 - root_mean_squared_error: 6.8256 - mean_absolute_error: 4.3884 - val_loss: 38.4187 - val_root_mean_squared_error: 6.1983 - val_mean_absolute_error: 4.5627\n",
            "Epoch 31/40\n",
            "19/19 [==============================] - 35s 2s/step - loss: 45.5979 - root_mean_squared_error: 6.7526 - mean_absolute_error: 4.5538 - val_loss: 38.4846 - val_root_mean_squared_error: 6.2036 - val_mean_absolute_error: 4.5807\n",
            "Epoch 32/40\n",
            "19/19 [==============================] - 35s 2s/step - loss: 44.2091 - root_mean_squared_error: 6.6490 - mean_absolute_error: 4.2642 - val_loss: 38.4078 - val_root_mean_squared_error: 6.1974 - val_mean_absolute_error: 4.5596\n",
            "Epoch 33/40\n",
            "19/19 [==============================] - 36s 2s/step - loss: 45.2571 - root_mean_squared_error: 6.7273 - mean_absolute_error: 4.5215 - val_loss: 38.3669 - val_root_mean_squared_error: 6.1941 - val_mean_absolute_error: 4.5480\n",
            "Epoch 34/40\n",
            "19/19 [==============================] - 36s 2s/step - loss: 44.2540 - root_mean_squared_error: 6.6524 - mean_absolute_error: 4.3001 - val_loss: 38.3751 - val_root_mean_squared_error: 6.1948 - val_mean_absolute_error: 4.5504\n",
            "Epoch 35/40\n",
            "19/19 [==============================] - 35s 2s/step - loss: 45.1654 - root_mean_squared_error: 6.7205 - mean_absolute_error: 4.5528 - val_loss: 38.4293 - val_root_mean_squared_error: 6.1991 - val_mean_absolute_error: 4.5656\n",
            "Epoch 36/40\n",
            "19/19 [==============================] - 36s 2s/step - loss: 45.6171 - root_mean_squared_error: 6.7540 - mean_absolute_error: 4.5052 - val_loss: 38.1086 - val_root_mean_squared_error: 6.1732 - val_mean_absolute_error: 4.4671\n",
            "Epoch 37/40\n",
            "19/19 [==============================] - 35s 2s/step - loss: 45.6693 - root_mean_squared_error: 6.7579 - mean_absolute_error: 4.3847 - val_loss: 38.3420 - val_root_mean_squared_error: 6.1921 - val_mean_absolute_error: 4.5408\n",
            "Epoch 38/40\n",
            "19/19 [==============================] - 36s 2s/step - loss: 48.6299 - root_mean_squared_error: 6.9735 - mean_absolute_error: 4.8652 - val_loss: 38.4780 - val_root_mean_squared_error: 6.2031 - val_mean_absolute_error: 4.5790\n",
            "Epoch 39/40\n",
            "19/19 [==============================] - 35s 2s/step - loss: 43.6845 - root_mean_squared_error: 6.6094 - mean_absolute_error: 4.2475 - val_loss: 38.5067 - val_root_mean_squared_error: 6.2054 - val_mean_absolute_error: 4.5867\n",
            "Epoch 40/40\n",
            "19/19 [==============================] - 36s 2s/step - loss: 46.4056 - root_mean_squared_error: 6.8122 - mean_absolute_error: 4.4756 - val_loss: 38.4134 - val_root_mean_squared_error: 6.1979 - val_mean_absolute_error: 4.5612\n"
          ]
        }
      ]
    },
    {
      "cell_type": "markdown",
      "source": [
        "PLOTING BI_LSTM"
      ],
      "metadata": {
        "id": "ZGAJ_0o-W4NE"
      }
    },
    {
      "cell_type": "code",
      "source": [
        "plot_loss(model)"
      ],
      "metadata": {
        "id": "3ngDwiNPW4S4"
      },
      "execution_count": null,
      "outputs": []
    },
    {
      "cell_type": "markdown",
      "source": [
        "GRU"
      ],
      "metadata": {
        "id": "6qEAb-isw1s6"
      }
    },
    {
      "cell_type": "code",
      "source": [
        "params = {\n",
        "    \"loss\": \"mean_squared_error\",\n",
        "    \"optimizer\": \"adam\",\n",
        "    \"dropout\": 0.2,\n",
        "    \"learning rate\": 1e-4, \n",
        "    \"gru_units\": 200,\n",
        "    \"epochs\": 60,\n",
        "    \"batch_size\": 8,\n",
        "    \"es_patience\" : 0.4\n",
        "}\n",
        "\n",
        "model = get_model_GRU(params=params, input_shape=X_train.shape[1])\n",
        "\n",
        "es_callback = tf.keras.callbacks.EarlyStopping(monitor='val_root_mean_squared_error',\n",
        "                                           \tmode='min', \n",
        "patience=params[\"es_patience\"])\n",
        "\n",
        "model = model.fit(\n",
        "    X_train,\n",
        "    y_train,\n",
        "    validation_data=(X_test, y_test),\n",
        "    epochs=params[\"epochs\"],\n",
        "    batch_size=params[\"batch_size\"],\n",
        "    verbose=1\n",
        ")"
      ],
      "metadata": {
        "id": "b52m3OB5yNrG",
        "colab": {
          "base_uri": "https://localhost:8080/"
        },
        "outputId": "ecd3ad5e-b679-4af2-c25c-4fc2c79a38bc"
      },
      "execution_count": null,
      "outputs": [
        {
          "output_type": "stream",
          "name": "stdout",
          "text": [
            "Epoch 1/60\n",
            "19/19 [==============================] - 28s 930ms/step - loss: 5657.6235 - root_mean_squared_error: 75.2172 - mean_absolute_error: 74.5279 - val_loss: 4643.4170 - val_root_mean_squared_error: 68.1426 - val_mean_absolute_error: 67.8669\n",
            "Epoch 2/60\n",
            "19/19 [==============================] - 17s 877ms/step - loss: 4289.1792 - root_mean_squared_error: 65.4918 - mean_absolute_error: 65.1715 - val_loss: 4114.2178 - val_root_mean_squared_error: 64.1422 - val_mean_absolute_error: 63.8491\n",
            "Epoch 3/60\n",
            "19/19 [==============================] - 17s 879ms/step - loss: 3788.9277 - root_mean_squared_error: 61.5543 - mean_absolute_error: 61.2158 - val_loss: 3635.4844 - val_root_mean_squared_error: 60.2950 - val_mean_absolute_error: 59.9831\n",
            "Epoch 4/60\n",
            "19/19 [==============================] - 17s 875ms/step - loss: 3336.5269 - root_mean_squared_error: 57.7627 - mean_absolute_error: 57.3834 - val_loss: 3206.9817 - val_root_mean_squared_error: 56.6302 - val_mean_absolute_error: 56.2981\n",
            "Epoch 5/60\n",
            "19/19 [==============================] - 17s 875ms/step - loss: 2935.7012 - root_mean_squared_error: 54.1821 - mean_absolute_error: 53.7928 - val_loss: 2824.4607 - val_root_mean_squared_error: 53.1457 - val_mean_absolute_error: 52.7916\n",
            "Epoch 6/60\n",
            "19/19 [==============================] - 17s 875ms/step - loss: 2586.2598 - root_mean_squared_error: 50.8553 - mean_absolute_error: 50.4350 - val_loss: 2480.7043 - val_root_mean_squared_error: 49.8067 - val_mean_absolute_error: 49.4287\n",
            "Epoch 7/60\n",
            "19/19 [==============================] - 17s 878ms/step - loss: 2272.5859 - root_mean_squared_error: 47.6716 - mean_absolute_error: 47.2224 - val_loss: 2171.9360 - val_root_mean_squared_error: 46.6040 - val_mean_absolute_error: 46.1999\n",
            "Epoch 8/60\n",
            "19/19 [==============================] - 17s 874ms/step - loss: 1958.0651 - root_mean_squared_error: 44.2500 - mean_absolute_error: 43.7340 - val_loss: 1896.5269 - val_root_mean_squared_error: 43.5491 - val_mean_absolute_error: 43.1164\n",
            "Epoch 9/60\n",
            "19/19 [==============================] - 17s 878ms/step - loss: 1714.4946 - root_mean_squared_error: 41.4065 - mean_absolute_error: 40.8680 - val_loss: 1650.1241 - val_root_mean_squared_error: 40.6217 - val_mean_absolute_error: 40.1574\n",
            "Epoch 10/60\n",
            "19/19 [==============================] - 17s 878ms/step - loss: 1509.3945 - root_mean_squared_error: 38.8509 - mean_absolute_error: 38.2951 - val_loss: 1430.5266 - val_root_mean_squared_error: 37.8223 - val_mean_absolute_error: 37.3232\n",
            "Epoch 11/60\n",
            "19/19 [==============================] - 17s 873ms/step - loss: 1274.2841 - root_mean_squared_error: 35.6971 - mean_absolute_error: 35.1108 - val_loss: 1237.8938 - val_root_mean_squared_error: 35.1837 - val_mean_absolute_error: 34.6466\n",
            "Epoch 12/60\n",
            "19/19 [==============================] - 16s 872ms/step - loss: 1097.6595 - root_mean_squared_error: 33.1309 - mean_absolute_error: 32.4016 - val_loss: 1067.4620 - val_root_mean_squared_error: 32.6720 - val_mean_absolute_error: 32.0929\n",
            "Epoch 13/60\n",
            "19/19 [==============================] - 16s 872ms/step - loss: 963.5445 - root_mean_squared_error: 31.0410 - mean_absolute_error: 30.2569 - val_loss: 916.9724 - val_root_mean_squared_error: 30.2816 - val_mean_absolute_error: 29.6558\n",
            "Epoch 14/60\n",
            "19/19 [==============================] - 17s 881ms/step - loss: 813.2868 - root_mean_squared_error: 28.5182 - mean_absolute_error: 27.7179 - val_loss: 785.4512 - val_root_mean_squared_error: 28.0259 - val_mean_absolute_error: 27.3486\n",
            "Epoch 15/60\n",
            "19/19 [==============================] - 16s 872ms/step - loss: 687.7140 - root_mean_squared_error: 26.2243 - mean_absolute_error: 25.3998 - val_loss: 673.2640 - val_root_mean_squared_error: 25.9473 - val_mean_absolute_error: 25.2142\n",
            "Epoch 16/60\n",
            "19/19 [==============================] - 17s 881ms/step - loss: 592.9879 - root_mean_squared_error: 24.3513 - mean_absolute_error: 23.4424 - val_loss: 573.0851 - val_root_mean_squared_error: 23.9392 - val_mean_absolute_error: 23.1426\n",
            "Epoch 17/60\n",
            "19/19 [==============================] - 17s 876ms/step - loss: 489.4264 - root_mean_squared_error: 22.1230 - mean_absolute_error: 21.2580 - val_loss: 488.7255 - val_root_mean_squared_error: 22.1071 - val_mean_absolute_error: 21.3191\n",
            "Epoch 18/60\n",
            "19/19 [==============================] - 17s 874ms/step - loss: 420.4416 - root_mean_squared_error: 20.5047 - mean_absolute_error: 19.6518 - val_loss: 415.8155 - val_root_mean_squared_error: 20.3916 - val_mean_absolute_error: 19.6468\n",
            "Epoch 19/60\n",
            "19/19 [==============================] - 16s 866ms/step - loss: 358.9325 - root_mean_squared_error: 18.9455 - mean_absolute_error: 18.0671 - val_loss: 353.0788 - val_root_mean_squared_error: 18.7904 - val_mean_absolute_error: 18.0734\n",
            "Epoch 20/60\n",
            "19/19 [==============================] - 16s 869ms/step - loss: 294.9668 - root_mean_squared_error: 17.1746 - mean_absolute_error: 16.4253 - val_loss: 302.0551 - val_root_mean_squared_error: 17.3797 - val_mean_absolute_error: 16.7496\n",
            "Epoch 21/60\n",
            "19/19 [==============================] - 17s 875ms/step - loss: 263.3998 - root_mean_squared_error: 16.2296 - mean_absolute_error: 15.5398 - val_loss: 256.8955 - val_root_mean_squared_error: 16.0280 - val_mean_absolute_error: 15.4902\n",
            "Epoch 22/60\n",
            "19/19 [==============================] - 16s 865ms/step - loss: 214.4267 - root_mean_squared_error: 14.6433 - mean_absolute_error: 13.8036 - val_loss: 218.9211 - val_root_mean_squared_error: 14.7960 - val_mean_absolute_error: 14.3265\n",
            "Epoch 23/60\n",
            "19/19 [==============================] - 16s 871ms/step - loss: 178.6081 - root_mean_squared_error: 13.3644 - mean_absolute_error: 12.7199 - val_loss: 187.3260 - val_root_mean_squared_error: 13.6867 - val_mean_absolute_error: 13.2614\n",
            "Epoch 24/60\n",
            "19/19 [==============================] - 17s 875ms/step - loss: 165.2720 - root_mean_squared_error: 12.8558 - mean_absolute_error: 12.2150 - val_loss: 160.3302 - val_root_mean_squared_error: 12.6622 - val_mean_absolute_error: 12.2582\n",
            "Epoch 25/60\n",
            "19/19 [==============================] - 17s 883ms/step - loss: 147.8009 - root_mean_squared_error: 12.1573 - mean_absolute_error: 11.4203 - val_loss: 136.6523 - val_root_mean_squared_error: 11.6898 - val_mean_absolute_error: 11.2829\n",
            "Epoch 26/60\n",
            "19/19 [==============================] - 17s 873ms/step - loss: 130.6590 - root_mean_squared_error: 11.4306 - mean_absolute_error: 10.6862 - val_loss: 117.5078 - val_root_mean_squared_error: 10.8401 - val_mean_absolute_error: 10.4051\n",
            "Epoch 27/60\n",
            "19/19 [==============================] - 17s 888ms/step - loss: 112.2189 - root_mean_squared_error: 10.5933 - mean_absolute_error: 9.6603 - val_loss: 101.6366 - val_root_mean_squared_error: 10.0815 - val_mean_absolute_error: 9.5937\n",
            "Epoch 28/60\n",
            "19/19 [==============================] - 17s 881ms/step - loss: 92.2219 - root_mean_squared_error: 9.6032 - mean_absolute_error: 8.6168 - val_loss: 89.1380 - val_root_mean_squared_error: 9.4413 - val_mean_absolute_error: 8.8808\n",
            "Epoch 29/60\n",
            "19/19 [==============================] - 17s 879ms/step - loss: 87.3445 - root_mean_squared_error: 9.3458 - mean_absolute_error: 8.3304 - val_loss: 79.3436 - val_root_mean_squared_error: 8.9075 - val_mean_absolute_error: 8.2591\n",
            "Epoch 30/60\n",
            "19/19 [==============================] - 17s 875ms/step - loss: 76.1361 - root_mean_squared_error: 8.7256 - mean_absolute_error: 7.4394 - val_loss: 71.2413 - val_root_mean_squared_error: 8.4405 - val_mean_absolute_error: 7.7265\n",
            "Epoch 31/60\n",
            "19/19 [==============================] - 16s 863ms/step - loss: 68.4814 - root_mean_squared_error: 8.2753 - mean_absolute_error: 7.0299 - val_loss: 65.0328 - val_root_mean_squared_error: 8.0643 - val_mean_absolute_error: 7.2772\n",
            "Epoch 32/60\n",
            "19/19 [==============================] - 16s 861ms/step - loss: 63.9462 - root_mean_squared_error: 7.9966 - mean_absolute_error: 6.8027 - val_loss: 59.8662 - val_root_mean_squared_error: 7.7373 - val_mean_absolute_error: 6.8629\n",
            "Epoch 33/60\n",
            "19/19 [==============================] - 17s 875ms/step - loss: 63.2172 - root_mean_squared_error: 7.9509 - mean_absolute_error: 6.3876 - val_loss: 55.6826 - val_root_mean_squared_error: 7.4621 - val_mean_absolute_error: 6.5089\n",
            "Epoch 34/60\n",
            "19/19 [==============================] - 17s 884ms/step - loss: 65.2001 - root_mean_squared_error: 8.0747 - mean_absolute_error: 6.5378 - val_loss: 52.3728 - val_root_mean_squared_error: 7.2369 - val_mean_absolute_error: 6.2371\n",
            "Epoch 35/60\n",
            "19/19 [==============================] - 16s 871ms/step - loss: 61.9328 - root_mean_squared_error: 7.8697 - mean_absolute_error: 6.2890 - val_loss: 49.0402 - val_root_mean_squared_error: 7.0029 - val_mean_absolute_error: 5.9310\n",
            "Epoch 36/60\n",
            "19/19 [==============================] - 17s 892ms/step - loss: 52.4983 - root_mean_squared_error: 7.2456 - mean_absolute_error: 5.5549 - val_loss: 47.0421 - val_root_mean_squared_error: 6.8587 - val_mean_absolute_error: 5.7461\n",
            "Epoch 37/60\n",
            "19/19 [==============================] - 17s 880ms/step - loss: 51.8781 - root_mean_squared_error: 7.2026 - mean_absolute_error: 5.4414 - val_loss: 45.5806 - val_root_mean_squared_error: 6.7513 - val_mean_absolute_error: 5.5982\n",
            "Epoch 38/60\n",
            "19/19 [==============================] - 17s 872ms/step - loss: 57.4073 - root_mean_squared_error: 7.5768 - mean_absolute_error: 5.6560 - val_loss: 43.9113 - val_root_mean_squared_error: 6.6266 - val_mean_absolute_error: 5.4118\n",
            "Epoch 39/60\n",
            "19/19 [==============================] - 17s 876ms/step - loss: 48.2704 - root_mean_squared_error: 6.9477 - mean_absolute_error: 5.3284 - val_loss: 42.7857 - val_root_mean_squared_error: 6.5411 - val_mean_absolute_error: 5.2787\n",
            "Epoch 40/60\n",
            "19/19 [==============================] - 16s 871ms/step - loss: 54.2161 - root_mean_squared_error: 7.3632 - mean_absolute_error: 5.1672 - val_loss: 41.9894 - val_root_mean_squared_error: 6.4799 - val_mean_absolute_error: 5.1825\n",
            "Epoch 41/60\n",
            "19/19 [==============================] - 17s 882ms/step - loss: 48.3661 - root_mean_squared_error: 6.9546 - mean_absolute_error: 5.0642 - val_loss: 41.2033 - val_root_mean_squared_error: 6.4190 - val_mean_absolute_error: 5.0787\n",
            "Epoch 42/60\n",
            "19/19 [==============================] - 16s 864ms/step - loss: 48.3656 - root_mean_squared_error: 6.9545 - mean_absolute_error: 4.9955 - val_loss: 40.5580 - val_root_mean_squared_error: 6.3685 - val_mean_absolute_error: 4.9850\n",
            "Epoch 43/60\n",
            "19/19 [==============================] - 16s 869ms/step - loss: 52.5077 - root_mean_squared_error: 7.2462 - mean_absolute_error: 5.1077 - val_loss: 40.2960 - val_root_mean_squared_error: 6.3479 - val_mean_absolute_error: 4.9441\n",
            "Epoch 44/60\n",
            "19/19 [==============================] - 16s 872ms/step - loss: 50.3184 - root_mean_squared_error: 7.0935 - mean_absolute_error: 5.1028 - val_loss: 39.9838 - val_root_mean_squared_error: 6.3233 - val_mean_absolute_error: 4.8927\n",
            "Epoch 45/60\n",
            "19/19 [==============================] - 17s 879ms/step - loss: 51.0626 - root_mean_squared_error: 7.1458 - mean_absolute_error: 5.0087 - val_loss: 39.6374 - val_root_mean_squared_error: 6.2958 - val_mean_absolute_error: 4.8318\n",
            "Epoch 46/60\n",
            "19/19 [==============================] - 17s 879ms/step - loss: 44.4794 - root_mean_squared_error: 6.6693 - mean_absolute_error: 4.5927 - val_loss: 39.5537 - val_root_mean_squared_error: 6.2892 - val_mean_absolute_error: 4.8164\n",
            "Epoch 47/60\n",
            "19/19 [==============================] - 17s 885ms/step - loss: 50.2091 - root_mean_squared_error: 7.0858 - mean_absolute_error: 4.9314 - val_loss: 39.5780 - val_root_mean_squared_error: 6.2911 - val_mean_absolute_error: 4.8209\n",
            "Epoch 48/60\n",
            "19/19 [==============================] - 17s 873ms/step - loss: 47.3081 - root_mean_squared_error: 6.8781 - mean_absolute_error: 4.8379 - val_loss: 39.2678 - val_root_mean_squared_error: 6.2664 - val_mean_absolute_error: 4.7611\n",
            "Epoch 49/60\n",
            "19/19 [==============================] - 17s 883ms/step - loss: 44.7200 - root_mean_squared_error: 6.6873 - mean_absolute_error: 4.6406 - val_loss: 39.2412 - val_root_mean_squared_error: 6.2643 - val_mean_absolute_error: 4.7557\n",
            "Epoch 50/60\n",
            "19/19 [==============================] - 17s 884ms/step - loss: 48.9018 - root_mean_squared_error: 6.9930 - mean_absolute_error: 4.9529 - val_loss: 39.0784 - val_root_mean_squared_error: 6.2513 - val_mean_absolute_error: 4.7220\n",
            "Epoch 51/60\n",
            "19/19 [==============================] - 17s 878ms/step - loss: 48.9988 - root_mean_squared_error: 6.9999 - mean_absolute_error: 4.8877 - val_loss: 38.8827 - val_root_mean_squared_error: 6.2356 - val_mean_absolute_error: 4.6790\n",
            "Epoch 52/60\n",
            "19/19 [==============================] - 16s 862ms/step - loss: 44.1477 - root_mean_squared_error: 6.6444 - mean_absolute_error: 4.7420 - val_loss: 38.7315 - val_root_mean_squared_error: 6.2235 - val_mean_absolute_error: 4.6436\n",
            "Epoch 53/60\n",
            "19/19 [==============================] - 17s 880ms/step - loss: 50.6497 - root_mean_squared_error: 7.1169 - mean_absolute_error: 4.9752 - val_loss: 38.7019 - val_root_mean_squared_error: 6.2211 - val_mean_absolute_error: 4.6364\n",
            "Epoch 54/60\n",
            "19/19 [==============================] - 17s 880ms/step - loss: 42.7318 - root_mean_squared_error: 6.5370 - mean_absolute_error: 4.6324 - val_loss: 38.6459 - val_root_mean_squared_error: 6.2166 - val_mean_absolute_error: 4.6226\n",
            "Epoch 55/60\n",
            "19/19 [==============================] - 17s 875ms/step - loss: 47.5380 - root_mean_squared_error: 6.8948 - mean_absolute_error: 4.8037 - val_loss: 38.6754 - val_root_mean_squared_error: 6.2190 - val_mean_absolute_error: 4.6299\n",
            "Epoch 56/60\n",
            "19/19 [==============================] - 17s 883ms/step - loss: 51.3001 - root_mean_squared_error: 7.1624 - mean_absolute_error: 5.0580 - val_loss: 38.6130 - val_root_mean_squared_error: 6.2139 - val_mean_absolute_error: 4.6143\n",
            "Epoch 57/60\n",
            "19/19 [==============================] - 17s 876ms/step - loss: 55.7343 - root_mean_squared_error: 7.4655 - mean_absolute_error: 5.0409 - val_loss: 38.5952 - val_root_mean_squared_error: 6.2125 - val_mean_absolute_error: 4.6098\n",
            "Epoch 58/60\n",
            "19/19 [==============================] - 17s 878ms/step - loss: 43.1168 - root_mean_squared_error: 6.5663 - mean_absolute_error: 4.4464 - val_loss: 38.5741 - val_root_mean_squared_error: 6.2108 - val_mean_absolute_error: 4.6044\n",
            "Epoch 59/60\n",
            "19/19 [==============================] - 16s 864ms/step - loss: 49.5508 - root_mean_squared_error: 7.0392 - mean_absolute_error: 4.7277 - val_loss: 38.4714 - val_root_mean_squared_error: 6.2025 - val_mean_absolute_error: 4.5772\n",
            "Epoch 60/60\n",
            "19/19 [==============================] - 17s 875ms/step - loss: 40.8658 - root_mean_squared_error: 6.3926 - mean_absolute_error: 4.5399 - val_loss: 38.5513 - val_root_mean_squared_error: 6.2090 - val_mean_absolute_error: 4.5984\n"
          ]
        }
      ]
    },
    {
      "cell_type": "markdown",
      "source": [
        "PLOTTING GRU"
      ],
      "metadata": {
        "id": "d_Y0DK09xA05"
      }
    },
    {
      "cell_type": "code",
      "source": [
        "plot_loss(model)"
      ],
      "metadata": {
        "id": "IRONAbHmxgCn",
        "colab": {
          "base_uri": "https://localhost:8080/",
          "height": 283
        },
        "outputId": "5e28083d-16c6-4728-d16d-7a7bca562469"
      },
      "execution_count": null,
      "outputs": [
        {
          "output_type": "display_data",
          "data": {
            "text/plain": [
              "<Figure size 432x288 with 1 Axes>"
            ],
            "image/png": "[encoded data removed]"
          },
          "metadata": {
            "needs_background": "light"
          }
        }
      ]
    },
    {
      "cell_type": "markdown",
      "source": [
        "LSTM"
      ],
      "metadata": {
        "id": "g4eABeyExDmK"
      }
    },
    {
      "cell_type": "code",
      "source": [
        "params = {\n",
        "    \"loss\": \"mean_squared_error\",\n",
        "    \"optimizer\": \"adam\",\n",
        "    \"dropout\": 0.2,\n",
        "    \"learning rate\": 1e-4, \n",
        "    \"lstm_units\": 200,\n",
        "    \"epochs\": 40,\n",
        "    \"batch_size\": 8,\n",
        "    \"es_patience\" : 0.4\n",
        "}\n",
        "\n",
        "model = get_model_LSTM(params=params, input_shape=X_train.shape[1])\n",
        "\n",
        "es_callback = tf.keras.callbacks.EarlyStopping(monitor='val_root_mean_squared_error',\n",
        "                                           \tmode='min', \n",
        "patience=params[\"es_patience\"])\n",
        "\n",
        "model = model.fit(\n",
        "    X_train,\n",
        "    y_train,\n",
        "    validation_data=(X_test, y_test),\n",
        "    epochs=params[\"epochs\"],\n",
        "    batch_size=params[\"batch_size\"],\n",
        "    verbose=1\n",
        ")"
      ],
      "metadata": {
        "id": "1SaQ_aNpyP0X",
        "colab": {
          "base_uri": "https://localhost:8080/",
          "height": 765
        },
        "outputId": "f6ddc18e-8545-476e-e51e-c196d05c42cc"
      },
      "execution_count": null,
      "outputs": [
        {
          "output_type": "stream",
          "name": "stdout",
          "text": [
            "Epoch 1/40\n",
            "19/19 [==============================] - 26s 980ms/step - loss: 5864.5254 - root_mean_squared_error: 76.5802 - mean_absolute_error: 76.0898 - val_loss: 4837.4033 - val_root_mean_squared_error: 69.5514 - val_mean_absolute_error: 69.2813\n",
            "Epoch 2/40\n",
            "19/19 [==============================] - 17s 900ms/step - loss: 4448.4771 - root_mean_squared_error: 66.6969 - mean_absolute_error: 66.3737 - val_loss: 4253.6431 - val_root_mean_squared_error: 65.2200 - val_mean_absolute_error: 64.9318\n",
            "Epoch 3/40\n",
            "19/19 [==============================] - 17s 896ms/step - loss: 3915.3625 - root_mean_squared_error: 62.5729 - mean_absolute_error: 62.2255 - val_loss: 3767.9995 - val_root_mean_squared_error: 61.3840 - val_mean_absolute_error: 61.0778\n",
            "Epoch 4/40\n",
            "19/19 [==============================] - 17s 899ms/step - loss: 3462.6743 - root_mean_squared_error: 58.8445 - mean_absolute_error: 58.5039 - val_loss: 3332.7686 - val_root_mean_squared_error: 57.7301 - val_mean_absolute_error: 57.4044\n",
            "Epoch 5/40\n",
            "19/19 [==============================] - 17s 903ms/step - loss: 3069.9490 - root_mean_squared_error: 55.4071 - mean_absolute_error: 55.0172 - val_loss: 2946.9990 - val_root_mean_squared_error: 54.2863 - val_mean_absolute_error: 53.9397\n",
            "Epoch 6/40\n",
            "19/19 [==============================] - 17s 894ms/step - loss: 2718.8159 - root_mean_squared_error: 52.1423 - mean_absolute_error: 51.7253 - val_loss: 2599.1553 - val_root_mean_squared_error: 50.9819 - val_mean_absolute_error: 50.6127\n",
            "Epoch 7/40\n",
            "19/19 [==============================] - 17s 908ms/step - loss: 2379.5657 - root_mean_squared_error: 48.7808 - mean_absolute_error: 48.3237 - val_loss: 2289.6575 - val_root_mean_squared_error: 47.8504 - val_mean_absolute_error: 47.4568\n",
            "Epoch 8/40\n",
            "19/19 [==============================] - 17s 901ms/step - loss: 2078.9641 - root_mean_squared_error: 45.5957 - mean_absolute_error: 45.1373 - val_loss: 2010.6375 - val_root_mean_squared_error: 44.8401 - val_mean_absolute_error: 44.4199\n",
            "Epoch 9/40\n",
            "19/19 [==============================] - 17s 908ms/step - loss: 1808.6237 - root_mean_squared_error: 42.5279 - mean_absolute_error: 42.0044 - val_loss: 1755.8658 - val_root_mean_squared_error: 41.9031 - val_mean_absolute_error: 41.4531\n",
            "Epoch 10/40\n",
            "19/19 [==============================] - 17s 899ms/step - loss: 1578.9883 - root_mean_squared_error: 39.7365 - mean_absolute_error: 39.1962 - val_loss: 1529.1409 - val_root_mean_squared_error: 39.1042 - val_mean_absolute_error: 38.6217\n",
            "Epoch 11/40\n",
            " 1/19 [>.............................] - ETA: 14s - loss: 1393.1904 - root_mean_squared_error: 37.3255 - mean_absolute_error: 36.8960"
          ]
        },
        {
          "output_type": "error",
          "ename": "KeyboardInterrupt",
          "evalue": "ignored",
          "traceback": [
            "\u001b[0;31m---------------------------------------------------------------------------\u001b[0m",
            "\u001b[0;31mKeyboardInterrupt\u001b[0m                         Traceback (most recent call last)",
            "\u001b[0;32m<ipython-input-60-447c8e9bc4e2>\u001b[0m in \u001b[0;36m<module>\u001b[0;34m()\u001b[0m\n\u001b[1;32m     22\u001b[0m     \u001b[0mepochs\u001b[0m\u001b[0;34m=\u001b[0m\u001b[0mparams\u001b[0m\u001b[0;34m[\u001b[0m\u001b[0;34m\"epochs\"\u001b[0m\u001b[0;34m]\u001b[0m\u001b[0;34m,\u001b[0m\u001b[0;34m\u001b[0m\u001b[0;34m\u001b[0m\u001b[0m\n\u001b[1;32m     23\u001b[0m     \u001b[0mbatch_size\u001b[0m\u001b[0;34m=\u001b[0m\u001b[0mparams\u001b[0m\u001b[0;34m[\u001b[0m\u001b[0;34m\"batch_size\"\u001b[0m\u001b[0;34m]\u001b[0m\u001b[0;34m,\u001b[0m\u001b[0;34m\u001b[0m\u001b[0;34m\u001b[0m\u001b[0m\n\u001b[0;32m---> 24\u001b[0;31m     \u001b[0mverbose\u001b[0m\u001b[0;34m=\u001b[0m\u001b[0;36m1\u001b[0m\u001b[0;34m\u001b[0m\u001b[0;34m\u001b[0m\u001b[0m\n\u001b[0m\u001b[1;32m     25\u001b[0m )\n",
            "\u001b[0;32m/usr/local/lib/python3.7/dist-packages/keras/utils/traceback_utils.py\u001b[0m in \u001b[0;36merror_handler\u001b[0;34m(*args, **kwargs)\u001b[0m\n\u001b[1;32m     62\u001b[0m     \u001b[0mfiltered_tb\u001b[0m \u001b[0;34m=\u001b[0m \u001b[0;32mNone\u001b[0m\u001b[0;34m\u001b[0m\u001b[0;34m\u001b[0m\u001b[0m\n\u001b[1;32m     63\u001b[0m     \u001b[0;32mtry\u001b[0m\u001b[0;34m:\u001b[0m\u001b[0;34m\u001b[0m\u001b[0;34m\u001b[0m\u001b[0m\n\u001b[0;32m---> 64\u001b[0;31m       \u001b[0;32mreturn\u001b[0m \u001b[0mfn\u001b[0m\u001b[0;34m(\u001b[0m\u001b[0;34m*\u001b[0m\u001b[0margs\u001b[0m\u001b[0;34m,\u001b[0m \u001b[0;34m**\u001b[0m\u001b[0mkwargs\u001b[0m\u001b[0;34m)\u001b[0m\u001b[0;34m\u001b[0m\u001b[0;34m\u001b[0m\u001b[0m\n\u001b[0m\u001b[1;32m     65\u001b[0m     \u001b[0;32mexcept\u001b[0m \u001b[0mException\u001b[0m \u001b[0;32mas\u001b[0m \u001b[0me\u001b[0m\u001b[0;34m:\u001b[0m  \u001b[0;31m# pylint: disable=broad-except\u001b[0m\u001b[0;34m\u001b[0m\u001b[0;34m\u001b[0m\u001b[0m\n\u001b[1;32m     66\u001b[0m       \u001b[0mfiltered_tb\u001b[0m \u001b[0;34m=\u001b[0m \u001b[0m_process_traceback_frames\u001b[0m\u001b[0;34m(\u001b[0m\u001b[0me\u001b[0m\u001b[0;34m.\u001b[0m\u001b[0m__traceback__\u001b[0m\u001b[0;34m)\u001b[0m\u001b[0;34m\u001b[0m\u001b[0;34m\u001b[0m\u001b[0m\n",
            "\u001b[0;32m/usr/local/lib/python3.7/dist-packages/keras/engine/training.py\u001b[0m in \u001b[0;36mfit\u001b[0;34m(self, x, y, batch_size, epochs, verbose, callbacks, validation_split, validation_data, shuffle, class_weight, sample_weight, initial_epoch, steps_per_epoch, validation_steps, validation_batch_size, validation_freq, max_queue_size, workers, use_multiprocessing)\u001b[0m\n\u001b[1;32m   1382\u001b[0m                 _r=1):\n\u001b[1;32m   1383\u001b[0m               \u001b[0mcallbacks\u001b[0m\u001b[0;34m.\u001b[0m\u001b[0mon_train_batch_begin\u001b[0m\u001b[0;34m(\u001b[0m\u001b[0mstep\u001b[0m\u001b[0;34m)\u001b[0m\u001b[0;34m\u001b[0m\u001b[0;34m\u001b[0m\u001b[0m\n\u001b[0;32m-> 1384\u001b[0;31m               \u001b[0mtmp_logs\u001b[0m \u001b[0;34m=\u001b[0m \u001b[0mself\u001b[0m\u001b[0;34m.\u001b[0m\u001b[0mtrain_function\u001b[0m\u001b[0;34m(\u001b[0m\u001b[0miterator\u001b[0m\u001b[0;34m)\u001b[0m\u001b[0;34m\u001b[0m\u001b[0;34m\u001b[0m\u001b[0m\n\u001b[0m\u001b[1;32m   1385\u001b[0m               \u001b[0;32mif\u001b[0m \u001b[0mdata_handler\u001b[0m\u001b[0;34m.\u001b[0m\u001b[0mshould_sync\u001b[0m\u001b[0;34m:\u001b[0m\u001b[0;34m\u001b[0m\u001b[0;34m\u001b[0m\u001b[0m\n\u001b[1;32m   1386\u001b[0m                 \u001b[0mcontext\u001b[0m\u001b[0;34m.\u001b[0m\u001b[0masync_wait\u001b[0m\u001b[0;34m(\u001b[0m\u001b[0;34m)\u001b[0m\u001b[0;34m\u001b[0m\u001b[0;34m\u001b[0m\u001b[0m\n",
            "\u001b[0;32m/usr/local/lib/python3.7/dist-packages/tensorflow/python/util/traceback_utils.py\u001b[0m in \u001b[0;36merror_handler\u001b[0;34m(*args, **kwargs)\u001b[0m\n\u001b[1;32m    148\u001b[0m     \u001b[0mfiltered_tb\u001b[0m \u001b[0;34m=\u001b[0m \u001b[0;32mNone\u001b[0m\u001b[0;34m\u001b[0m\u001b[0;34m\u001b[0m\u001b[0m\n\u001b[1;32m    149\u001b[0m     \u001b[0;32mtry\u001b[0m\u001b[0;34m:\u001b[0m\u001b[0;34m\u001b[0m\u001b[0;34m\u001b[0m\u001b[0m\n\u001b[0;32m--> 150\u001b[0;31m       \u001b[0;32mreturn\u001b[0m \u001b[0mfn\u001b[0m\u001b[0;34m(\u001b[0m\u001b[0;34m*\u001b[0m\u001b[0margs\u001b[0m\u001b[0;34m,\u001b[0m \u001b[0;34m**\u001b[0m\u001b[0mkwargs\u001b[0m\u001b[0;34m)\u001b[0m\u001b[0;34m\u001b[0m\u001b[0;34m\u001b[0m\u001b[0m\n\u001b[0m\u001b[1;32m    151\u001b[0m     \u001b[0;32mexcept\u001b[0m \u001b[0mException\u001b[0m \u001b[0;32mas\u001b[0m \u001b[0me\u001b[0m\u001b[0;34m:\u001b[0m\u001b[0;34m\u001b[0m\u001b[0;34m\u001b[0m\u001b[0m\n\u001b[1;32m    152\u001b[0m       \u001b[0mfiltered_tb\u001b[0m \u001b[0;34m=\u001b[0m \u001b[0m_process_traceback_frames\u001b[0m\u001b[0;34m(\u001b[0m\u001b[0me\u001b[0m\u001b[0;34m.\u001b[0m\u001b[0m__traceback__\u001b[0m\u001b[0;34m)\u001b[0m\u001b[0;34m\u001b[0m\u001b[0;34m\u001b[0m\u001b[0m\n",
            "\u001b[0;32m/usr/local/lib/python3.7/dist-packages/tensorflow/python/eager/def_function.py\u001b[0m in \u001b[0;36m__call__\u001b[0;34m(self, *args, **kwds)\u001b[0m\n\u001b[1;32m    913\u001b[0m \u001b[0;34m\u001b[0m\u001b[0m\n\u001b[1;32m    914\u001b[0m       \u001b[0;32mwith\u001b[0m \u001b[0mOptionalXlaContext\u001b[0m\u001b[0;34m(\u001b[0m\u001b[0mself\u001b[0m\u001b[0;34m.\u001b[0m\u001b[0m_jit_compile\u001b[0m\u001b[0;34m)\u001b[0m\u001b[0;34m:\u001b[0m\u001b[0;34m\u001b[0m\u001b[0;34m\u001b[0m\u001b[0m\n\u001b[0;32m--> 915\u001b[0;31m         \u001b[0mresult\u001b[0m \u001b[0;34m=\u001b[0m \u001b[0mself\u001b[0m\u001b[0;34m.\u001b[0m\u001b[0m_call\u001b[0m\u001b[0;34m(\u001b[0m\u001b[0;34m*\u001b[0m\u001b[0margs\u001b[0m\u001b[0;34m,\u001b[0m \u001b[0;34m**\u001b[0m\u001b[0mkwds\u001b[0m\u001b[0;34m)\u001b[0m\u001b[0;34m\u001b[0m\u001b[0;34m\u001b[0m\u001b[0m\n\u001b[0m\u001b[1;32m    916\u001b[0m \u001b[0;34m\u001b[0m\u001b[0m\n\u001b[1;32m    917\u001b[0m       \u001b[0mnew_tracing_count\u001b[0m \u001b[0;34m=\u001b[0m \u001b[0mself\u001b[0m\u001b[0;34m.\u001b[0m\u001b[0mexperimental_get_tracing_count\u001b[0m\u001b[0;34m(\u001b[0m\u001b[0;34m)\u001b[0m\u001b[0;34m\u001b[0m\u001b[0;34m\u001b[0m\u001b[0m\n",
            "\u001b[0;32m/usr/local/lib/python3.7/dist-packages/tensorflow/python/eager/def_function.py\u001b[0m in \u001b[0;36m_call\u001b[0;34m(self, *args, **kwds)\u001b[0m\n\u001b[1;32m    945\u001b[0m       \u001b[0;31m# In this case we have created variables on the first call, so we run the\u001b[0m\u001b[0;34m\u001b[0m\u001b[0;34m\u001b[0m\u001b[0;34m\u001b[0m\u001b[0m\n\u001b[1;32m    946\u001b[0m       \u001b[0;31m# defunned version which is guaranteed to never create variables.\u001b[0m\u001b[0;34m\u001b[0m\u001b[0;34m\u001b[0m\u001b[0;34m\u001b[0m\u001b[0m\n\u001b[0;32m--> 947\u001b[0;31m       \u001b[0;32mreturn\u001b[0m \u001b[0mself\u001b[0m\u001b[0;34m.\u001b[0m\u001b[0m_stateless_fn\u001b[0m\u001b[0;34m(\u001b[0m\u001b[0;34m*\u001b[0m\u001b[0margs\u001b[0m\u001b[0;34m,\u001b[0m \u001b[0;34m**\u001b[0m\u001b[0mkwds\u001b[0m\u001b[0;34m)\u001b[0m  \u001b[0;31m# pylint: disable=not-callable\u001b[0m\u001b[0;34m\u001b[0m\u001b[0;34m\u001b[0m\u001b[0m\n\u001b[0m\u001b[1;32m    948\u001b[0m     \u001b[0;32melif\u001b[0m \u001b[0mself\u001b[0m\u001b[0;34m.\u001b[0m\u001b[0m_stateful_fn\u001b[0m \u001b[0;32mis\u001b[0m \u001b[0;32mnot\u001b[0m \u001b[0;32mNone\u001b[0m\u001b[0;34m:\u001b[0m\u001b[0;34m\u001b[0m\u001b[0;34m\u001b[0m\u001b[0m\n\u001b[1;32m    949\u001b[0m       \u001b[0;31m# Release the lock early so that multiple threads can perform the call\u001b[0m\u001b[0;34m\u001b[0m\u001b[0;34m\u001b[0m\u001b[0;34m\u001b[0m\u001b[0m\n",
            "\u001b[0;32m/usr/local/lib/python3.7/dist-packages/tensorflow/python/eager/function.py\u001b[0m in \u001b[0;36m__call__\u001b[0;34m(self, *args, **kwargs)\u001b[0m\n\u001b[1;32m   2955\u001b[0m        filtered_flat_args) = self._maybe_define_function(args, kwargs)\n\u001b[1;32m   2956\u001b[0m     return graph_function._call_flat(\n\u001b[0;32m-> 2957\u001b[0;31m         filtered_flat_args, captured_inputs=graph_function.captured_inputs)  # pylint: disable=protected-access\n\u001b[0m\u001b[1;32m   2958\u001b[0m \u001b[0;34m\u001b[0m\u001b[0m\n\u001b[1;32m   2959\u001b[0m   \u001b[0;34m@\u001b[0m\u001b[0mproperty\u001b[0m\u001b[0;34m\u001b[0m\u001b[0;34m\u001b[0m\u001b[0m\n",
            "\u001b[0;32m/usr/local/lib/python3.7/dist-packages/tensorflow/python/eager/function.py\u001b[0m in \u001b[0;36m_call_flat\u001b[0;34m(self, args, captured_inputs, cancellation_manager)\u001b[0m\n\u001b[1;32m   1852\u001b[0m       \u001b[0;31m# No tape is watching; skip to running the function.\u001b[0m\u001b[0;34m\u001b[0m\u001b[0;34m\u001b[0m\u001b[0;34m\u001b[0m\u001b[0m\n\u001b[1;32m   1853\u001b[0m       return self._build_call_outputs(self._inference_function.call(\n\u001b[0;32m-> 1854\u001b[0;31m           ctx, args, cancellation_manager=cancellation_manager))\n\u001b[0m\u001b[1;32m   1855\u001b[0m     forward_backward = self._select_forward_and_backward_functions(\n\u001b[1;32m   1856\u001b[0m         \u001b[0margs\u001b[0m\u001b[0;34m,\u001b[0m\u001b[0;34m\u001b[0m\u001b[0;34m\u001b[0m\u001b[0m\n",
            "\u001b[0;32m/usr/local/lib/python3.7/dist-packages/tensorflow/python/eager/function.py\u001b[0m in \u001b[0;36mcall\u001b[0;34m(self, ctx, args, cancellation_manager)\u001b[0m\n\u001b[1;32m    502\u001b[0m               \u001b[0minputs\u001b[0m\u001b[0;34m=\u001b[0m\u001b[0margs\u001b[0m\u001b[0;34m,\u001b[0m\u001b[0;34m\u001b[0m\u001b[0;34m\u001b[0m\u001b[0m\n\u001b[1;32m    503\u001b[0m               \u001b[0mattrs\u001b[0m\u001b[0;34m=\u001b[0m\u001b[0mattrs\u001b[0m\u001b[0;34m,\u001b[0m\u001b[0;34m\u001b[0m\u001b[0;34m\u001b[0m\u001b[0m\n\u001b[0;32m--> 504\u001b[0;31m               ctx=ctx)\n\u001b[0m\u001b[1;32m    505\u001b[0m         \u001b[0;32melse\u001b[0m\u001b[0;34m:\u001b[0m\u001b[0;34m\u001b[0m\u001b[0;34m\u001b[0m\u001b[0m\n\u001b[1;32m    506\u001b[0m           outputs = execute.execute_with_cancellation(\n",
            "\u001b[0;32m/usr/local/lib/python3.7/dist-packages/tensorflow/python/eager/execute.py\u001b[0m in \u001b[0;36mquick_execute\u001b[0;34m(op_name, num_outputs, inputs, attrs, ctx, name)\u001b[0m\n\u001b[1;32m     53\u001b[0m     \u001b[0mctx\u001b[0m\u001b[0;34m.\u001b[0m\u001b[0mensure_initialized\u001b[0m\u001b[0;34m(\u001b[0m\u001b[0;34m)\u001b[0m\u001b[0;34m\u001b[0m\u001b[0;34m\u001b[0m\u001b[0m\n\u001b[1;32m     54\u001b[0m     tensors = pywrap_tfe.TFE_Py_Execute(ctx._handle, device_name, op_name,\n\u001b[0;32m---> 55\u001b[0;31m                                         inputs, attrs, num_outputs)\n\u001b[0m\u001b[1;32m     56\u001b[0m   \u001b[0;32mexcept\u001b[0m \u001b[0mcore\u001b[0m\u001b[0;34m.\u001b[0m\u001b[0m_NotOkStatusException\u001b[0m \u001b[0;32mas\u001b[0m \u001b[0me\u001b[0m\u001b[0;34m:\u001b[0m\u001b[0;34m\u001b[0m\u001b[0;34m\u001b[0m\u001b[0m\n\u001b[1;32m     57\u001b[0m     \u001b[0;32mif\u001b[0m \u001b[0mname\u001b[0m \u001b[0;32mis\u001b[0m \u001b[0;32mnot\u001b[0m \u001b[0;32mNone\u001b[0m\u001b[0;34m:\u001b[0m\u001b[0;34m\u001b[0m\u001b[0;34m\u001b[0m\u001b[0m\n",
            "\u001b[0;31mKeyboardInterrupt\u001b[0m: "
          ]
        }
      ]
    },
    {
      "cell_type": "markdown",
      "source": [
        "PLOTING THE LSTM"
      ],
      "metadata": {
        "id": "nniKQUcjxEpz"
      }
    },
    {
      "cell_type": "code",
      "source": [
        "plot_loss(model)"
      ],
      "metadata": {
        "id": "imkRgNcdxgpU"
      },
      "execution_count": null,
      "outputs": []
    },
    {
      "cell_type": "code",
      "source": [],
      "metadata": {
        "id": "tGTbEfVlZZUW"
      },
      "execution_count": null,
      "outputs": []
    }
  ]
}