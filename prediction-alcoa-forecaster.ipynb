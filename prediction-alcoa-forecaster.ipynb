{
  "nbformat": 4,
  "nbformat_minor": 0,
  "metadata": {
    "colab": {
      "provenance": [],
      "authorship_tag": "ABX9TyOWpG86rr78VxTc5C09rVRA"
    },
    "kernelspec": {
      "name": "python3",
      "display_name": "Python 3"
    },
    "language_info": {
      "name": "python"
    }
  },
  "cells": [
    {
      "cell_type": "markdown",
      "source": [
        "## DATA"
      ],
      "metadata": {
        "id": "jRQB_o8MKc4A"
      }
    },
    {
      "cell_type": "code",
      "execution_count": null,
      "metadata": {
        "id": "HVxTA04IV2Su"
      },
      "outputs": [],
      "source": [
        "import json\n",
        "import os\n",
        "import csv\n",
        "import numpy as np\n",
        "from numpy import mean\n",
        "import pandas as pd\n",
        "from sklearn import neighbors\n",
        "from sklearn.metrics import mean_squared_error \n",
        "from math import sqrt\n",
        "import matplotlib.pyplot as plt\n",
        "%matplotlib inline\n",
        "import tensorflow as tf\n",
        "from keras.layers import Dropout, LeakyReLU, BatchNormalization\n",
        "from tensorflow.keras.layers import Dense\n",
        "from tensorflow.keras.layers import LSTM\n",
        "from tensorflow.keras.layers import SimpleRNN\n",
        "from tensorflow.keras.layers import GRU\n",
        "from tensorflow.keras.metrics import RootMeanSquaredError, MeanAbsoluteError\n",
        "from tensorflow.keras.models import Sequential\n",
        "from tensorflow.keras.layers import Bidirectional\n",
        "from tensorflow.keras.layers import Flatten\n",
        "from keras.layers.convolutional import Conv1D\n",
        "from keras.layers.convolutional import MaxPooling1D\n",
        "from tensorflow.keras import layers\n",
        "from tensorflow import keras\n"
      ]
    },
    {
      "cell_type": "code",
      "source": [
        "from google.colab import drive\n",
        "drive.mount('/content/drive')"
      ],
      "metadata": {
        "colab": {
          "base_uri": "https://localhost:8080/"
        },
        "id": "N16shAqxV99w",
        "outputId": "5b409fcc-88cc-4e68-c6dd-b3b9c904aecc"
      },
      "execution_count": null,
      "outputs": [
        {
          "output_type": "stream",
          "name": "stdout",
          "text": [
            "Mounted at /content/drive\n"
          ]
        }
      ]
    },
    {
      "cell_type": "code",
      "source": [
        "folder = r\"/content/drive/MyDrive/ALCOA/alcoa\"\n",
        "\n",
        "data = {}\n",
        "recipes = {}\n",
        "\n",
        "with open(r\"/content/drive/MyDrive/ALCOA/DATA-5.2-I1000_new.tsv\") as csvfile:\n",
        "    reader = csv.reader(csvfile, delimiter='\\t')\n",
        "    for r in reader:\n",
        "        s = str(r[0]).zfill(6)\n",
        "        if s not in data.keys():\n",
        "            if r[1] not in recipes.keys() and r[1] != \"RECIPE_ID\":\n",
        "                recipes[r[1]] = None\n",
        "            data[s] = {}\n",
        "            data[s][\"sensors\"] = {}\n",
        "            data[s][\"alcoa\"] = {}\n",
        "            data[s][\"recipe\"] = r[1]\n",
        "        if r[3] not in data [s][\"sensors\"].keys() and r[3] != \"TAGNAME\":\n",
        "            data[s][\"sensors\"][r[3]] = {}\n",
        "            data[s][\"sensors\"][r[3]][\"val\"] = []\n",
        "            data[s][\"sensors\"][r[3]][\"time\"] = []\n",
        "        if r[3] != \"TAGNAME\":    \n",
        "            data[s][\"sensors\"][r[3]][\"val\"].append(r[4])\n",
        "            data[s][\"sensors\"][r[3]][\"time\"].append(float(r[5]))\n",
        "\n",
        "        \n",
        "for batch_id in data.keys():   \n",
        "    \n",
        "    if batch_id == \"ORDER_ID\":\n",
        "        continue\n",
        "    try:\n",
        "        f = open(os.path.join(folder,str(batch_id) + '_rev1_alcoa_output.json'))\n",
        "        json_data = json.load(f)\n",
        "        f.close()\n",
        "        for key in json_data['alcoa'].keys():\n",
        "            if key == 'date':\n",
        "                continue\n",
        "            data[batch_id][\"alcoa\"][key] = json_data['alcoa'][key]['score']\n",
        "    except: \n",
        "        data[batch_id] = None;\n",
        "        \n",
        "del data[\"ORDER_ID\"]\n",
        "\n",
        "a = []        \n",
        "for batch_id in data.keys():\n",
        "    if data[batch_id] == None:\n",
        "        a.append(batch_id)\n",
        "        continue\n",
        "    data[batch_id][\"alcoa\"] = list(data[batch_id][\"alcoa\"].values())\n",
        "\n",
        "def match_alcoa_after_N_batches(data):\n",
        "    max_times = {}\n",
        "    ret_vect = {}\n",
        "    for batch_id in data.keys():   \n",
        "        d = data[batch_id]\n",
        "\n",
        "        if d == None:\n",
        "            continue;\n",
        "        data[batch_id][\"max_time\"] = 0\n",
        "\n",
        "        for sensor_id in d['sensors'].keys():\n",
        "            m = max(d['sensors'][sensor_id]['time'])\n",
        "            if m > data[batch_id][\"max_time\"]:\n",
        "                data[batch_id][\"max_time\"] = m\n",
        "        max_times[batch_id] = data[batch_id][\"max_time\"]\n",
        "    max_times = {k: v for k, v in sorted(max_times.items(), key=lambda item: item[1])}\n",
        "    keys = list(max_times.keys())\n",
        "   \n",
        "    return keys\n",
        "\n",
        "one_hot_encodings = {}\n",
        "i = 0;\n",
        "for recipe in recipes.keys():\n",
        "    one_hot_encodings[recipe] = []\n",
        "    for h in range(len(recipes)):\n",
        "        if(h==i):\n",
        "            one_hot_encodings[recipe].append(1)\n",
        "        else:\n",
        "            one_hot_encodings[recipe].append(0)\n",
        "    i+=1\n",
        "\n",
        "k = match_alcoa_after_N_batches(data)"
      ],
      "metadata": {
        "id": "gyOHBsWQV-Y4"
      },
      "execution_count": null,
      "outputs": []
    },
    {
      "cell_type": "code",
      "source": [
        "data.keys()"
      ],
      "metadata": {
        "colab": {
          "base_uri": "https://localhost:8080/"
        },
        "id": "-YZGvKfaWR4H",
        "outputId": "0c0b1ee2-9ff8-4424-95f0-2e97dca9b115"
      },
      "execution_count": null,
      "outputs": [
        {
          "output_type": "execute_result",
          "data": {
            "text/plain": [
              "dict_keys(['031016', '031019', '031018', '932386', '932786', '931713', '031034', '932155', '931291', '031029', '931973', '931527', '833337', '931708', '931532', '932689', '931009', '932391', '932791', '932690', '931010', '031022', '932138', '932151', '931805', '932794', '933361', '031026', '932134', '933360', '931006', '932382', '931970', '932129', '932800', '932389', '931710', '933116', '932152', '932398', '932383', '932168', '932795', '931005', '031030', '932801', '931701', '932688', '931292', '932686', '931528', '932387', '031035', '932390', '932790', '031021', '932684', '931290', '932799', '931702', '932375', '031028', '932797', '933264', '931533', '833334', '932144', '932822', '031025', '933254', '931003', '931526', '932787', '931712', '932154', '931287', '932785', '931700', '932139', '931289', '932142', '932381', '931803', '931294', '931964', '932805', '031037', '932147', '933261', '031039', '932132', '932135', '931966', '931705', '932150', '931974', '931007', '933114', '932803', '933358', '932394', '931706', '933260', '931967', '932148', '932802', '031210', '932793', '931004', '931804', '031027', '031024', '933212', '931296', '932393', '932392', '931286', '932796', '933257', '833333', '031036', '031032', '031023', '931534', '933256', '932783', '932806', '932683', '932136', '932804', '933362', '932807', '932782', '932798', '932784', '932789', '933113', '932823', '932792', '932820', '933262', '931963', '933359', '932380', '932145', '932137', '932141', '931530', '931295', '932687', '931802', '932685', '931971', '931968', '932131', '932169', '931011', '931969', '932388', '932379', '931972', '932130', '931885', '031020', '931293', '931008', '931699', '931297', '931707', '931012', '931531', '931529', '931729', '931285', '931303', '932691', '931002', '833335', '833336'])"
            ]
          },
          "metadata": {},
          "execution_count": 4
        }
      ]
    },
    {
      "cell_type": "code",
      "source": [
        "data['031016'][\"alcoa\"][4]"
      ],
      "metadata": {
        "colab": {
          "base_uri": "https://localhost:8080/"
        },
        "id": "17fs5t_aWuxv",
        "outputId": "62804b53-d799-491c-de02-906f3d4bf2a4"
      },
      "execution_count": null,
      "outputs": [
        {
          "output_type": "execute_result",
          "data": {
            "text/plain": [
              "39"
            ]
          },
          "metadata": {},
          "execution_count": 5
        }
      ]
    },
    {
      "cell_type": "code",
      "source": [
        "data[\"031016\"][\"recipe\"]"
      ],
      "metadata": {
        "colab": {
          "base_uri": "https://localhost:8080/",
          "height": 35
        },
        "id": "3RHtD3s1WxV_",
        "outputId": "9d457825-d7a4-432b-81d5-7e2cde1b5700"
      },
      "execution_count": null,
      "outputs": [
        {
          "output_type": "execute_result",
          "data": {
            "text/plain": [
              "'155696'"
            ],
            "application/vnd.google.colaboratory.intrinsic+json": {
              "type": "string"
            }
          },
          "metadata": {},
          "execution_count": 6
        }
      ]
    },
    {
      "cell_type": "code",
      "source": [
        "recipes.keys()"
      ],
      "metadata": {
        "colab": {
          "base_uri": "https://localhost:8080/"
        },
        "id": "sJkHFBOWW3H3",
        "outputId": "8fc62ddb-1f20-4cec-cbcd-556a3ccece19"
      },
      "execution_count": null,
      "outputs": [
        {
          "output_type": "execute_result",
          "data": {
            "text/plain": [
              "dict_keys(['155696', '153720', '155610', '154928'])"
            ]
          },
          "metadata": {},
          "execution_count": 7
        }
      ]
    },
    {
      "cell_type": "code",
      "source": [
        "one_hot_encodings[data[\"031016\"][\"recipe\"]]"
      ],
      "metadata": {
        "colab": {
          "base_uri": "https://localhost:8080/"
        },
        "id": "58lnFu_SyYGO",
        "outputId": "01340ad4-a336-4dcf-9266-52c1ff8f6109"
      },
      "execution_count": null,
      "outputs": [
        {
          "output_type": "execute_result",
          "data": {
            "text/plain": [
              "[1, 0, 0, 0]"
            ]
          },
          "metadata": {},
          "execution_count": 8
        }
      ]
    },
    {
      "cell_type": "code",
      "source": [
        "one_hot_encodings.keys()"
      ],
      "metadata": {
        "colab": {
          "base_uri": "https://localhost:8080/"
        },
        "id": "86ph1mX3X5DW",
        "outputId": "d7575602-bf36-459d-f264-320c3b48c99c"
      },
      "execution_count": null,
      "outputs": [
        {
          "output_type": "execute_result",
          "data": {
            "text/plain": [
              "dict_keys(['155696', '153720', '155610', '154928'])"
            ]
          },
          "metadata": {},
          "execution_count": 9
        }
      ]
    },
    {
      "cell_type": "code",
      "source": [
        "for batch_id in data.keys():\n",
        "  if data[batch_id]==None:\n",
        "    print(batch_id)\n",
        "del data[\"932147\"]   \n",
        "del data[\"031023\"]   \n",
        "del data[\"933256\"]"
      ],
      "metadata": {
        "colab": {
          "base_uri": "https://localhost:8080/"
        },
        "id": "fqsjjM0KzRYs",
        "outputId": "4a209402-f5f6-4020-c541-5601a22798ff"
      },
      "execution_count": null,
      "outputs": [
        {
          "output_type": "stream",
          "name": "stdout",
          "text": [
            "932147\n",
            "031023\n",
            "933256\n"
          ]
        }
      ]
    },
    {
      "cell_type": "code",
      "source": [
        "yAttributable= []\n",
        "yLegible = []\n",
        "yContemporaneous= []\n",
        "yOriginal = []\n",
        "yAccurate= []\n",
        "yComplete = []\n",
        "yConsistent = []\n",
        "yAvailable = []\n",
        "yEnduring = []\n",
        "\n",
        "for batch_id in data.keys():\n",
        "    yAttributable.append(data[batch_id][\"alcoa\"][0])\n",
        "yAttributable = tf.convert_to_tensor(yAttributable, dtype=tf.float32)\n",
        "yAttributable = yAttributable.numpy()\n",
        "\n",
        "for batch_id in data.keys():\n",
        "    yLegible.append(data[batch_id][\"alcoa\"][1])\n",
        "yLegible = tf.convert_to_tensor(yLegible, dtype=tf.float32)\n",
        "yLegible = yLegible.numpy()\n",
        "    \n",
        "for batch_id in data.keys():\n",
        "    yContemporaneous.append(data[batch_id][\"alcoa\"][2])\n",
        "yContemporaneous = tf.convert_to_tensor(yContemporaneous, dtype=tf.float32)\n",
        "yContemporaneous = yContemporaneous.numpy()    \n",
        "\n",
        "for batch_id in data.keys():\n",
        "    yOriginal.append(data[batch_id][\"alcoa\"][3])\n",
        "yOriginal = tf.convert_to_tensor(yOriginal, dtype=tf.float32)\n",
        "yOriginal = yOriginal.numpy()    \n",
        "\n",
        "for batch_id in data.keys():\n",
        "    yAccurate.append(data[batch_id][\"alcoa\"][4]) \n",
        "yAccurate = tf.convert_to_tensor(yAccurate, dtype=tf.float32)\n",
        "yAccurate = yAccurate.numpy()    \n",
        "\n",
        "for batch_id in data.keys():\n",
        "    yComplete.append(data[batch_id][\"alcoa\"][5]) \n",
        "yComplete = tf.convert_to_tensor(yComplete, dtype=tf.float32)\n",
        "yComplete = yComplete.numpy()  \n",
        "\n",
        "for batch_id in data.keys():\n",
        "    yConsistent.append(data[batch_id][\"alcoa\"][6]) \n",
        "yConsistent = tf.convert_to_tensor(yConsistent, dtype=tf.float32)\n",
        "yConsistent = yConsistent.numpy()    \n",
        "\n",
        "for batch_id in data.keys():\n",
        "    yAvailable.append(data[batch_id][\"alcoa\"][7]) \n",
        "yAvailable = tf.convert_to_tensor(yAvailable, dtype=tf.float32)\n",
        "yAvailable = yAvailable.numpy()\n",
        "\n",
        "for batch_id in data.keys():\n",
        "    yEnduring.append(data[batch_id][\"alcoa\"][8]) \n",
        "yEnduring = tf.convert_to_tensor(yEnduring, dtype=tf.float32)\n",
        "yEnduring = yEnduring.numpy()    \n",
        "\n",
        "print(len(yAttributable))\n",
        "print(yAccurate)"
      ],
      "metadata": {
        "colab": {
          "base_uri": "https://localhost:8080/"
        },
        "id": "h1Su26X3X84G",
        "outputId": "bfe8fc18-e840-4951-8213-43e6d2b46f3f"
      },
      "execution_count": null,
      "outputs": [
        {
          "output_type": "stream",
          "name": "stdout",
          "text": [
            "176\n",
            "[39. 32. 36. 38. 34. 25. 38. 36. 40. 39. 39. 37. 30. 39. 40. 40. 40. 36.\n",
            " 39. 36. 41. 33. 39. 38. 38. 35. 36. 38. 34. 36. 50. 37. 39. 34. 36. 36.\n",
            " 36. 38. 42. 38. 40. 39. 35. 50. 35. 50. 40. 36. 38.  0. 36. 36. 38. 36.\n",
            " 42. 38. 39. 36. 35. 36. 35. 39. 35. 35. 39. 38. 38. 36. 42. 34. 50. 38.\n",
            " 36. 33. 36. 33. 40. 38.  0. 37. 32. 38. 36. 36. 36. 37. 38. 35. 36. 38.\n",
            " 36. 34. 35. 38. 39. 50. 40. 38. 38. 36. 36. 38. 36. 39. 50. 38. 37. 50.\n",
            " 36. 36. 40. 38. 36. 36. 36. 50. 33. 35. 34. 40. 37. 39. 50. 42. 36. 34.\n",
            " 35. 38. 38. 39. 38.  0. 38. 35. 39. 38. 41. 38. 33. 35. 35. 36. 38. 36.\n",
            " 36. 40. 36. 35. 38. 39. 38. 36. 33. 50. 41. 36. 39. 37. 40. 38. 36. 38.\n",
            " 50. 33. 36. 36. 30. 38. 37. 36. 36. 50. 38. 50. 37. 36.]\n"
          ]
        }
      ]
    },
    {
      "cell_type": "code",
      "source": [
        "a= []\n",
        "b= []\n",
        "c= []\n",
        "d = []\n",
        "e = []\n",
        "p = []\n",
        "\n",
        "for batch_id in data.keys():\n",
        "  p = one_hot_encodings[data[batch_id][\"recipe\"]]\n",
        "  a.append(p)\n",
        "a = tf.convert_to_tensor(a, dtype=tf.float32) \n",
        "a = a.numpy()   \n",
        "\n",
        "for i in range (len(a)):\n",
        "  p = a[i,0] \n",
        "  b.append(p)\n",
        "\n",
        "for i in range (len(a)):\n",
        "  p = a[i,1]\n",
        "  c.append(p)\n",
        "\n",
        "for i in range (len(a)):\n",
        "  p = a[i,2] \n",
        "  d.append(p)\n",
        "  \n",
        "for i in range (len(a)):\n",
        "  p = a[i,3] \n",
        "  e.append(p)"
      ],
      "metadata": {
        "id": "-F0HZjs5YV4O"
      },
      "execution_count": null,
      "outputs": []
    },
    {
      "cell_type": "code",
      "source": [
        "print(len(d))"
      ],
      "metadata": {
        "colab": {
          "base_uri": "https://localhost:8080/"
        },
        "id": "pHOT9DwrGbMY",
        "outputId": "78e16b9f-747d-47bd-d4d2-256bd283f9dd"
      },
      "execution_count": null,
      "outputs": [
        {
          "output_type": "stream",
          "name": "stdout",
          "text": [
            "176\n"
          ]
        }
      ]
    },
    {
      "cell_type": "code",
      "source": [
        "import pandas as pd\n",
        "df = [b,c,d,e ,yLegible, yAttributable, yContemporaneous, yOriginal, yAccurate, yComplete, yConsistent, yAvailable, yEnduring]\n",
        "df = pd.DataFrame(df)"
      ],
      "metadata": {
        "id": "jdkzBQL9ABkL"
      },
      "execution_count": null,
      "outputs": []
    },
    {
      "cell_type": "code",
      "source": [
        "df = df.T"
      ],
      "metadata": {
        "id": "AcSOfH7TAF9q"
      },
      "execution_count": null,
      "outputs": []
    },
    {
      "cell_type": "code",
      "source": [
        "df"
      ],
      "metadata": {
        "colab": {
          "base_uri": "https://localhost:8080/",
          "height": 424
        },
        "id": "NbqzIozzBQRi",
        "outputId": "13b8c9dd-b550-4d1c-d35e-5ae61b211b07"
      },
      "execution_count": null,
      "outputs": [
        {
          "output_type": "execute_result",
          "data": {
            "text/plain": [
              "      0    1    2    3     4     5     6      7     8     9      10   11   12\n",
              "0    1.0  0.0  0.0  0.0  81.0  48.0  85.0  100.0  39.0  97.0  100.0  0.0  0.0\n",
              "1    1.0  0.0  0.0  0.0  81.0  49.0  88.0  100.0  32.0  97.0  100.0  0.0  0.0\n",
              "2    1.0  0.0  0.0  0.0  77.0  50.0  92.0  100.0  36.0  98.0  100.0  0.0  0.0\n",
              "3    0.0  1.0  0.0  0.0  86.0  49.0  88.0  100.0  38.0  98.0  100.0  0.0  0.0\n",
              "4    1.0  0.0  0.0  0.0  80.0  49.0  90.0  100.0  34.0  98.0  100.0  0.0  0.0\n",
              "..   ...  ...  ...  ...   ...   ...   ...    ...   ...   ...    ...  ...  ...\n",
              "171  0.0  1.0  0.0  0.0  90.0  50.0  71.0  100.0  50.0  90.0  100.0  0.0  0.0\n",
              "172  1.0  0.0  0.0  0.0  78.0  50.0  93.0  100.0  38.0  98.0  100.0  0.0  0.0\n",
              "173  1.0  0.0  0.0  0.0  90.0  50.0  62.0  100.0  50.0  84.0  100.0  0.0  0.0\n",
              "174  0.0  1.0  0.0  0.0  84.0  49.0  92.0  100.0  37.0  98.0  100.0  0.0  0.0\n",
              "175  0.0  1.0  0.0  0.0  83.0  49.0  90.0  100.0  36.0  98.0  100.0  0.0  0.0\n",
              "\n",
              "[176 rows x 13 columns]"
            ],
            "text/html": [
              "\n",
              "  <div id=\"df-2d59791c-3621-4b16-aceb-2ec9a63aea4a\">\n",
              "    <div class=\"colab-df-container\">\n",
              "      <div>\n",
              "<style scoped>\n",
              "    .dataframe tbody tr th:only-of-type {\n",
              "        vertical-align: middle;\n",
              "    }\n",
              "\n",
              "    .dataframe tbody tr th {\n",
              "        vertical-align: top;\n",
              "    }\n",
              "\n",
              "    .dataframe thead th {\n",
              "        text-align: right;\n",
              "    }\n",
              "</style>\n",
              "<table border=\"1\" class=\"dataframe\">\n",
              "  <thead>\n",
              "    <tr style=\"text-align: right;\">\n",
              "      <th></th>\n",
              "      <th>0</th>\n",
              "      <th>1</th>\n",
              "      <th>2</th>\n",
              "      <th>3</th>\n",
              "      <th>4</th>\n",
              "      <th>5</th>\n",
              "      <th>6</th>\n",
              "      <th>7</th>\n",
              "      <th>8</th>\n",
              "      <th>9</th>\n",
              "      <th>10</th>\n",
              "      <th>11</th>\n",
              "      <th>12</th>\n",
              "    </tr>\n",
              "  </thead>\n",
              "  <tbody>\n",
              "    <tr>\n",
              "      <th>0</th>\n",
              "      <td>1.0</td>\n",
              "      <td>0.0</td>\n",
              "      <td>0.0</td>\n",
              "      <td>0.0</td>\n",
              "      <td>81.0</td>\n",
              "      <td>48.0</td>\n",
              "      <td>85.0</td>\n",
              "      <td>100.0</td>\n",
              "      <td>39.0</td>\n",
              "      <td>97.0</td>\n",
              "      <td>100.0</td>\n",
              "      <td>0.0</td>\n",
              "      <td>0.0</td>\n",
              "    </tr>\n",
              "    <tr>\n",
              "      <th>1</th>\n",
              "      <td>1.0</td>\n",
              "      <td>0.0</td>\n",
              "      <td>0.0</td>\n",
              "      <td>0.0</td>\n",
              "      <td>81.0</td>\n",
              "      <td>49.0</td>\n",
              "      <td>88.0</td>\n",
              "      <td>100.0</td>\n",
              "      <td>32.0</td>\n",
              "      <td>97.0</td>\n",
              "      <td>100.0</td>\n",
              "      <td>0.0</td>\n",
              "      <td>0.0</td>\n",
              "    </tr>\n",
              "    <tr>\n",
              "      <th>2</th>\n",
              "      <td>1.0</td>\n",
              "      <td>0.0</td>\n",
              "      <td>0.0</td>\n",
              "      <td>0.0</td>\n",
              "      <td>77.0</td>\n",
              "      <td>50.0</td>\n",
              "      <td>92.0</td>\n",
              "      <td>100.0</td>\n",
              "      <td>36.0</td>\n",
              "      <td>98.0</td>\n",
              "      <td>100.0</td>\n",
              "      <td>0.0</td>\n",
              "      <td>0.0</td>\n",
              "    </tr>\n",
              "    <tr>\n",
              "      <th>3</th>\n",
              "      <td>0.0</td>\n",
              "      <td>1.0</td>\n",
              "      <td>0.0</td>\n",
              "      <td>0.0</td>\n",
              "      <td>86.0</td>\n",
              "      <td>49.0</td>\n",
              "      <td>88.0</td>\n",
              "      <td>100.0</td>\n",
              "      <td>38.0</td>\n",
              "      <td>98.0</td>\n",
              "      <td>100.0</td>\n",
              "      <td>0.0</td>\n",
              "      <td>0.0</td>\n",
              "    </tr>\n",
              "    <tr>\n",
              "      <th>4</th>\n",
              "      <td>1.0</td>\n",
              "      <td>0.0</td>\n",
              "      <td>0.0</td>\n",
              "      <td>0.0</td>\n",
              "      <td>80.0</td>\n",
              "      <td>49.0</td>\n",
              "      <td>90.0</td>\n",
              "      <td>100.0</td>\n",
              "      <td>34.0</td>\n",
              "      <td>98.0</td>\n",
              "      <td>100.0</td>\n",
              "      <td>0.0</td>\n",
              "      <td>0.0</td>\n",
              "    </tr>\n",
              "    <tr>\n",
              "      <th>...</th>\n",
              "      <td>...</td>\n",
              "      <td>...</td>\n",
              "      <td>...</td>\n",
              "      <td>...</td>\n",
              "      <td>...</td>\n",
              "      <td>...</td>\n",
              "      <td>...</td>\n",
              "      <td>...</td>\n",
              "      <td>...</td>\n",
              "      <td>...</td>\n",
              "      <td>...</td>\n",
              "      <td>...</td>\n",
              "      <td>...</td>\n",
              "    </tr>\n",
              "    <tr>\n",
              "      <th>171</th>\n",
              "      <td>0.0</td>\n",
              "      <td>1.0</td>\n",
              "      <td>0.0</td>\n",
              "      <td>0.0</td>\n",
              "      <td>90.0</td>\n",
              "      <td>50.0</td>\n",
              "      <td>71.0</td>\n",
              "      <td>100.0</td>\n",
              "      <td>50.0</td>\n",
              "      <td>90.0</td>\n",
              "      <td>100.0</td>\n",
              "      <td>0.0</td>\n",
              "      <td>0.0</td>\n",
              "    </tr>\n",
              "    <tr>\n",
              "      <th>172</th>\n",
              "      <td>1.0</td>\n",
              "      <td>0.0</td>\n",
              "      <td>0.0</td>\n",
              "      <td>0.0</td>\n",
              "      <td>78.0</td>\n",
              "      <td>50.0</td>\n",
              "      <td>93.0</td>\n",
              "      <td>100.0</td>\n",
              "      <td>38.0</td>\n",
              "      <td>98.0</td>\n",
              "      <td>100.0</td>\n",
              "      <td>0.0</td>\n",
              "      <td>0.0</td>\n",
              "    </tr>\n",
              "    <tr>\n",
              "      <th>173</th>\n",
              "      <td>1.0</td>\n",
              "      <td>0.0</td>\n",
              "      <td>0.0</td>\n",
              "      <td>0.0</td>\n",
              "      <td>90.0</td>\n",
              "      <td>50.0</td>\n",
              "      <td>62.0</td>\n",
              "      <td>100.0</td>\n",
              "      <td>50.0</td>\n",
              "      <td>84.0</td>\n",
              "      <td>100.0</td>\n",
              "      <td>0.0</td>\n",
              "      <td>0.0</td>\n",
              "    </tr>\n",
              "    <tr>\n",
              "      <th>174</th>\n",
              "      <td>0.0</td>\n",
              "      <td>1.0</td>\n",
              "      <td>0.0</td>\n",
              "      <td>0.0</td>\n",
              "      <td>84.0</td>\n",
              "      <td>49.0</td>\n",
              "      <td>92.0</td>\n",
              "      <td>100.0</td>\n",
              "      <td>37.0</td>\n",
              "      <td>98.0</td>\n",
              "      <td>100.0</td>\n",
              "      <td>0.0</td>\n",
              "      <td>0.0</td>\n",
              "    </tr>\n",
              "    <tr>\n",
              "      <th>175</th>\n",
              "      <td>0.0</td>\n",
              "      <td>1.0</td>\n",
              "      <td>0.0</td>\n",
              "      <td>0.0</td>\n",
              "      <td>83.0</td>\n",
              "      <td>49.0</td>\n",
              "      <td>90.0</td>\n",
              "      <td>100.0</td>\n",
              "      <td>36.0</td>\n",
              "      <td>98.0</td>\n",
              "      <td>100.0</td>\n",
              "      <td>0.0</td>\n",
              "      <td>0.0</td>\n",
              "    </tr>\n",
              "  </tbody>\n",
              "</table>\n",
              "<p>176 rows × 13 columns</p>\n",
              "</div>\n",
              "      <button class=\"colab-df-convert\" onclick=\"convertToInteractive('df-2d59791c-3621-4b16-aceb-2ec9a63aea4a')\"\n",
              "              title=\"Convert this dataframe to an interactive table.\"\n",
              "              style=\"display:none;\">\n",
              "        \n",
              "  <svg xmlns=\"http://www.w3.org/2000/svg\" height=\"24px\"viewBox=\"0 0 24 24\"\n",
              "       width=\"24px\">\n",
              "    <path d=\"M0 0h24v24H0V0z\" fill=\"none\"/>\n",
              "    <path d=\"M18.56 5.44l.94 2.06.94-2.06 2.06-.94-2.06-.94-.94-2.06-.94 2.06-2.06.94zm-11 1L8.5 8.5l.94-2.06 2.06-.94-2.06-.94L8.5 2.5l-.94 2.06-2.06.94zm10 10l.94 2.06.94-2.06 2.06-.94-2.06-.94-.94-2.06-.94 2.06-2.06.94z\"/><path d=\"M17.41 7.96l-1.37-1.37c-.4-.4-.92-.59-1.43-.59-.52 0-1.04.2-1.43.59L10.3 9.45l-7.72 7.72c-.78.78-.78 2.05 0 2.83L4 21.41c.39.39.9.59 1.41.59.51 0 1.02-.2 1.41-.59l7.78-7.78 2.81-2.81c.8-.78.8-2.07 0-2.86zM5.41 20L4 18.59l7.72-7.72 1.47 1.35L5.41 20z\"/>\n",
              "  </svg>\n",
              "      </button>\n",
              "      \n",
              "  <style>\n",
              "    .colab-df-container {\n",
              "      display:flex;\n",
              "      flex-wrap:wrap;\n",
              "      gap: 12px;\n",
              "    }\n",
              "\n",
              "    .colab-df-convert {\n",
              "      background-color: #E8F0FE;\n",
              "      border: none;\n",
              "      border-radius: 50%;\n",
              "      cursor: pointer;\n",
              "      display: none;\n",
              "      fill: #1967D2;\n",
              "      height: 32px;\n",
              "      padding: 0 0 0 0;\n",
              "      width: 32px;\n",
              "    }\n",
              "\n",
              "    .colab-df-convert:hover {\n",
              "      background-color: #E2EBFA;\n",
              "      box-shadow: 0px 1px 2px rgba(60, 64, 67, 0.3), 0px 1px 3px 1px rgba(60, 64, 67, 0.15);\n",
              "      fill: #174EA6;\n",
              "    }\n",
              "\n",
              "    [theme=dark] .colab-df-convert {\n",
              "      background-color: #3B4455;\n",
              "      fill: #D2E3FC;\n",
              "    }\n",
              "\n",
              "    [theme=dark] .colab-df-convert:hover {\n",
              "      background-color: #434B5C;\n",
              "      box-shadow: 0px 1px 3px 1px rgba(0, 0, 0, 0.15);\n",
              "      filter: drop-shadow(0px 1px 2px rgba(0, 0, 0, 0.3));\n",
              "      fill: #FFFFFF;\n",
              "    }\n",
              "  </style>\n",
              "\n",
              "      <script>\n",
              "        const buttonEl =\n",
              "          document.querySelector('#df-2d59791c-3621-4b16-aceb-2ec9a63aea4a button.colab-df-convert');\n",
              "        buttonEl.style.display =\n",
              "          google.colab.kernel.accessAllowed ? 'block' : 'none';\n",
              "\n",
              "        async function convertToInteractive(key) {\n",
              "          const element = document.querySelector('#df-2d59791c-3621-4b16-aceb-2ec9a63aea4a');\n",
              "          const dataTable =\n",
              "            await google.colab.kernel.invokeFunction('convertToInteractive',\n",
              "                                                     [key], {});\n",
              "          if (!dataTable) return;\n",
              "\n",
              "          const docLinkHtml = 'Like what you see? Visit the ' +\n",
              "            '<a target=\"_blank\" href=https://colab.research.google.com/notebooks/data_table.ipynb>data table notebook</a>'\n",
              "            + ' to learn more about interactive tables.';\n",
              "          element.innerHTML = '';\n",
              "          dataTable['output_type'] = 'display_data';\n",
              "          await google.colab.output.renderOutput(dataTable, element);\n",
              "          const docLink = document.createElement('div');\n",
              "          docLink.innerHTML = docLinkHtml;\n",
              "          element.appendChild(docLink);\n",
              "        }\n",
              "      </script>\n",
              "    </div>\n",
              "  </div>\n",
              "  "
            ]
          },
          "metadata": {},
          "execution_count": 29
        }
      ]
    },
    {
      "cell_type": "code",
      "source": [
        "df.columns = ['0','1', '2', '3' ,'Legible' , 'Attributable', 'Contemporaneous', 'Original', 'Accurate', 'Complete', 'Consistent', 'Available', 'Enduring']"
      ],
      "metadata": {
        "id": "fxMgQ1U1HKXX"
      },
      "execution_count": null,
      "outputs": []
    },
    {
      "cell_type": "code",
      "source": [
        "df"
      ],
      "metadata": {
        "colab": {
          "base_uri": "https://localhost:8080/",
          "height": 424
        },
        "id": "QHX1waLSHeon",
        "outputId": "a8bd0237-9c31-45ff-a6d9-86d27f803a1b"
      },
      "execution_count": null,
      "outputs": [
        {
          "output_type": "execute_result",
          "data": {
            "text/plain": [
              "       0    1    2    3  Legible  Attributable  Contemporaneous  Original  \\\n",
              "0    1.0  0.0  0.0  0.0     81.0          48.0             85.0     100.0   \n",
              "1    1.0  0.0  0.0  0.0     81.0          49.0             88.0     100.0   \n",
              "2    1.0  0.0  0.0  0.0     77.0          50.0             92.0     100.0   \n",
              "3    0.0  1.0  0.0  0.0     86.0          49.0             88.0     100.0   \n",
              "4    1.0  0.0  0.0  0.0     80.0          49.0             90.0     100.0   \n",
              "..   ...  ...  ...  ...      ...           ...              ...       ...   \n",
              "171  0.0  1.0  0.0  0.0     90.0          50.0             71.0     100.0   \n",
              "172  1.0  0.0  0.0  0.0     78.0          50.0             93.0     100.0   \n",
              "173  1.0  0.0  0.0  0.0     90.0          50.0             62.0     100.0   \n",
              "174  0.0  1.0  0.0  0.0     84.0          49.0             92.0     100.0   \n",
              "175  0.0  1.0  0.0  0.0     83.0          49.0             90.0     100.0   \n",
              "\n",
              "     Accurate  Complete  Consistent  Available  Enduring  \n",
              "0        39.0      97.0       100.0        0.0       0.0  \n",
              "1        32.0      97.0       100.0        0.0       0.0  \n",
              "2        36.0      98.0       100.0        0.0       0.0  \n",
              "3        38.0      98.0       100.0        0.0       0.0  \n",
              "4        34.0      98.0       100.0        0.0       0.0  \n",
              "..        ...       ...         ...        ...       ...  \n",
              "171      50.0      90.0       100.0        0.0       0.0  \n",
              "172      38.0      98.0       100.0        0.0       0.0  \n",
              "173      50.0      84.0       100.0        0.0       0.0  \n",
              "174      37.0      98.0       100.0        0.0       0.0  \n",
              "175      36.0      98.0       100.0        0.0       0.0  \n",
              "\n",
              "[176 rows x 13 columns]"
            ],
            "text/html": [
              "\n",
              "  <div id=\"df-320b666b-c0d3-4a1b-ac2c-4485f4f1d975\">\n",
              "    <div class=\"colab-df-container\">\n",
              "      <div>\n",
              "<style scoped>\n",
              "    .dataframe tbody tr th:only-of-type {\n",
              "        vertical-align: middle;\n",
              "    }\n",
              "\n",
              "    .dataframe tbody tr th {\n",
              "        vertical-align: top;\n",
              "    }\n",
              "\n",
              "    .dataframe thead th {\n",
              "        text-align: right;\n",
              "    }\n",
              "</style>\n",
              "<table border=\"1\" class=\"dataframe\">\n",
              "  <thead>\n",
              "    <tr style=\"text-align: right;\">\n",
              "      <th></th>\n",
              "      <th>0</th>\n",
              "      <th>1</th>\n",
              "      <th>2</th>\n",
              "      <th>3</th>\n",
              "      <th>Legible</th>\n",
              "      <th>Attributable</th>\n",
              "      <th>Contemporaneous</th>\n",
              "      <th>Original</th>\n",
              "      <th>Accurate</th>\n",
              "      <th>Complete</th>\n",
              "      <th>Consistent</th>\n",
              "      <th>Available</th>\n",
              "      <th>Enduring</th>\n",
              "    </tr>\n",
              "  </thead>\n",
              "  <tbody>\n",
              "    <tr>\n",
              "      <th>0</th>\n",
              "      <td>1.0</td>\n",
              "      <td>0.0</td>\n",
              "      <td>0.0</td>\n",
              "      <td>0.0</td>\n",
              "      <td>81.0</td>\n",
              "      <td>48.0</td>\n",
              "      <td>85.0</td>\n",
              "      <td>100.0</td>\n",
              "      <td>39.0</td>\n",
              "      <td>97.0</td>\n",
              "      <td>100.0</td>\n",
              "      <td>0.0</td>\n",
              "      <td>0.0</td>\n",
              "    </tr>\n",
              "    <tr>\n",
              "      <th>1</th>\n",
              "      <td>1.0</td>\n",
              "      <td>0.0</td>\n",
              "      <td>0.0</td>\n",
              "      <td>0.0</td>\n",
              "      <td>81.0</td>\n",
              "      <td>49.0</td>\n",
              "      <td>88.0</td>\n",
              "      <td>100.0</td>\n",
              "      <td>32.0</td>\n",
              "      <td>97.0</td>\n",
              "      <td>100.0</td>\n",
              "      <td>0.0</td>\n",
              "      <td>0.0</td>\n",
              "    </tr>\n",
              "    <tr>\n",
              "      <th>2</th>\n",
              "      <td>1.0</td>\n",
              "      <td>0.0</td>\n",
              "      <td>0.0</td>\n",
              "      <td>0.0</td>\n",
              "      <td>77.0</td>\n",
              "      <td>50.0</td>\n",
              "      <td>92.0</td>\n",
              "      <td>100.0</td>\n",
              "      <td>36.0</td>\n",
              "      <td>98.0</td>\n",
              "      <td>100.0</td>\n",
              "      <td>0.0</td>\n",
              "      <td>0.0</td>\n",
              "    </tr>\n",
              "    <tr>\n",
              "      <th>3</th>\n",
              "      <td>0.0</td>\n",
              "      <td>1.0</td>\n",
              "      <td>0.0</td>\n",
              "      <td>0.0</td>\n",
              "      <td>86.0</td>\n",
              "      <td>49.0</td>\n",
              "      <td>88.0</td>\n",
              "      <td>100.0</td>\n",
              "      <td>38.0</td>\n",
              "      <td>98.0</td>\n",
              "      <td>100.0</td>\n",
              "      <td>0.0</td>\n",
              "      <td>0.0</td>\n",
              "    </tr>\n",
              "    <tr>\n",
              "      <th>4</th>\n",
              "      <td>1.0</td>\n",
              "      <td>0.0</td>\n",
              "      <td>0.0</td>\n",
              "      <td>0.0</td>\n",
              "      <td>80.0</td>\n",
              "      <td>49.0</td>\n",
              "      <td>90.0</td>\n",
              "      <td>100.0</td>\n",
              "      <td>34.0</td>\n",
              "      <td>98.0</td>\n",
              "      <td>100.0</td>\n",
              "      <td>0.0</td>\n",
              "      <td>0.0</td>\n",
              "    </tr>\n",
              "    <tr>\n",
              "      <th>...</th>\n",
              "      <td>...</td>\n",
              "      <td>...</td>\n",
              "      <td>...</td>\n",
              "      <td>...</td>\n",
              "      <td>...</td>\n",
              "      <td>...</td>\n",
              "      <td>...</td>\n",
              "      <td>...</td>\n",
              "      <td>...</td>\n",
              "      <td>...</td>\n",
              "      <td>...</td>\n",
              "      <td>...</td>\n",
              "      <td>...</td>\n",
              "    </tr>\n",
              "    <tr>\n",
              "      <th>171</th>\n",
              "      <td>0.0</td>\n",
              "      <td>1.0</td>\n",
              "      <td>0.0</td>\n",
              "      <td>0.0</td>\n",
              "      <td>90.0</td>\n",
              "      <td>50.0</td>\n",
              "      <td>71.0</td>\n",
              "      <td>100.0</td>\n",
              "      <td>50.0</td>\n",
              "      <td>90.0</td>\n",
              "      <td>100.0</td>\n",
              "      <td>0.0</td>\n",
              "      <td>0.0</td>\n",
              "    </tr>\n",
              "    <tr>\n",
              "      <th>172</th>\n",
              "      <td>1.0</td>\n",
              "      <td>0.0</td>\n",
              "      <td>0.0</td>\n",
              "      <td>0.0</td>\n",
              "      <td>78.0</td>\n",
              "      <td>50.0</td>\n",
              "      <td>93.0</td>\n",
              "      <td>100.0</td>\n",
              "      <td>38.0</td>\n",
              "      <td>98.0</td>\n",
              "      <td>100.0</td>\n",
              "      <td>0.0</td>\n",
              "      <td>0.0</td>\n",
              "    </tr>\n",
              "    <tr>\n",
              "      <th>173</th>\n",
              "      <td>1.0</td>\n",
              "      <td>0.0</td>\n",
              "      <td>0.0</td>\n",
              "      <td>0.0</td>\n",
              "      <td>90.0</td>\n",
              "      <td>50.0</td>\n",
              "      <td>62.0</td>\n",
              "      <td>100.0</td>\n",
              "      <td>50.0</td>\n",
              "      <td>84.0</td>\n",
              "      <td>100.0</td>\n",
              "      <td>0.0</td>\n",
              "      <td>0.0</td>\n",
              "    </tr>\n",
              "    <tr>\n",
              "      <th>174</th>\n",
              "      <td>0.0</td>\n",
              "      <td>1.0</td>\n",
              "      <td>0.0</td>\n",
              "      <td>0.0</td>\n",
              "      <td>84.0</td>\n",
              "      <td>49.0</td>\n",
              "      <td>92.0</td>\n",
              "      <td>100.0</td>\n",
              "      <td>37.0</td>\n",
              "      <td>98.0</td>\n",
              "      <td>100.0</td>\n",
              "      <td>0.0</td>\n",
              "      <td>0.0</td>\n",
              "    </tr>\n",
              "    <tr>\n",
              "      <th>175</th>\n",
              "      <td>0.0</td>\n",
              "      <td>1.0</td>\n",
              "      <td>0.0</td>\n",
              "      <td>0.0</td>\n",
              "      <td>83.0</td>\n",
              "      <td>49.0</td>\n",
              "      <td>90.0</td>\n",
              "      <td>100.0</td>\n",
              "      <td>36.0</td>\n",
              "      <td>98.0</td>\n",
              "      <td>100.0</td>\n",
              "      <td>0.0</td>\n",
              "      <td>0.0</td>\n",
              "    </tr>\n",
              "  </tbody>\n",
              "</table>\n",
              "<p>176 rows × 13 columns</p>\n",
              "</div>\n",
              "      <button class=\"colab-df-convert\" onclick=\"convertToInteractive('df-320b666b-c0d3-4a1b-ac2c-4485f4f1d975')\"\n",
              "              title=\"Convert this dataframe to an interactive table.\"\n",
              "              style=\"display:none;\">\n",
              "        \n",
              "  <svg xmlns=\"http://www.w3.org/2000/svg\" height=\"24px\"viewBox=\"0 0 24 24\"\n",
              "       width=\"24px\">\n",
              "    <path d=\"M0 0h24v24H0V0z\" fill=\"none\"/>\n",
              "    <path d=\"M18.56 5.44l.94 2.06.94-2.06 2.06-.94-2.06-.94-.94-2.06-.94 2.06-2.06.94zm-11 1L8.5 8.5l.94-2.06 2.06-.94-2.06-.94L8.5 2.5l-.94 2.06-2.06.94zm10 10l.94 2.06.94-2.06 2.06-.94-2.06-.94-.94-2.06-.94 2.06-2.06.94z\"/><path d=\"M17.41 7.96l-1.37-1.37c-.4-.4-.92-.59-1.43-.59-.52 0-1.04.2-1.43.59L10.3 9.45l-7.72 7.72c-.78.78-.78 2.05 0 2.83L4 21.41c.39.39.9.59 1.41.59.51 0 1.02-.2 1.41-.59l7.78-7.78 2.81-2.81c.8-.78.8-2.07 0-2.86zM5.41 20L4 18.59l7.72-7.72 1.47 1.35L5.41 20z\"/>\n",
              "  </svg>\n",
              "      </button>\n",
              "      \n",
              "  <style>\n",
              "    .colab-df-container {\n",
              "      display:flex;\n",
              "      flex-wrap:wrap;\n",
              "      gap: 12px;\n",
              "    }\n",
              "\n",
              "    .colab-df-convert {\n",
              "      background-color: #E8F0FE;\n",
              "      border: none;\n",
              "      border-radius: 50%;\n",
              "      cursor: pointer;\n",
              "      display: none;\n",
              "      fill: #1967D2;\n",
              "      height: 32px;\n",
              "      padding: 0 0 0 0;\n",
              "      width: 32px;\n",
              "    }\n",
              "\n",
              "    .colab-df-convert:hover {\n",
              "      background-color: #E2EBFA;\n",
              "      box-shadow: 0px 1px 2px rgba(60, 64, 67, 0.3), 0px 1px 3px 1px rgba(60, 64, 67, 0.15);\n",
              "      fill: #174EA6;\n",
              "    }\n",
              "\n",
              "    [theme=dark] .colab-df-convert {\n",
              "      background-color: #3B4455;\n",
              "      fill: #D2E3FC;\n",
              "    }\n",
              "\n",
              "    [theme=dark] .colab-df-convert:hover {\n",
              "      background-color: #434B5C;\n",
              "      box-shadow: 0px 1px 3px 1px rgba(0, 0, 0, 0.15);\n",
              "      filter: drop-shadow(0px 1px 2px rgba(0, 0, 0, 0.3));\n",
              "      fill: #FFFFFF;\n",
              "    }\n",
              "  </style>\n",
              "\n",
              "      <script>\n",
              "        const buttonEl =\n",
              "          document.querySelector('#df-320b666b-c0d3-4a1b-ac2c-4485f4f1d975 button.colab-df-convert');\n",
              "        buttonEl.style.display =\n",
              "          google.colab.kernel.accessAllowed ? 'block' : 'none';\n",
              "\n",
              "        async function convertToInteractive(key) {\n",
              "          const element = document.querySelector('#df-320b666b-c0d3-4a1b-ac2c-4485f4f1d975');\n",
              "          const dataTable =\n",
              "            await google.colab.kernel.invokeFunction('convertToInteractive',\n",
              "                                                     [key], {});\n",
              "          if (!dataTable) return;\n",
              "\n",
              "          const docLinkHtml = 'Like what you see? Visit the ' +\n",
              "            '<a target=\"_blank\" href=https://colab.research.google.com/notebooks/data_table.ipynb>data table notebook</a>'\n",
              "            + ' to learn more about interactive tables.';\n",
              "          element.innerHTML = '';\n",
              "          dataTable['output_type'] = 'display_data';\n",
              "          await google.colab.output.renderOutput(dataTable, element);\n",
              "          const docLink = document.createElement('div');\n",
              "          docLink.innerHTML = docLinkHtml;\n",
              "          element.appendChild(docLink);\n",
              "        }\n",
              "      </script>\n",
              "    </div>\n",
              "  </div>\n",
              "  "
            ]
          },
          "metadata": {},
          "execution_count": 31
        }
      ]
    },
    {
      "cell_type": "code",
      "source": [
        "df.info()"
      ],
      "metadata": {
        "colab": {
          "base_uri": "https://localhost:8080/"
        },
        "id": "hyacE_z1HfqP",
        "outputId": "0bc07425-418a-4435-c9af-6ff06ce1de53"
      },
      "execution_count": null,
      "outputs": [
        {
          "output_type": "stream",
          "name": "stdout",
          "text": [
            "<class 'pandas.core.frame.DataFrame'>\n",
            "RangeIndex: 176 entries, 0 to 175\n",
            "Data columns (total 13 columns):\n",
            " #   Column           Non-Null Count  Dtype  \n",
            "---  ------           --------------  -----  \n",
            " 0   0                176 non-null    float32\n",
            " 1   1                176 non-null    float32\n",
            " 2   2                176 non-null    float32\n",
            " 3   3                176 non-null    float32\n",
            " 4   Legible          176 non-null    float32\n",
            " 5   Attributable     176 non-null    float32\n",
            " 6   Contemporaneous  176 non-null    float32\n",
            " 7   Original         176 non-null    float32\n",
            " 8   Accurate         176 non-null    float32\n",
            " 9   Complete         176 non-null    float32\n",
            " 10  Consistent       176 non-null    float32\n",
            " 11  Available        176 non-null    float32\n",
            " 12  Enduring         176 non-null    float32\n",
            "dtypes: float32(13)\n",
            "memory usage: 9.1 KB\n"
          ]
        }
      ]
    },
    {
      "cell_type": "code",
      "source": [
        "df.describe()"
      ],
      "metadata": {
        "colab": {
          "base_uri": "https://localhost:8080/",
          "height": 300
        },
        "id": "acIGgHb_HwD3",
        "outputId": "408d60e1-3a0f-4798-c1db-2409a616ff28"
      },
      "execution_count": null,
      "outputs": [
        {
          "output_type": "execute_result",
          "data": {
            "text/plain": [
              "                0           1           2           3     Legible  \\\n",
              "count  176.000000  176.000000  176.000000  176.000000  176.000000   \n",
              "mean     0.505682    0.482955    0.005682    0.005682   83.102272   \n",
              "std      0.501394    0.501135    0.075378    0.075378    4.000112   \n",
              "min      0.000000    0.000000    0.000000    0.000000   75.000000   \n",
              "25%      0.000000    0.000000    0.000000    0.000000   80.000000   \n",
              "50%      1.000000    0.000000    0.000000    0.000000   84.000000   \n",
              "75%      1.000000    1.000000    0.000000    0.000000   86.000000   \n",
              "max      1.000000    1.000000    1.000000    1.000000   94.000000   \n",
              "\n",
              "       Attributable  Contemporaneous  Original    Accurate    Complete  \\\n",
              "count    176.000000       176.000000     176.0  176.000000  176.000000   \n",
              "mean      48.170456        87.647728     100.0   37.221592   96.761360   \n",
              "std        2.139275         6.316491       0.0    6.427777    2.846529   \n",
              "min       25.000000        62.000000     100.0    0.000000   84.000000   \n",
              "25%       48.000000        86.000000     100.0   36.000000   97.000000   \n",
              "50%       48.000000        89.000000     100.0   37.000000   98.000000   \n",
              "75%       49.000000        91.000000     100.0   39.000000   98.000000   \n",
              "max       50.000000        95.000000     100.0   50.000000   98.000000   \n",
              "\n",
              "       Consistent  Available  Enduring  \n",
              "count       176.0      176.0     176.0  \n",
              "mean        100.0        0.0       0.0  \n",
              "std           0.0        0.0       0.0  \n",
              "min         100.0        0.0       0.0  \n",
              "25%         100.0        0.0       0.0  \n",
              "50%         100.0        0.0       0.0  \n",
              "75%         100.0        0.0       0.0  \n",
              "max         100.0        0.0       0.0  "
            ],
            "text/html": [
              "\n",
              "  <div id=\"df-b5c37556-e4a1-4982-80c2-c8ff48670993\">\n",
              "    <div class=\"colab-df-container\">\n",
              "      <div>\n",
              "<style scoped>\n",
              "    .dataframe tbody tr th:only-of-type {\n",
              "        vertical-align: middle;\n",
              "    }\n",
              "\n",
              "    .dataframe tbody tr th {\n",
              "        vertical-align: top;\n",
              "    }\n",
              "\n",
              "    .dataframe thead th {\n",
              "        text-align: right;\n",
              "    }\n",
              "</style>\n",
              "<table border=\"1\" class=\"dataframe\">\n",
              "  <thead>\n",
              "    <tr style=\"text-align: right;\">\n",
              "      <th></th>\n",
              "      <th>0</th>\n",
              "      <th>1</th>\n",
              "      <th>2</th>\n",
              "      <th>3</th>\n",
              "      <th>Legible</th>\n",
              "      <th>Attributable</th>\n",
              "      <th>Contemporaneous</th>\n",
              "      <th>Original</th>\n",
              "      <th>Accurate</th>\n",
              "      <th>Complete</th>\n",
              "      <th>Consistent</th>\n",
              "      <th>Available</th>\n",
              "      <th>Enduring</th>\n",
              "    </tr>\n",
              "  </thead>\n",
              "  <tbody>\n",
              "    <tr>\n",
              "      <th>count</th>\n",
              "      <td>176.000000</td>\n",
              "      <td>176.000000</td>\n",
              "      <td>176.000000</td>\n",
              "      <td>176.000000</td>\n",
              "      <td>176.000000</td>\n",
              "      <td>176.000000</td>\n",
              "      <td>176.000000</td>\n",
              "      <td>176.0</td>\n",
              "      <td>176.000000</td>\n",
              "      <td>176.000000</td>\n",
              "      <td>176.0</td>\n",
              "      <td>176.0</td>\n",
              "      <td>176.0</td>\n",
              "    </tr>\n",
              "    <tr>\n",
              "      <th>mean</th>\n",
              "      <td>0.505682</td>\n",
              "      <td>0.482955</td>\n",
              "      <td>0.005682</td>\n",
              "      <td>0.005682</td>\n",
              "      <td>83.102272</td>\n",
              "      <td>48.170456</td>\n",
              "      <td>87.647728</td>\n",
              "      <td>100.0</td>\n",
              "      <td>37.221592</td>\n",
              "      <td>96.761360</td>\n",
              "      <td>100.0</td>\n",
              "      <td>0.0</td>\n",
              "      <td>0.0</td>\n",
              "    </tr>\n",
              "    <tr>\n",
              "      <th>std</th>\n",
              "      <td>0.501394</td>\n",
              "      <td>0.501135</td>\n",
              "      <td>0.075378</td>\n",
              "      <td>0.075378</td>\n",
              "      <td>4.000112</td>\n",
              "      <td>2.139275</td>\n",
              "      <td>6.316491</td>\n",
              "      <td>0.0</td>\n",
              "      <td>6.427777</td>\n",
              "      <td>2.846529</td>\n",
              "      <td>0.0</td>\n",
              "      <td>0.0</td>\n",
              "      <td>0.0</td>\n",
              "    </tr>\n",
              "    <tr>\n",
              "      <th>min</th>\n",
              "      <td>0.000000</td>\n",
              "      <td>0.000000</td>\n",
              "      <td>0.000000</td>\n",
              "      <td>0.000000</td>\n",
              "      <td>75.000000</td>\n",
              "      <td>25.000000</td>\n",
              "      <td>62.000000</td>\n",
              "      <td>100.0</td>\n",
              "      <td>0.000000</td>\n",
              "      <td>84.000000</td>\n",
              "      <td>100.0</td>\n",
              "      <td>0.0</td>\n",
              "      <td>0.0</td>\n",
              "    </tr>\n",
              "    <tr>\n",
              "      <th>25%</th>\n",
              "      <td>0.000000</td>\n",
              "      <td>0.000000</td>\n",
              "      <td>0.000000</td>\n",
              "      <td>0.000000</td>\n",
              "      <td>80.000000</td>\n",
              "      <td>48.000000</td>\n",
              "      <td>86.000000</td>\n",
              "      <td>100.0</td>\n",
              "      <td>36.000000</td>\n",
              "      <td>97.000000</td>\n",
              "      <td>100.0</td>\n",
              "      <td>0.0</td>\n",
              "      <td>0.0</td>\n",
              "    </tr>\n",
              "    <tr>\n",
              "      <th>50%</th>\n",
              "      <td>1.000000</td>\n",
              "      <td>0.000000</td>\n",
              "      <td>0.000000</td>\n",
              "      <td>0.000000</td>\n",
              "      <td>84.000000</td>\n",
              "      <td>48.000000</td>\n",
              "      <td>89.000000</td>\n",
              "      <td>100.0</td>\n",
              "      <td>37.000000</td>\n",
              "      <td>98.000000</td>\n",
              "      <td>100.0</td>\n",
              "      <td>0.0</td>\n",
              "      <td>0.0</td>\n",
              "    </tr>\n",
              "    <tr>\n",
              "      <th>75%</th>\n",
              "      <td>1.000000</td>\n",
              "      <td>1.000000</td>\n",
              "      <td>0.000000</td>\n",
              "      <td>0.000000</td>\n",
              "      <td>86.000000</td>\n",
              "      <td>49.000000</td>\n",
              "      <td>91.000000</td>\n",
              "      <td>100.0</td>\n",
              "      <td>39.000000</td>\n",
              "      <td>98.000000</td>\n",
              "      <td>100.0</td>\n",
              "      <td>0.0</td>\n",
              "      <td>0.0</td>\n",
              "    </tr>\n",
              "    <tr>\n",
              "      <th>max</th>\n",
              "      <td>1.000000</td>\n",
              "      <td>1.000000</td>\n",
              "      <td>1.000000</td>\n",
              "      <td>1.000000</td>\n",
              "      <td>94.000000</td>\n",
              "      <td>50.000000</td>\n",
              "      <td>95.000000</td>\n",
              "      <td>100.0</td>\n",
              "      <td>50.000000</td>\n",
              "      <td>98.000000</td>\n",
              "      <td>100.0</td>\n",
              "      <td>0.0</td>\n",
              "      <td>0.0</td>\n",
              "    </tr>\n",
              "  </tbody>\n",
              "</table>\n",
              "</div>\n",
              "      <button class=\"colab-df-convert\" onclick=\"convertToInteractive('df-b5c37556-e4a1-4982-80c2-c8ff48670993')\"\n",
              "              title=\"Convert this dataframe to an interactive table.\"\n",
              "              style=\"display:none;\">\n",
              "        \n",
              "  <svg xmlns=\"http://www.w3.org/2000/svg\" height=\"24px\"viewBox=\"0 0 24 24\"\n",
              "       width=\"24px\">\n",
              "    <path d=\"M0 0h24v24H0V0z\" fill=\"none\"/>\n",
              "    <path d=\"M18.56 5.44l.94 2.06.94-2.06 2.06-.94-2.06-.94-.94-2.06-.94 2.06-2.06.94zm-11 1L8.5 8.5l.94-2.06 2.06-.94-2.06-.94L8.5 2.5l-.94 2.06-2.06.94zm10 10l.94 2.06.94-2.06 2.06-.94-2.06-.94-.94-2.06-.94 2.06-2.06.94z\"/><path d=\"M17.41 7.96l-1.37-1.37c-.4-.4-.92-.59-1.43-.59-.52 0-1.04.2-1.43.59L10.3 9.45l-7.72 7.72c-.78.78-.78 2.05 0 2.83L4 21.41c.39.39.9.59 1.41.59.51 0 1.02-.2 1.41-.59l7.78-7.78 2.81-2.81c.8-.78.8-2.07 0-2.86zM5.41 20L4 18.59l7.72-7.72 1.47 1.35L5.41 20z\"/>\n",
              "  </svg>\n",
              "      </button>\n",
              "      \n",
              "  <style>\n",
              "    .colab-df-container {\n",
              "      display:flex;\n",
              "      flex-wrap:wrap;\n",
              "      gap: 12px;\n",
              "    }\n",
              "\n",
              "    .colab-df-convert {\n",
              "      background-color: #E8F0FE;\n",
              "      border: none;\n",
              "      border-radius: 50%;\n",
              "      cursor: pointer;\n",
              "      display: none;\n",
              "      fill: #1967D2;\n",
              "      height: 32px;\n",
              "      padding: 0 0 0 0;\n",
              "      width: 32px;\n",
              "    }\n",
              "\n",
              "    .colab-df-convert:hover {\n",
              "      background-color: #E2EBFA;\n",
              "      box-shadow: 0px 1px 2px rgba(60, 64, 67, 0.3), 0px 1px 3px 1px rgba(60, 64, 67, 0.15);\n",
              "      fill: #174EA6;\n",
              "    }\n",
              "\n",
              "    [theme=dark] .colab-df-convert {\n",
              "      background-color: #3B4455;\n",
              "      fill: #D2E3FC;\n",
              "    }\n",
              "\n",
              "    [theme=dark] .colab-df-convert:hover {\n",
              "      background-color: #434B5C;\n",
              "      box-shadow: 0px 1px 3px 1px rgba(0, 0, 0, 0.15);\n",
              "      filter: drop-shadow(0px 1px 2px rgba(0, 0, 0, 0.3));\n",
              "      fill: #FFFFFF;\n",
              "    }\n",
              "  </style>\n",
              "\n",
              "      <script>\n",
              "        const buttonEl =\n",
              "          document.querySelector('#df-b5c37556-e4a1-4982-80c2-c8ff48670993 button.colab-df-convert');\n",
              "        buttonEl.style.display =\n",
              "          google.colab.kernel.accessAllowed ? 'block' : 'none';\n",
              "\n",
              "        async function convertToInteractive(key) {\n",
              "          const element = document.querySelector('#df-b5c37556-e4a1-4982-80c2-c8ff48670993');\n",
              "          const dataTable =\n",
              "            await google.colab.kernel.invokeFunction('convertToInteractive',\n",
              "                                                     [key], {});\n",
              "          if (!dataTable) return;\n",
              "\n",
              "          const docLinkHtml = 'Like what you see? Visit the ' +\n",
              "            '<a target=\"_blank\" href=https://colab.research.google.com/notebooks/data_table.ipynb>data table notebook</a>'\n",
              "            + ' to learn more about interactive tables.';\n",
              "          element.innerHTML = '';\n",
              "          dataTable['output_type'] = 'display_data';\n",
              "          await google.colab.output.renderOutput(dataTable, element);\n",
              "          const docLink = document.createElement('div');\n",
              "          docLink.innerHTML = docLinkHtml;\n",
              "          element.appendChild(docLink);\n",
              "        }\n",
              "      </script>\n",
              "    </div>\n",
              "  </div>\n",
              "  "
            ]
          },
          "metadata": {},
          "execution_count": 33
        }
      ]
    },
    {
      "cell_type": "code",
      "source": [
        "fig, ax = plt.subplots(figsize=(9, 4))\n",
        "df['Legible'].plot(ax=ax, label='Legible')\n",
        "ax.legend();"
      ],
      "metadata": {
        "colab": {
          "base_uri": "https://localhost:8080/",
          "height": 265
        },
        "id": "LsgEx1IfK-Zq",
        "outputId": "7d262a7d-1f12-437c-c04f-afae576286d0"
      },
      "execution_count": null,
      "outputs": [
        {
          "output_type": "display_data",
          "data": {
            "text/plain": [
              "<Figure size 648x288 with 1 Axes>"
            ],
            "image/png": "[encoded data removed]"
          },
          "metadata": {
            "needs_background": "light"
          }
        }
      ]
    },
    {
      "cell_type": "code",
      "source": [
        "fig, ax = plt.subplots(figsize=(9, 4))\n",
        "df['Accurate'].plot(ax=ax, label='Accurate')\n",
        "ax.legend();"
      ],
      "metadata": {
        "colab": {
          "base_uri": "https://localhost:8080/",
          "height": 265
        },
        "id": "gvHKbbrpKThD",
        "outputId": "948f64fa-7aba-41ae-96e2-8f62389bb865"
      },
      "execution_count": null,
      "outputs": [
        {
          "output_type": "display_data",
          "data": {
            "text/plain": [
              "<Figure size 648x288 with 1 Axes>"
            ],
            "image/png": "[encoded data removed]"
          },
          "metadata": {
            "needs_background": "light"
          }
        }
      ]
    },
    {
      "cell_type": "code",
      "source": [
        "fig, ax = plt.subplots(figsize=(9, 4))\n",
        "df['Contemporaneous'].plot(ax=ax, label='Contemporaneous')\n",
        "ax.legend();"
      ],
      "metadata": {
        "colab": {
          "base_uri": "https://localhost:8080/",
          "height": 265
        },
        "id": "l6_yN1GILGAg",
        "outputId": "4932738c-2735-4cdf-84bb-a96a3a75f5eb"
      },
      "execution_count": null,
      "outputs": [
        {
          "output_type": "display_data",
          "data": {
            "text/plain": [
              "<Figure size 648x288 with 1 Axes>"
            ],
            "image/png": "[encoded data removed]"
          },
          "metadata": {
            "needs_background": "light"
          }
        }
      ]
    },
    {
      "cell_type": "code",
      "source": [
        "fig, ax = plt.subplots(figsize=(9, 4))\n",
        "df['Attributable'].plot(ax=ax, label='Attributable')\n",
        "ax.legend();"
      ],
      "metadata": {
        "colab": {
          "base_uri": "https://localhost:8080/",
          "height": 265
        },
        "id": "WpO7jPZ4K1kU",
        "outputId": "2a08ca02-32f6-43b7-abe1-7c7ccef262bc"
      },
      "execution_count": null,
      "outputs": [
        {
          "output_type": "display_data",
          "data": {
            "text/plain": [
              "<Figure size 648x288 with 1 Axes>"
            ],
            "image/png": "[encoded data removed]"
          },
          "metadata": {
            "needs_background": "light"
          }
        }
      ]
    },
    {
      "cell_type": "markdown",
      "source": [
        "## ACCURATE"
      ],
      "metadata": {
        "id": "fPSV4IL8KVS-"
      }
    },
    {
      "cell_type": "code",
      "source": [
        "steps = 30\n",
        "data_train = df[:-steps]\n",
        "data_test  = df[-steps:]"
      ],
      "metadata": {
        "id": "xwlSV3gPH0Sv"
      },
      "execution_count": null,
      "outputs": []
    },
    {
      "cell_type": "code",
      "source": [
        "data_train"
      ],
      "metadata": {
        "id": "HbdZ-8LgISkL",
        "colab": {
          "base_uri": "https://localhost:8080/",
          "height": 424
        },
        "outputId": "9a47334a-2607-4dd4-b568-02d87c021199"
      },
      "execution_count": null,
      "outputs": [
        {
          "output_type": "execute_result",
          "data": {
            "text/plain": [
              "       0    1    2    3  Legible  Attributable  Contemporaneous  Original  \\\n",
              "0    1.0  0.0  0.0  0.0     81.0          48.0             85.0     100.0   \n",
              "1    1.0  0.0  0.0  0.0     81.0          49.0             88.0     100.0   \n",
              "2    1.0  0.0  0.0  0.0     77.0          50.0             92.0     100.0   \n",
              "3    0.0  1.0  0.0  0.0     86.0          49.0             88.0     100.0   \n",
              "4    1.0  0.0  0.0  0.0     80.0          49.0             90.0     100.0   \n",
              "..   ...  ...  ...  ...      ...           ...              ...       ...   \n",
              "141  1.0  0.0  0.0  0.0     81.0          49.0             91.0     100.0   \n",
              "142  1.0  0.0  0.0  0.0     78.0          49.0             92.0     100.0   \n",
              "143  1.0  0.0  0.0  0.0     81.0          48.0             91.0     100.0   \n",
              "144  1.0  0.0  0.0  0.0     81.0          49.0             89.0     100.0   \n",
              "145  0.0  1.0  0.0  0.0     82.0          47.0             92.0     100.0   \n",
              "\n",
              "     Accurate  Complete  Consistent  Available  Enduring  \n",
              "0        39.0      97.0       100.0        0.0       0.0  \n",
              "1        32.0      97.0       100.0        0.0       0.0  \n",
              "2        36.0      98.0       100.0        0.0       0.0  \n",
              "3        38.0      98.0       100.0        0.0       0.0  \n",
              "4        34.0      98.0       100.0        0.0       0.0  \n",
              "..        ...       ...         ...        ...       ...  \n",
              "141      36.0      98.0       100.0        0.0       0.0  \n",
              "142      38.0      98.0       100.0        0.0       0.0  \n",
              "143      36.0      98.0       100.0        0.0       0.0  \n",
              "144      36.0      97.0       100.0        0.0       0.0  \n",
              "145      40.0      98.0       100.0        0.0       0.0  \n",
              "\n",
              "[146 rows x 13 columns]"
            ],
            "text/html": [
              "\n",
              "  <div id=\"df-8f3d0256-f769-4a0a-a652-c05cf64a570e\">\n",
              "    <div class=\"colab-df-container\">\n",
              "      <div>\n",
              "<style scoped>\n",
              "    .dataframe tbody tr th:only-of-type {\n",
              "        vertical-align: middle;\n",
              "    }\n",
              "\n",
              "    .dataframe tbody tr th {\n",
              "        vertical-align: top;\n",
              "    }\n",
              "\n",
              "    .dataframe thead th {\n",
              "        text-align: right;\n",
              "    }\n",
              "</style>\n",
              "<table border=\"1\" class=\"dataframe\">\n",
              "  <thead>\n",
              "    <tr style=\"text-align: right;\">\n",
              "      <th></th>\n",
              "      <th>0</th>\n",
              "      <th>1</th>\n",
              "      <th>2</th>\n",
              "      <th>3</th>\n",
              "      <th>Legible</th>\n",
              "      <th>Attributable</th>\n",
              "      <th>Contemporaneous</th>\n",
              "      <th>Original</th>\n",
              "      <th>Accurate</th>\n",
              "      <th>Complete</th>\n",
              "      <th>Consistent</th>\n",
              "      <th>Available</th>\n",
              "      <th>Enduring</th>\n",
              "    </tr>\n",
              "  </thead>\n",
              "  <tbody>\n",
              "    <tr>\n",
              "      <th>0</th>\n",
              "      <td>1.0</td>\n",
              "      <td>0.0</td>\n",
              "      <td>0.0</td>\n",
              "      <td>0.0</td>\n",
              "      <td>81.0</td>\n",
              "      <td>48.0</td>\n",
              "      <td>85.0</td>\n",
              "      <td>100.0</td>\n",
              "      <td>39.0</td>\n",
              "      <td>97.0</td>\n",
              "      <td>100.0</td>\n",
              "      <td>0.0</td>\n",
              "      <td>0.0</td>\n",
              "    </tr>\n",
              "    <tr>\n",
              "      <th>1</th>\n",
              "      <td>1.0</td>\n",
              "      <td>0.0</td>\n",
              "      <td>0.0</td>\n",
              "      <td>0.0</td>\n",
              "      <td>81.0</td>\n",
              "      <td>49.0</td>\n",
              "      <td>88.0</td>\n",
              "      <td>100.0</td>\n",
              "      <td>32.0</td>\n",
              "      <td>97.0</td>\n",
              "      <td>100.0</td>\n",
              "      <td>0.0</td>\n",
              "      <td>0.0</td>\n",
              "    </tr>\n",
              "    <tr>\n",
              "      <th>2</th>\n",
              "      <td>1.0</td>\n",
              "      <td>0.0</td>\n",
              "      <td>0.0</td>\n",
              "      <td>0.0</td>\n",
              "      <td>77.0</td>\n",
              "      <td>50.0</td>\n",
              "      <td>92.0</td>\n",
              "      <td>100.0</td>\n",
              "      <td>36.0</td>\n",
              "      <td>98.0</td>\n",
              "      <td>100.0</td>\n",
              "      <td>0.0</td>\n",
              "      <td>0.0</td>\n",
              "    </tr>\n",
              "    <tr>\n",
              "      <th>3</th>\n",
              "      <td>0.0</td>\n",
              "      <td>1.0</td>\n",
              "      <td>0.0</td>\n",
              "      <td>0.0</td>\n",
              "      <td>86.0</td>\n",
              "      <td>49.0</td>\n",
              "      <td>88.0</td>\n",
              "      <td>100.0</td>\n",
              "      <td>38.0</td>\n",
              "      <td>98.0</td>\n",
              "      <td>100.0</td>\n",
              "      <td>0.0</td>\n",
              "      <td>0.0</td>\n",
              "    </tr>\n",
              "    <tr>\n",
              "      <th>4</th>\n",
              "      <td>1.0</td>\n",
              "      <td>0.0</td>\n",
              "      <td>0.0</td>\n",
              "      <td>0.0</td>\n",
              "      <td>80.0</td>\n",
              "      <td>49.0</td>\n",
              "      <td>90.0</td>\n",
              "      <td>100.0</td>\n",
              "      <td>34.0</td>\n",
              "      <td>98.0</td>\n",
              "      <td>100.0</td>\n",
              "      <td>0.0</td>\n",
              "      <td>0.0</td>\n",
              "    </tr>\n",
              "    <tr>\n",
              "      <th>...</th>\n",
              "      <td>...</td>\n",
              "      <td>...</td>\n",
              "      <td>...</td>\n",
              "      <td>...</td>\n",
              "      <td>...</td>\n",
              "      <td>...</td>\n",
              "      <td>...</td>\n",
              "      <td>...</td>\n",
              "      <td>...</td>\n",
              "      <td>...</td>\n",
              "      <td>...</td>\n",
              "      <td>...</td>\n",
              "      <td>...</td>\n",
              "    </tr>\n",
              "    <tr>\n",
              "      <th>141</th>\n",
              "      <td>1.0</td>\n",
              "      <td>0.0</td>\n",
              "      <td>0.0</td>\n",
              "      <td>0.0</td>\n",
              "      <td>81.0</td>\n",
              "      <td>49.0</td>\n",
              "      <td>91.0</td>\n",
              "      <td>100.0</td>\n",
              "      <td>36.0</td>\n",
              "      <td>98.0</td>\n",
              "      <td>100.0</td>\n",
              "      <td>0.0</td>\n",
              "      <td>0.0</td>\n",
              "    </tr>\n",
              "    <tr>\n",
              "      <th>142</th>\n",
              "      <td>1.0</td>\n",
              "      <td>0.0</td>\n",
              "      <td>0.0</td>\n",
              "      <td>0.0</td>\n",
              "      <td>78.0</td>\n",
              "      <td>49.0</td>\n",
              "      <td>92.0</td>\n",
              "      <td>100.0</td>\n",
              "      <td>38.0</td>\n",
              "      <td>98.0</td>\n",
              "      <td>100.0</td>\n",
              "      <td>0.0</td>\n",
              "      <td>0.0</td>\n",
              "    </tr>\n",
              "    <tr>\n",
              "      <th>143</th>\n",
              "      <td>1.0</td>\n",
              "      <td>0.0</td>\n",
              "      <td>0.0</td>\n",
              "      <td>0.0</td>\n",
              "      <td>81.0</td>\n",
              "      <td>48.0</td>\n",
              "      <td>91.0</td>\n",
              "      <td>100.0</td>\n",
              "      <td>36.0</td>\n",
              "      <td>98.0</td>\n",
              "      <td>100.0</td>\n",
              "      <td>0.0</td>\n",
              "      <td>0.0</td>\n",
              "    </tr>\n",
              "    <tr>\n",
              "      <th>144</th>\n",
              "      <td>1.0</td>\n",
              "      <td>0.0</td>\n",
              "      <td>0.0</td>\n",
              "      <td>0.0</td>\n",
              "      <td>81.0</td>\n",
              "      <td>49.0</td>\n",
              "      <td>89.0</td>\n",
              "      <td>100.0</td>\n",
              "      <td>36.0</td>\n",
              "      <td>97.0</td>\n",
              "      <td>100.0</td>\n",
              "      <td>0.0</td>\n",
              "      <td>0.0</td>\n",
              "    </tr>\n",
              "    <tr>\n",
              "      <th>145</th>\n",
              "      <td>0.0</td>\n",
              "      <td>1.0</td>\n",
              "      <td>0.0</td>\n",
              "      <td>0.0</td>\n",
              "      <td>82.0</td>\n",
              "      <td>47.0</td>\n",
              "      <td>92.0</td>\n",
              "      <td>100.0</td>\n",
              "      <td>40.0</td>\n",
              "      <td>98.0</td>\n",
              "      <td>100.0</td>\n",
              "      <td>0.0</td>\n",
              "      <td>0.0</td>\n",
              "    </tr>\n",
              "  </tbody>\n",
              "</table>\n",
              "<p>146 rows × 13 columns</p>\n",
              "</div>\n",
              "      <button class=\"colab-df-convert\" onclick=\"convertToInteractive('df-8f3d0256-f769-4a0a-a652-c05cf64a570e')\"\n",
              "              title=\"Convert this dataframe to an interactive table.\"\n",
              "              style=\"display:none;\">\n",
              "        \n",
              "  <svg xmlns=\"http://www.w3.org/2000/svg\" height=\"24px\"viewBox=\"0 0 24 24\"\n",
              "       width=\"24px\">\n",
              "    <path d=\"M0 0h24v24H0V0z\" fill=\"none\"/>\n",
              "    <path d=\"M18.56 5.44l.94 2.06.94-2.06 2.06-.94-2.06-.94-.94-2.06-.94 2.06-2.06.94zm-11 1L8.5 8.5l.94-2.06 2.06-.94-2.06-.94L8.5 2.5l-.94 2.06-2.06.94zm10 10l.94 2.06.94-2.06 2.06-.94-2.06-.94-.94-2.06-.94 2.06-2.06.94z\"/><path d=\"M17.41 7.96l-1.37-1.37c-.4-.4-.92-.59-1.43-.59-.52 0-1.04.2-1.43.59L10.3 9.45l-7.72 7.72c-.78.78-.78 2.05 0 2.83L4 21.41c.39.39.9.59 1.41.59.51 0 1.02-.2 1.41-.59l7.78-7.78 2.81-2.81c.8-.78.8-2.07 0-2.86zM5.41 20L4 18.59l7.72-7.72 1.47 1.35L5.41 20z\"/>\n",
              "  </svg>\n",
              "      </button>\n",
              "      \n",
              "  <style>\n",
              "    .colab-df-container {\n",
              "      display:flex;\n",
              "      flex-wrap:wrap;\n",
              "      gap: 12px;\n",
              "    }\n",
              "\n",
              "    .colab-df-convert {\n",
              "      background-color: #E8F0FE;\n",
              "      border: none;\n",
              "      border-radius: 50%;\n",
              "      cursor: pointer;\n",
              "      display: none;\n",
              "      fill: #1967D2;\n",
              "      height: 32px;\n",
              "      padding: 0 0 0 0;\n",
              "      width: 32px;\n",
              "    }\n",
              "\n",
              "    .colab-df-convert:hover {\n",
              "      background-color: #E2EBFA;\n",
              "      box-shadow: 0px 1px 2px rgba(60, 64, 67, 0.3), 0px 1px 3px 1px rgba(60, 64, 67, 0.15);\n",
              "      fill: #174EA6;\n",
              "    }\n",
              "\n",
              "    [theme=dark] .colab-df-convert {\n",
              "      background-color: #3B4455;\n",
              "      fill: #D2E3FC;\n",
              "    }\n",
              "\n",
              "    [theme=dark] .colab-df-convert:hover {\n",
              "      background-color: #434B5C;\n",
              "      box-shadow: 0px 1px 3px 1px rgba(0, 0, 0, 0.15);\n",
              "      filter: drop-shadow(0px 1px 2px rgba(0, 0, 0, 0.3));\n",
              "      fill: #FFFFFF;\n",
              "    }\n",
              "  </style>\n",
              "\n",
              "      <script>\n",
              "        const buttonEl =\n",
              "          document.querySelector('#df-8f3d0256-f769-4a0a-a652-c05cf64a570e button.colab-df-convert');\n",
              "        buttonEl.style.display =\n",
              "          google.colab.kernel.accessAllowed ? 'block' : 'none';\n",
              "\n",
              "        async function convertToInteractive(key) {\n",
              "          const element = document.querySelector('#df-8f3d0256-f769-4a0a-a652-c05cf64a570e');\n",
              "          const dataTable =\n",
              "            await google.colab.kernel.invokeFunction('convertToInteractive',\n",
              "                                                     [key], {});\n",
              "          if (!dataTable) return;\n",
              "\n",
              "          const docLinkHtml = 'Like what you see? Visit the ' +\n",
              "            '<a target=\"_blank\" href=https://colab.research.google.com/notebooks/data_table.ipynb>data table notebook</a>'\n",
              "            + ' to learn more about interactive tables.';\n",
              "          element.innerHTML = '';\n",
              "          dataTable['output_type'] = 'display_data';\n",
              "          await google.colab.output.renderOutput(dataTable, element);\n",
              "          const docLink = document.createElement('div');\n",
              "          docLink.innerHTML = docLinkHtml;\n",
              "          element.appendChild(docLink);\n",
              "        }\n",
              "      </script>\n",
              "    </div>\n",
              "  </div>\n",
              "  "
            ]
          },
          "metadata": {},
          "execution_count": 35
        }
      ]
    },
    {
      "cell_type": "code",
      "source": [
        "\n",
        "!pip install skforecast"
      ],
      "metadata": {
        "colab": {
          "base_uri": "https://localhost:8080/"
        },
        "id": "PFCXa0mrG7ZJ",
        "outputId": "f1da338a-b4f4-440d-ec2c-93583121da3a"
      },
      "execution_count": null,
      "outputs": [
        {
          "output_type": "stream",
          "name": "stdout",
          "text": [
            "Collecting skforecast\n",
            "  Downloading skforecast-0.4.3-py2.py3-none-any.whl (87 kB)\n",
            "\u001b[K     |████████████████████████████████| 87 kB 5.7 MB/s \n",
            "\u001b[?25hRequirement already satisfied: numpy<=1.22,>=1.20 in /usr/local/lib/python3.7/dist-packages (from skforecast) (1.21.6)\n",
            "Collecting tqdm<=4.62,>=4.57.0\n",
            "  Downloading tqdm-4.62.0-py2.py3-none-any.whl (76 kB)\n",
            "\u001b[K     |████████████████████████████████| 76 kB 5.2 MB/s \n",
            "\u001b[?25hRequirement already satisfied: scikit-learn>=1.0 in /usr/local/lib/python3.7/dist-packages (from skforecast) (1.0.2)\n",
            "Collecting statsmodels<=0.13,>=0.12\n",
            "  Downloading statsmodels-0.13.0-cp37-cp37m-manylinux_2_17_x86_64.manylinux2014_x86_64.whl (9.8 MB)\n",
            "\u001b[K     |████████████████████████████████| 9.8 MB 52.1 MB/s \n",
            "\u001b[?25hRequirement already satisfied: pandas<=1.4,>=1.2 in /usr/local/lib/python3.7/dist-packages (from skforecast) (1.3.5)\n",
            "Requirement already satisfied: python-dateutil>=2.7.3 in /usr/local/lib/python3.7/dist-packages (from pandas<=1.4,>=1.2->skforecast) (2.8.2)\n",
            "Requirement already satisfied: pytz>=2017.3 in /usr/local/lib/python3.7/dist-packages (from pandas<=1.4,>=1.2->skforecast) (2022.1)\n",
            "Requirement already satisfied: six>=1.5 in /usr/local/lib/python3.7/dist-packages (from python-dateutil>=2.7.3->pandas<=1.4,>=1.2->skforecast) (1.15.0)\n",
            "Requirement already satisfied: threadpoolctl>=2.0.0 in /usr/local/lib/python3.7/dist-packages (from scikit-learn>=1.0->skforecast) (3.1.0)\n",
            "Requirement already satisfied: scipy>=1.1.0 in /usr/local/lib/python3.7/dist-packages (from scikit-learn>=1.0->skforecast) (1.4.1)\n",
            "Requirement already satisfied: joblib>=0.11 in /usr/local/lib/python3.7/dist-packages (from scikit-learn>=1.0->skforecast) (1.1.0)\n",
            "Requirement already satisfied: patsy>=0.5.2 in /usr/local/lib/python3.7/dist-packages (from statsmodels<=0.13,>=0.12->skforecast) (0.5.2)\n",
            "Installing collected packages: tqdm, statsmodels, skforecast\n",
            "  Attempting uninstall: tqdm\n",
            "    Found existing installation: tqdm 4.64.0\n",
            "    Uninstalling tqdm-4.64.0:\n",
            "      Successfully uninstalled tqdm-4.64.0\n",
            "  Attempting uninstall: statsmodels\n",
            "    Found existing installation: statsmodels 0.10.2\n",
            "    Uninstalling statsmodels-0.10.2:\n",
            "      Successfully uninstalled statsmodels-0.10.2\n",
            "Successfully installed skforecast-0.4.3 statsmodels-0.13.0 tqdm-4.62.0\n"
          ]
        }
      ]
    },
    {
      "cell_type": "code",
      "source": [
        "from sklearn.linear_model import LinearRegression\n",
        "from sklearn.linear_model import Lasso\n",
        "from sklearn.ensemble import RandomForestRegressor\n",
        "from sklearn.metrics import mean_squared_error\n",
        "from sklearn.preprocessing import StandardScaler\n",
        "from sklearn.pipeline import make_pipeline\n",
        "\n",
        "from skforecast.ForecasterAutoreg import ForecasterAutoreg\n",
        "from skforecast.ForecasterAutoregCustom import ForecasterAutoregCustom\n",
        "from skforecast.ForecasterAutoregMultiOutput import ForecasterAutoregMultiOutput\n",
        "from skforecast.model_selection import grid_search_forecaster\n",
        "from skforecast.model_selection import backtesting_forecaster\n",
        "\n",
        "from joblib import dump, load"
      ],
      "metadata": {
        "id": "BSYOsHE8Gvw5"
      },
      "execution_count": null,
      "outputs": []
    },
    {
      "cell_type": "code",
      "source": [
        "# Create and train forecaster\n",
        "# ==============================================================================\n",
        "forecaster = ForecasterAutoreg(\n",
        "                regressor = RandomForestRegressor(random_state=123),\n",
        "                lags = 30\n",
        "                )\n",
        "\n",
        "forecaster.fit(y=data_train['Accurate'])\n",
        "forecaster"
      ],
      "metadata": {
        "colab": {
          "base_uri": "https://localhost:8080/"
        },
        "id": "aFWZSma2GSeF",
        "outputId": "20b23229-d813-4b84-8955-23a56b865616"
      },
      "execution_count": null,
      "outputs": [
        {
          "output_type": "execute_result",
          "data": {
            "text/plain": [
              "================= \n",
              "ForecasterAutoreg \n",
              "================= \n",
              "Regressor: RandomForestRegressor(random_state=123) \n",
              "Lags: [ 1  2  3  4  5  6  7  8  9 10 11 12 13 14 15 16 17 18 19 20 21 22 23 24\n",
              " 25 26 27 28 29 30] \n",
              "Window size: 30 \n",
              "Included exogenous: False \n",
              "Type of exogenous variable: None \n",
              "Exogenous variables names: None \n",
              "Training range: [0, 145] \n",
              "Training index type: RangeIndex \n",
              "Training index frequency: 1 \n",
              "Regressor parameters: {'bootstrap': True, 'ccp_alpha': 0.0, 'criterion': 'squared_error', 'max_depth': None, 'max_features': 'auto', 'max_leaf_nodes': None, 'max_samples': None, 'min_impurity_decrease': 0.0, 'min_samples_leaf': 1, 'min_samples_split': 2, 'min_weight_fraction_leaf': 0.0, 'n_estimators': 100, 'n_jobs': None, 'oob_score': False, 'random_state': 123, 'verbose': 0, 'warm_start': False} \n",
              "Creation date: 2022-04-27 13:20:47 \n",
              "Last fit date: 2022-04-27 13:20:47 \n",
              "Skforecast version: 0.4.3 "
            ]
          },
          "metadata": {},
          "execution_count": 85
        }
      ]
    },
    {
      "cell_type": "code",
      "source": [
        "steps = 30\n",
        "predictions = forecaster.predict(steps=steps)\n",
        "predictions.head(20)"
      ],
      "metadata": {
        "colab": {
          "base_uri": "https://localhost:8080/"
        },
        "id": "pw5KZOjyGqXB",
        "outputId": "8be61f88-48be-404b-e4dc-a27b93c760a1"
      },
      "execution_count": null,
      "outputs": [
        {
          "output_type": "execute_result",
          "data": {
            "text/plain": [
              "146    31.75\n",
              "147    34.49\n",
              "148    39.91\n",
              "149    40.14\n",
              "150    38.62\n",
              "151    36.89\n",
              "152    39.02\n",
              "153    35.08\n",
              "154    37.03\n",
              "155    36.36\n",
              "156    38.16\n",
              "157    39.79\n",
              "158    37.20\n",
              "159    37.73\n",
              "160    33.88\n",
              "161    36.78\n",
              "162    36.74\n",
              "163    37.72\n",
              "164    37.31\n",
              "165    36.72\n",
              "Name: pred, dtype: float64"
            ]
          },
          "metadata": {},
          "execution_count": 86
        }
      ]
    },
    {
      "cell_type": "code",
      "source": [
        "fig, ax = plt.subplots(figsize=(9, 4))\n",
        "data_train['Accurate'].plot(ax=ax, label='train')\n",
        "data_test['Accurate'].plot(ax=ax, label='test')\n",
        "predictions.plot(ax=ax, label='predictions')\n",
        "ax.legend();"
      ],
      "metadata": {
        "colab": {
          "base_uri": "https://localhost:8080/",
          "height": 265
        },
        "id": "BYUD6MdoHNsq",
        "outputId": "51f9283b-fbae-4e19-9e32-b878a1225f01"
      },
      "execution_count": null,
      "outputs": [
        {
          "output_type": "display_data",
          "data": {
            "text/plain": [
              "<Figure size 648x288 with 1 Axes>"
            ],
            "image/png": "[encoded data removed]"
          },
          "metadata": {
            "needs_background": "light"
          }
        }
      ]
    },
    {
      "cell_type": "code",
      "source": [
        "error_mse = mean_squared_error(\n",
        "                y_true = data_test['Accurate'],\n",
        "                y_pred = predictions\n",
        "            )\n",
        "\n",
        "print(f\"Test error (mse): {error_mse}\")"
      ],
      "metadata": {
        "colab": {
          "base_uri": "https://localhost:8080/"
        },
        "id": "xgvcCehFHQ2t",
        "outputId": "74e2c974-7472-4f06-d2bd-71c47ce872ba"
      },
      "execution_count": null,
      "outputs": [
        {
          "output_type": "stream",
          "name": "stdout",
          "text": [
            "Test error (mse): 29.836989999999993\n"
          ]
        }
      ]
    },
    {
      "cell_type": "code",
      "source": [
        "steps = 30\n",
        "forecaster = ForecasterAutoreg(\n",
        "                regressor = RandomForestRegressor(random_state=123),\n",
        "                lags      = 12 # This value will be replaced in the grid search\n",
        "             )\n",
        "\n",
        "# Lags used as predictors\n",
        "lags_grid = [10, 20]\n",
        "\n",
        "# Regressor's hyperparameters\n",
        "param_grid = {'n_estimators': [100, 500],\n",
        "              'max_depth': [3, 5, 10]}\n",
        "\n",
        "results_grid = grid_search_forecaster(\n",
        "                        forecaster         = forecaster,\n",
        "                        y                  = data_train['Accurate'],\n",
        "                        param_grid         = param_grid,\n",
        "                        lags_grid          = lags_grid,\n",
        "                        steps              = steps,\n",
        "                        refit              = True,\n",
        "                        metric             = 'mean_squared_error',\n",
        "                        initial_train_size = int(len(data_train)*0.5),\n",
        "                        fixed_train_size   = False,\n",
        "                        return_best        = True,\n",
        "                        verbose            = False\n",
        "               )"
      ],
      "metadata": {
        "colab": {
          "base_uri": "https://localhost:8080/"
        },
        "id": "bEmtNhDTHaJM",
        "outputId": "e65e3854-7169-4ec4-e151-18792e0fad16"
      },
      "execution_count": null,
      "outputs": [
        {
          "output_type": "stream",
          "name": "stdout",
          "text": [
            "Number of models compared: 12\n"
          ]
        },
        {
          "output_type": "stream",
          "name": "stderr",
          "text": [
            "loop lags_grid:   0%|                                               | 0/2 [00:00<?, ?it/s]\n",
            "loop param_grid:   0%|                                              | 0/6 [00:00<?, ?it/s]\u001b[A\n",
            "loop param_grid:  17%|██████▎                               | 1/6 [00:01<00:06,  1.21s/it]\u001b[A\n",
            "loop param_grid:  33%|████████████▋                         | 2/6 [00:06<00:14,  3.53s/it]\u001b[A\n",
            "loop param_grid:  50%|███████████████████                   | 3/6 [00:07<00:07,  2.42s/it]\u001b[A\n",
            "loop param_grid:  67%|█████████████████████████▎            | 4/6 [00:12<00:06,  3.49s/it]\u001b[A\n",
            "loop param_grid:  83%|███████████████████████████████▋      | 5/6 [00:13<00:02,  2.64s/it]\u001b[A\n",
            "loop param_grid: 100%|██████████████████████████████████████| 6/6 [00:19<00:00,  3.58s/it]\u001b[A\n",
            "loop lags_grid:  50%|███████████████████▌                   | 1/2 [00:19<00:19, 19.16s/it]\n",
            "loop param_grid:   0%|                                              | 0/6 [00:00<?, ?it/s]\u001b[A\n",
            "loop param_grid:  17%|██████▎                               | 1/6 [00:01<00:05,  1.04s/it]\u001b[A\n",
            "loop param_grid:  33%|████████████▋                         | 2/6 [00:06<00:14,  3.66s/it]\u001b[A\n",
            "loop param_grid:  50%|███████████████████                   | 3/6 [00:07<00:07,  2.48s/it]\u001b[A\n",
            "loop param_grid:  67%|█████████████████████████▎            | 4/6 [00:12<00:07,  3.57s/it]\u001b[A\n",
            "loop param_grid:  83%|███████████████████████████████▋      | 5/6 [00:13<00:02,  2.68s/it]\u001b[A\n",
            "loop param_grid: 100%|██████████████████████████████████████| 6/6 [00:19<00:00,  3.67s/it]\u001b[A\n",
            "loop lags_grid: 100%|███████████████████████████████████████| 2/2 [00:38<00:00, 19.36s/it]"
          ]
        },
        {
          "output_type": "stream",
          "name": "stdout",
          "text": [
            "`Forecaster` refitted using the best-found lags and parameters, and the whole data set: \n",
            "  Lags: [ 1  2  3  4  5  6  7  8  9 10] \n",
            "  Parameters: {'max_depth': 3, 'n_estimators': 100}\n",
            "  Backtesting metric: 56.89662996500172\n",
            "\n"
          ]
        },
        {
          "output_type": "stream",
          "name": "stderr",
          "text": [
            "\n"
          ]
        }
      ]
    },
    {
      "cell_type": "code",
      "source": [
        "results_grid"
      ],
      "metadata": {
        "colab": {
          "base_uri": "https://localhost:8080/",
          "height": 426
        },
        "id": "CS-UkHmXH-TN",
        "outputId": "984ef926-695b-4e9f-a6af-901071cd18dc"
      },
      "execution_count": null,
      "outputs": [
        {
          "output_type": "execute_result",
          "data": {
            "text/plain": [
              "                                                 lags  \\\n",
              "0                     [1, 2, 3, 4, 5, 6, 7, 8, 9, 10]   \n",
              "1                     [1, 2, 3, 4, 5, 6, 7, 8, 9, 10]   \n",
              "11  [1, 2, 3, 4, 5, 6, 7, 8, 9, 10, 11, 12, 13, 14...   \n",
              "7   [1, 2, 3, 4, 5, 6, 7, 8, 9, 10, 11, 12, 13, 14...   \n",
              "9   [1, 2, 3, 4, 5, 6, 7, 8, 9, 10, 11, 12, 13, 14...   \n",
              "3                     [1, 2, 3, 4, 5, 6, 7, 8, 9, 10]   \n",
              "6   [1, 2, 3, 4, 5, 6, 7, 8, 9, 10, 11, 12, 13, 14...   \n",
              "2                     [1, 2, 3, 4, 5, 6, 7, 8, 9, 10]   \n",
              "4                     [1, 2, 3, 4, 5, 6, 7, 8, 9, 10]   \n",
              "5                     [1, 2, 3, 4, 5, 6, 7, 8, 9, 10]   \n",
              "10  [1, 2, 3, 4, 5, 6, 7, 8, 9, 10, 11, 12, 13, 14...   \n",
              "8   [1, 2, 3, 4, 5, 6, 7, 8, 9, 10, 11, 12, 13, 14...   \n",
              "\n",
              "                                    params     metric  max_depth  n_estimators  \n",
              "0    {'max_depth': 3, 'n_estimators': 100}  56.896630          3           100  \n",
              "1    {'max_depth': 3, 'n_estimators': 500}  57.635186          3           500  \n",
              "11  {'max_depth': 10, 'n_estimators': 500}  57.685328         10           500  \n",
              "7    {'max_depth': 3, 'n_estimators': 500}  58.158686          3           500  \n",
              "9    {'max_depth': 5, 'n_estimators': 500}  58.190518          5           500  \n",
              "3    {'max_depth': 5, 'n_estimators': 500}  58.258891          5           500  \n",
              "6    {'max_depth': 3, 'n_estimators': 100}  58.372786          3           100  \n",
              "2    {'max_depth': 5, 'n_estimators': 100}  58.454384          5           100  \n",
              "4   {'max_depth': 10, 'n_estimators': 100}  58.795624         10           100  \n",
              "5   {'max_depth': 10, 'n_estimators': 500}  58.826444         10           500  \n",
              "10  {'max_depth': 10, 'n_estimators': 100}  58.846707         10           100  \n",
              "8    {'max_depth': 5, 'n_estimators': 100}  58.983761          5           100  "
            ],
            "text/html": [
              "\n",
              "  <div id=\"df-5f49c486-c1f8-4cee-89b5-5372c1efdbd4\">\n",
              "    <div class=\"colab-df-container\">\n",
              "      <div>\n",
              "<style scoped>\n",
              "    .dataframe tbody tr th:only-of-type {\n",
              "        vertical-align: middle;\n",
              "    }\n",
              "\n",
              "    .dataframe tbody tr th {\n",
              "        vertical-align: top;\n",
              "    }\n",
              "\n",
              "    .dataframe thead th {\n",
              "        text-align: right;\n",
              "    }\n",
              "</style>\n",
              "<table border=\"1\" class=\"dataframe\">\n",
              "  <thead>\n",
              "    <tr style=\"text-align: right;\">\n",
              "      <th></th>\n",
              "      <th>lags</th>\n",
              "      <th>params</th>\n",
              "      <th>metric</th>\n",
              "      <th>max_depth</th>\n",
              "      <th>n_estimators</th>\n",
              "    </tr>\n",
              "  </thead>\n",
              "  <tbody>\n",
              "    <tr>\n",
              "      <th>0</th>\n",
              "      <td>[1, 2, 3, 4, 5, 6, 7, 8, 9, 10]</td>\n",
              "      <td>{'max_depth': 3, 'n_estimators': 100}</td>\n",
              "      <td>56.896630</td>\n",
              "      <td>3</td>\n",
              "      <td>100</td>\n",
              "    </tr>\n",
              "    <tr>\n",
              "      <th>1</th>\n",
              "      <td>[1, 2, 3, 4, 5, 6, 7, 8, 9, 10]</td>\n",
              "      <td>{'max_depth': 3, 'n_estimators': 500}</td>\n",
              "      <td>57.635186</td>\n",
              "      <td>3</td>\n",
              "      <td>500</td>\n",
              "    </tr>\n",
              "    <tr>\n",
              "      <th>11</th>\n",
              "      <td>[1, 2, 3, 4, 5, 6, 7, 8, 9, 10, 11, 12, 13, 14...</td>\n",
              "      <td>{'max_depth': 10, 'n_estimators': 500}</td>\n",
              "      <td>57.685328</td>\n",
              "      <td>10</td>\n",
              "      <td>500</td>\n",
              "    </tr>\n",
              "    <tr>\n",
              "      <th>7</th>\n",
              "      <td>[1, 2, 3, 4, 5, 6, 7, 8, 9, 10, 11, 12, 13, 14...</td>\n",
              "      <td>{'max_depth': 3, 'n_estimators': 500}</td>\n",
              "      <td>58.158686</td>\n",
              "      <td>3</td>\n",
              "      <td>500</td>\n",
              "    </tr>\n",
              "    <tr>\n",
              "      <th>9</th>\n",
              "      <td>[1, 2, 3, 4, 5, 6, 7, 8, 9, 10, 11, 12, 13, 14...</td>\n",
              "      <td>{'max_depth': 5, 'n_estimators': 500}</td>\n",
              "      <td>58.190518</td>\n",
              "      <td>5</td>\n",
              "      <td>500</td>\n",
              "    </tr>\n",
              "    <tr>\n",
              "      <th>3</th>\n",
              "      <td>[1, 2, 3, 4, 5, 6, 7, 8, 9, 10]</td>\n",
              "      <td>{'max_depth': 5, 'n_estimators': 500}</td>\n",
              "      <td>58.258891</td>\n",
              "      <td>5</td>\n",
              "      <td>500</td>\n",
              "    </tr>\n",
              "    <tr>\n",
              "      <th>6</th>\n",
              "      <td>[1, 2, 3, 4, 5, 6, 7, 8, 9, 10, 11, 12, 13, 14...</td>\n",
              "      <td>{'max_depth': 3, 'n_estimators': 100}</td>\n",
              "      <td>58.372786</td>\n",
              "      <td>3</td>\n",
              "      <td>100</td>\n",
              "    </tr>\n",
              "    <tr>\n",
              "      <th>2</th>\n",
              "      <td>[1, 2, 3, 4, 5, 6, 7, 8, 9, 10]</td>\n",
              "      <td>{'max_depth': 5, 'n_estimators': 100}</td>\n",
              "      <td>58.454384</td>\n",
              "      <td>5</td>\n",
              "      <td>100</td>\n",
              "    </tr>\n",
              "    <tr>\n",
              "      <th>4</th>\n",
              "      <td>[1, 2, 3, 4, 5, 6, 7, 8, 9, 10]</td>\n",
              "      <td>{'max_depth': 10, 'n_estimators': 100}</td>\n",
              "      <td>58.795624</td>\n",
              "      <td>10</td>\n",
              "      <td>100</td>\n",
              "    </tr>\n",
              "    <tr>\n",
              "      <th>5</th>\n",
              "      <td>[1, 2, 3, 4, 5, 6, 7, 8, 9, 10]</td>\n",
              "      <td>{'max_depth': 10, 'n_estimators': 500}</td>\n",
              "      <td>58.826444</td>\n",
              "      <td>10</td>\n",
              "      <td>500</td>\n",
              "    </tr>\n",
              "    <tr>\n",
              "      <th>10</th>\n",
              "      <td>[1, 2, 3, 4, 5, 6, 7, 8, 9, 10, 11, 12, 13, 14...</td>\n",
              "      <td>{'max_depth': 10, 'n_estimators': 100}</td>\n",
              "      <td>58.846707</td>\n",
              "      <td>10</td>\n",
              "      <td>100</td>\n",
              "    </tr>\n",
              "    <tr>\n",
              "      <th>8</th>\n",
              "      <td>[1, 2, 3, 4, 5, 6, 7, 8, 9, 10, 11, 12, 13, 14...</td>\n",
              "      <td>{'max_depth': 5, 'n_estimators': 100}</td>\n",
              "      <td>58.983761</td>\n",
              "      <td>5</td>\n",
              "      <td>100</td>\n",
              "    </tr>\n",
              "  </tbody>\n",
              "</table>\n",
              "</div>\n",
              "      <button class=\"colab-df-convert\" onclick=\"convertToInteractive('df-5f49c486-c1f8-4cee-89b5-5372c1efdbd4')\"\n",
              "              title=\"Convert this dataframe to an interactive table.\"\n",
              "              style=\"display:none;\">\n",
              "        \n",
              "  <svg xmlns=\"http://www.w3.org/2000/svg\" height=\"24px\"viewBox=\"0 0 24 24\"\n",
              "       width=\"24px\">\n",
              "    <path d=\"M0 0h24v24H0V0z\" fill=\"none\"/>\n",
              "    <path d=\"M18.56 5.44l.94 2.06.94-2.06 2.06-.94-2.06-.94-.94-2.06-.94 2.06-2.06.94zm-11 1L8.5 8.5l.94-2.06 2.06-.94-2.06-.94L8.5 2.5l-.94 2.06-2.06.94zm10 10l.94 2.06.94-2.06 2.06-.94-2.06-.94-.94-2.06-.94 2.06-2.06.94z\"/><path d=\"M17.41 7.96l-1.37-1.37c-.4-.4-.92-.59-1.43-.59-.52 0-1.04.2-1.43.59L10.3 9.45l-7.72 7.72c-.78.78-.78 2.05 0 2.83L4 21.41c.39.39.9.59 1.41.59.51 0 1.02-.2 1.41-.59l7.78-7.78 2.81-2.81c.8-.78.8-2.07 0-2.86zM5.41 20L4 18.59l7.72-7.72 1.47 1.35L5.41 20z\"/>\n",
              "  </svg>\n",
              "      </button>\n",
              "      \n",
              "  <style>\n",
              "    .colab-df-container {\n",
              "      display:flex;\n",
              "      flex-wrap:wrap;\n",
              "      gap: 12px;\n",
              "    }\n",
              "\n",
              "    .colab-df-convert {\n",
              "      background-color: #E8F0FE;\n",
              "      border: none;\n",
              "      border-radius: 50%;\n",
              "      cursor: pointer;\n",
              "      display: none;\n",
              "      fill: #1967D2;\n",
              "      height: 32px;\n",
              "      padding: 0 0 0 0;\n",
              "      width: 32px;\n",
              "    }\n",
              "\n",
              "    .colab-df-convert:hover {\n",
              "      background-color: #E2EBFA;\n",
              "      box-shadow: 0px 1px 2px rgba(60, 64, 67, 0.3), 0px 1px 3px 1px rgba(60, 64, 67, 0.15);\n",
              "      fill: #174EA6;\n",
              "    }\n",
              "\n",
              "    [theme=dark] .colab-df-convert {\n",
              "      background-color: #3B4455;\n",
              "      fill: #D2E3FC;\n",
              "    }\n",
              "\n",
              "    [theme=dark] .colab-df-convert:hover {\n",
              "      background-color: #434B5C;\n",
              "      box-shadow: 0px 1px 3px 1px rgba(0, 0, 0, 0.15);\n",
              "      filter: drop-shadow(0px 1px 2px rgba(0, 0, 0, 0.3));\n",
              "      fill: #FFFFFF;\n",
              "    }\n",
              "  </style>\n",
              "\n",
              "      <script>\n",
              "        const buttonEl =\n",
              "          document.querySelector('#df-5f49c486-c1f8-4cee-89b5-5372c1efdbd4 button.colab-df-convert');\n",
              "        buttonEl.style.display =\n",
              "          google.colab.kernel.accessAllowed ? 'block' : 'none';\n",
              "\n",
              "        async function convertToInteractive(key) {\n",
              "          const element = document.querySelector('#df-5f49c486-c1f8-4cee-89b5-5372c1efdbd4');\n",
              "          const dataTable =\n",
              "            await google.colab.kernel.invokeFunction('convertToInteractive',\n",
              "                                                     [key], {});\n",
              "          if (!dataTable) return;\n",
              "\n",
              "          const docLinkHtml = 'Like what you see? Visit the ' +\n",
              "            '<a target=\"_blank\" href=https://colab.research.google.com/notebooks/data_table.ipynb>data table notebook</a>'\n",
              "            + ' to learn more about interactive tables.';\n",
              "          element.innerHTML = '';\n",
              "          dataTable['output_type'] = 'display_data';\n",
              "          await google.colab.output.renderOutput(dataTable, element);\n",
              "          const docLink = document.createElement('div');\n",
              "          docLink.innerHTML = docLinkHtml;\n",
              "          element.appendChild(docLink);\n",
              "        }\n",
              "      </script>\n",
              "    </div>\n",
              "  </div>\n",
              "  "
            ]
          },
          "metadata": {},
          "execution_count": 90
        }
      ]
    },
    {
      "cell_type": "code",
      "source": [
        "# Create and train forecaster with the best hyperparameters\n",
        "# ==============================================================================\n",
        "regressor = RandomForestRegressor(max_depth=3, n_estimators=100, random_state=123)\n",
        "forecaster = ForecasterAutoreg(\n",
        "                regressor = regressor,\n",
        "                lags      = 10\n",
        "             )\n",
        "\n",
        "forecaster.fit(y=data_train['Accurate'])"
      ],
      "metadata": {
        "id": "HChPJHTCIRbs"
      },
      "execution_count": null,
      "outputs": []
    },
    {
      "cell_type": "code",
      "source": [
        "# Predictions\n",
        "# ==============================================================================\n",
        "predictions = forecaster.predict(steps=steps)"
      ],
      "metadata": {
        "id": "rn8C5-LxInRr"
      },
      "execution_count": null,
      "outputs": []
    },
    {
      "cell_type": "code",
      "source": [
        "# Plot\n",
        "# ==============================================================================\n",
        "fig, ax = plt.subplots(figsize=(9, 4))\n",
        "data_train['Accurate'].plot(ax=ax, label='train')\n",
        "data_test['Accurate'].plot(ax=ax, label='test')\n",
        "predictions.plot(ax=ax, label='predictions')\n",
        "ax.legend();"
      ],
      "metadata": {
        "colab": {
          "base_uri": "https://localhost:8080/",
          "height": 265
        },
        "id": "nXO1M_vUIotk",
        "outputId": "60a5f91d-5d25-464b-bc7f-546eb142aa3c"
      },
      "execution_count": null,
      "outputs": [
        {
          "output_type": "display_data",
          "data": {
            "text/plain": [
              "<Figure size 648x288 with 1 Axes>"
            ],
            "image/png": "[encoded data removed]"
          },
          "metadata": {
            "needs_background": "light"
          }
        }
      ]
    },
    {
      "cell_type": "code",
      "source": [
        "forecaster = ForecasterAutoregMultiOutput(\n",
        "                    regressor = make_pipeline(StandardScaler(), Lasso(random_state=123)),\n",
        "                    steps     = 30,\n",
        "                    lags      = 8\n",
        "             )\n",
        "\n",
        "forecaster"
      ],
      "metadata": {
        "colab": {
          "base_uri": "https://localhost:8080/"
        },
        "id": "pb0OcJQrIqED",
        "outputId": "4d656c2e-8fdd-41f3-f8fa-9cde02adca9a"
      },
      "execution_count": null,
      "outputs": [
        {
          "output_type": "execute_result",
          "data": {
            "text/plain": [
              "============================ \n",
              "ForecasterAutoregMultiOutput \n",
              "============================ \n",
              "Regressor: Pipeline(steps=[('standardscaler', StandardScaler()),\n",
              "                ('lasso', Lasso(random_state=123))]) \n",
              "Lags: [1 2 3 4 5 6 7 8] \n",
              "Window size: 8 \n",
              "Maximum steps predicted: 30 \n",
              "Included exogenous: False \n",
              "Type of exogenous variable: None \n",
              "Exogenous variables names: None \n",
              "Training range: None \n",
              "Training index type: None \n",
              "Training index frequency: None \n",
              "Regressor parameters: {'standardscaler__copy': True, 'standardscaler__with_mean': True, 'standardscaler__with_std': True, 'lasso__alpha': 1.0, 'lasso__copy_X': True, 'lasso__fit_intercept': True, 'lasso__max_iter': 1000, 'lasso__normalize': 'deprecated', 'lasso__positive': False, 'lasso__precompute': False, 'lasso__random_state': 123, 'lasso__selection': 'cyclic', 'lasso__tol': 0.0001, 'lasso__warm_start': False} \n",
              "Creation date: 2022-04-27 13:10:42 \n",
              "Last fit date: None \n",
              "Skforecast version: 0.4.3 "
            ]
          },
          "metadata": {},
          "execution_count": 60
        }
      ]
    },
    {
      "cell_type": "code",
      "source": [
        "# Hyperparameter Grid search\n",
        "# ==============================================================================\n",
        "forecaster = ForecasterAutoregMultiOutput(\n",
        "                    regressor = make_pipeline(StandardScaler(), Lasso(random_state=123)),\n",
        "                    steps     = 30,\n",
        "                    lags      = 8 # This value will be replaced in the grid search\n",
        "             )\n",
        "\n",
        "# To access parameters of a scikitlearn pipeline the pattern:\n",
        "# <name of the step>__<name of the parameter>.\n",
        "param_grid = {'lasso__alpha': np.logspace(-5, 5, 10)}\n",
        "lags_grid = [5, 12, 20]\n",
        "\n",
        "results_grid = grid_search_forecaster(\n",
        "                        forecaster  = forecaster,\n",
        "                        y           = data_train['Accurate'],\n",
        "                        param_grid  = param_grid,\n",
        "                        lags_grid   = lags_grid,\n",
        "                        steps       = 30,\n",
        "                        refit       = True,\n",
        "                        metric      = 'mean_squared_error',\n",
        "                        initial_train_size = int(len(data_train)*0.5),\n",
        "                        fixed_train_size   = False,\n",
        "                        return_best = True,\n",
        "                        verbose     = False\n",
        "                )"
      ],
      "metadata": {
        "colab": {
          "base_uri": "https://localhost:8080/"
        },
        "id": "NLMl5bwUJTI0",
        "outputId": "2cad856b-747b-40de-d630-9df3950322a8"
      },
      "execution_count": null,
      "outputs": [
        {
          "output_type": "stream",
          "name": "stdout",
          "text": [
            "Number of models compared: 30\n"
          ]
        },
        {
          "output_type": "stream",
          "name": "stderr",
          "text": [
            "loop lags_grid:   0%|                                               | 0/3 [00:00<?, ?it/s]\n",
            "loop param_grid:   0%|                                             | 0/10 [00:00<?, ?it/s]\u001b[A\n",
            "loop param_grid:  10%|███▋                                 | 1/10 [00:00<00:05,  1.68it/s]\u001b[A\n",
            "loop param_grid:  20%|███████▍                             | 2/10 [00:01<00:06,  1.29it/s]\u001b[A\n",
            "loop param_grid:  30%|███████████                          | 3/10 [00:01<00:04,  1.69it/s]\u001b[A\n",
            "loop param_grid:  40%|██████████████▊                      | 4/10 [00:02<00:02,  2.01it/s]\u001b[A\n",
            "loop param_grid:  50%|██████████████████▌                  | 5/10 [00:02<00:02,  2.29it/s]\u001b[A\n",
            "loop param_grid:  60%|██████████████████████▏              | 6/10 [00:02<00:01,  2.48it/s]\u001b[A\n",
            "loop param_grid:  70%|█████████████████████████▉           | 7/10 [00:03<00:01,  2.58it/s]\u001b[A\n",
            "loop param_grid:  80%|█████████████████████████████▌       | 8/10 [00:03<00:00,  2.67it/s]\u001b[A\n",
            "loop param_grid:  90%|█████████████████████████████████▎   | 9/10 [00:03<00:00,  2.73it/s]\u001b[A\n",
            "loop param_grid: 100%|████████████████████████████████████| 10/10 [00:04<00:00,  2.79it/s]\u001b[A\n",
            "loop lags_grid:  33%|█████████████                          | 1/3 [00:04<00:08,  4.30s/it]\n",
            "loop param_grid:   0%|                                             | 0/10 [00:00<?, ?it/s]\u001b[A\n",
            "loop param_grid:  10%|███▋                                 | 1/10 [00:00<00:03,  2.84it/s]\u001b[A\n",
            "loop param_grid:  20%|███████▍                             | 2/10 [00:00<00:02,  2.92it/s]\u001b[A\n",
            "loop param_grid:  30%|███████████                          | 3/10 [00:01<00:02,  2.76it/s]\u001b[A\n",
            "loop param_grid:  40%|██████████████▊                      | 4/10 [00:01<00:02,  2.82it/s]\u001b[A\n",
            "loop param_grid:  50%|██████████████████▌                  | 5/10 [00:01<00:01,  2.83it/s]\u001b[A\n",
            "loop param_grid:  60%|██████████████████████▏              | 6/10 [00:02<00:01,  2.81it/s]\u001b[A\n",
            "loop param_grid:  70%|█████████████████████████▉           | 7/10 [00:02<00:01,  2.84it/s]\u001b[A\n",
            "loop param_grid:  80%|█████████████████████████████▌       | 8/10 [00:02<00:00,  2.84it/s]\u001b[A\n",
            "loop param_grid:  90%|█████████████████████████████████▎   | 9/10 [00:03<00:00,  2.83it/s]\u001b[A\n",
            "loop param_grid: 100%|████████████████████████████████████| 10/10 [00:03<00:00,  2.84it/s]\u001b[A\n",
            "loop lags_grid:  67%|██████████████████████████             | 2/3 [00:07<00:03,  3.86s/it]\n",
            "loop param_grid:   0%|                                             | 0/10 [00:00<?, ?it/s]\u001b[A\n",
            "loop param_grid:  10%|███▋                                 | 1/10 [00:00<00:03,  2.56it/s]\u001b[A\n",
            "loop param_grid:  20%|███████▍                             | 2/10 [00:00<00:03,  2.58it/s]\u001b[A\n",
            "loop param_grid:  30%|███████████                          | 3/10 [00:01<00:02,  2.66it/s]\u001b[A\n",
            "loop param_grid:  40%|██████████████▊                      | 4/10 [00:01<00:02,  2.64it/s]\u001b[A\n",
            "loop param_grid:  50%|██████████████████▌                  | 5/10 [00:01<00:01,  2.72it/s]\u001b[A\n",
            "loop param_grid:  60%|██████████████████████▏              | 6/10 [00:02<00:01,  2.75it/s]\u001b[A\n",
            "loop param_grid:  70%|█████████████████████████▉           | 7/10 [00:02<00:01,  2.75it/s]\u001b[A\n",
            "loop param_grid:  80%|█████████████████████████████▌       | 8/10 [00:02<00:00,  2.79it/s]\u001b[A\n",
            "loop param_grid:  90%|█████████████████████████████████▎   | 9/10 [00:03<00:00,  2.78it/s]\u001b[A\n",
            "loop param_grid: 100%|████████████████████████████████████| 10/10 [00:03<00:00,  2.77it/s]\u001b[A\n",
            "loop lags_grid: 100%|███████████████████████████████████████| 3/3 [00:11<00:00,  3.84s/it]"
          ]
        },
        {
          "output_type": "stream",
          "name": "stdout",
          "text": [
            "`Forecaster` refitted using the best-found lags and parameters, and the whole data set: \n",
            "  Lags: [1 2 3 4 5] \n",
            "  Parameters: {'lasso__alpha': 46.41588833612782}\n",
            "  Backtesting metric: 54.23711373630963\n",
            "\n"
          ]
        },
        {
          "output_type": "stream",
          "name": "stderr",
          "text": [
            "\n"
          ]
        }
      ]
    },
    {
      "cell_type": "code",
      "source": [
        "results_grid.head()"
      ],
      "metadata": {
        "colab": {
          "base_uri": "https://localhost:8080/",
          "height": 206
        },
        "id": "ZCQlWA3mJYaM",
        "outputId": "9bc507bf-bfbf-4224-990b-c8b787771caf"
      },
      "execution_count": null,
      "outputs": [
        {
          "output_type": "execute_result",
          "data": {
            "text/plain": [
              "              lags                               params     metric  \\\n",
              "6  [1, 2, 3, 4, 5]  {'lasso__alpha': 46.41588833612782}  54.237114   \n",
              "7  [1, 2, 3, 4, 5]  {'lasso__alpha': 599.4842503189421}  54.237114   \n",
              "8  [1, 2, 3, 4, 5]  {'lasso__alpha': 7742.636826811277}  54.237114   \n",
              "9  [1, 2, 3, 4, 5]           {'lasso__alpha': 100000.0}  54.237114   \n",
              "5  [1, 2, 3, 4, 5]  {'lasso__alpha': 3.593813663804626}  54.241741   \n",
              "\n",
              "    lasso__alpha  \n",
              "6      46.415888  \n",
              "7     599.484250  \n",
              "8    7742.636827  \n",
              "9  100000.000000  \n",
              "5       3.593814  "
            ],
            "text/html": [
              "\n",
              "  <div id=\"df-7d209639-941f-4f95-9aee-fa7b07ccfd77\">\n",
              "    <div class=\"colab-df-container\">\n",
              "      <div>\n",
              "<style scoped>\n",
              "    .dataframe tbody tr th:only-of-type {\n",
              "        vertical-align: middle;\n",
              "    }\n",
              "\n",
              "    .dataframe tbody tr th {\n",
              "        vertical-align: top;\n",
              "    }\n",
              "\n",
              "    .dataframe thead th {\n",
              "        text-align: right;\n",
              "    }\n",
              "</style>\n",
              "<table border=\"1\" class=\"dataframe\">\n",
              "  <thead>\n",
              "    <tr style=\"text-align: right;\">\n",
              "      <th></th>\n",
              "      <th>lags</th>\n",
              "      <th>params</th>\n",
              "      <th>metric</th>\n",
              "      <th>lasso__alpha</th>\n",
              "    </tr>\n",
              "  </thead>\n",
              "  <tbody>\n",
              "    <tr>\n",
              "      <th>6</th>\n",
              "      <td>[1, 2, 3, 4, 5]</td>\n",
              "      <td>{'lasso__alpha': 46.41588833612782}</td>\n",
              "      <td>54.237114</td>\n",
              "      <td>46.415888</td>\n",
              "    </tr>\n",
              "    <tr>\n",
              "      <th>7</th>\n",
              "      <td>[1, 2, 3, 4, 5]</td>\n",
              "      <td>{'lasso__alpha': 599.4842503189421}</td>\n",
              "      <td>54.237114</td>\n",
              "      <td>599.484250</td>\n",
              "    </tr>\n",
              "    <tr>\n",
              "      <th>8</th>\n",
              "      <td>[1, 2, 3, 4, 5]</td>\n",
              "      <td>{'lasso__alpha': 7742.636826811277}</td>\n",
              "      <td>54.237114</td>\n",
              "      <td>7742.636827</td>\n",
              "    </tr>\n",
              "    <tr>\n",
              "      <th>9</th>\n",
              "      <td>[1, 2, 3, 4, 5]</td>\n",
              "      <td>{'lasso__alpha': 100000.0}</td>\n",
              "      <td>54.237114</td>\n",
              "      <td>100000.000000</td>\n",
              "    </tr>\n",
              "    <tr>\n",
              "      <th>5</th>\n",
              "      <td>[1, 2, 3, 4, 5]</td>\n",
              "      <td>{'lasso__alpha': 3.593813663804626}</td>\n",
              "      <td>54.241741</td>\n",
              "      <td>3.593814</td>\n",
              "    </tr>\n",
              "  </tbody>\n",
              "</table>\n",
              "</div>\n",
              "      <button class=\"colab-df-convert\" onclick=\"convertToInteractive('df-7d209639-941f-4f95-9aee-fa7b07ccfd77')\"\n",
              "              title=\"Convert this dataframe to an interactive table.\"\n",
              "              style=\"display:none;\">\n",
              "        \n",
              "  <svg xmlns=\"http://www.w3.org/2000/svg\" height=\"24px\"viewBox=\"0 0 24 24\"\n",
              "       width=\"24px\">\n",
              "    <path d=\"M0 0h24v24H0V0z\" fill=\"none\"/>\n",
              "    <path d=\"M18.56 5.44l.94 2.06.94-2.06 2.06-.94-2.06-.94-.94-2.06-.94 2.06-2.06.94zm-11 1L8.5 8.5l.94-2.06 2.06-.94-2.06-.94L8.5 2.5l-.94 2.06-2.06.94zm10 10l.94 2.06.94-2.06 2.06-.94-2.06-.94-.94-2.06-.94 2.06-2.06.94z\"/><path d=\"M17.41 7.96l-1.37-1.37c-.4-.4-.92-.59-1.43-.59-.52 0-1.04.2-1.43.59L10.3 9.45l-7.72 7.72c-.78.78-.78 2.05 0 2.83L4 21.41c.39.39.9.59 1.41.59.51 0 1.02-.2 1.41-.59l7.78-7.78 2.81-2.81c.8-.78.8-2.07 0-2.86zM5.41 20L4 18.59l7.72-7.72 1.47 1.35L5.41 20z\"/>\n",
              "  </svg>\n",
              "      </button>\n",
              "      \n",
              "  <style>\n",
              "    .colab-df-container {\n",
              "      display:flex;\n",
              "      flex-wrap:wrap;\n",
              "      gap: 12px;\n",
              "    }\n",
              "\n",
              "    .colab-df-convert {\n",
              "      background-color: #E8F0FE;\n",
              "      border: none;\n",
              "      border-radius: 50%;\n",
              "      cursor: pointer;\n",
              "      display: none;\n",
              "      fill: #1967D2;\n",
              "      height: 32px;\n",
              "      padding: 0 0 0 0;\n",
              "      width: 32px;\n",
              "    }\n",
              "\n",
              "    .colab-df-convert:hover {\n",
              "      background-color: #E2EBFA;\n",
              "      box-shadow: 0px 1px 2px rgba(60, 64, 67, 0.3), 0px 1px 3px 1px rgba(60, 64, 67, 0.15);\n",
              "      fill: #174EA6;\n",
              "    }\n",
              "\n",
              "    [theme=dark] .colab-df-convert {\n",
              "      background-color: #3B4455;\n",
              "      fill: #D2E3FC;\n",
              "    }\n",
              "\n",
              "    [theme=dark] .colab-df-convert:hover {\n",
              "      background-color: #434B5C;\n",
              "      box-shadow: 0px 1px 3px 1px rgba(0, 0, 0, 0.15);\n",
              "      filter: drop-shadow(0px 1px 2px rgba(0, 0, 0, 0.3));\n",
              "      fill: #FFFFFF;\n",
              "    }\n",
              "  </style>\n",
              "\n",
              "      <script>\n",
              "        const buttonEl =\n",
              "          document.querySelector('#df-7d209639-941f-4f95-9aee-fa7b07ccfd77 button.colab-df-convert');\n",
              "        buttonEl.style.display =\n",
              "          google.colab.kernel.accessAllowed ? 'block' : 'none';\n",
              "\n",
              "        async function convertToInteractive(key) {\n",
              "          const element = document.querySelector('#df-7d209639-941f-4f95-9aee-fa7b07ccfd77');\n",
              "          const dataTable =\n",
              "            await google.colab.kernel.invokeFunction('convertToInteractive',\n",
              "                                                     [key], {});\n",
              "          if (!dataTable) return;\n",
              "\n",
              "          const docLinkHtml = 'Like what you see? Visit the ' +\n",
              "            '<a target=\"_blank\" href=https://colab.research.google.com/notebooks/data_table.ipynb>data table notebook</a>'\n",
              "            + ' to learn more about interactive tables.';\n",
              "          element.innerHTML = '';\n",
              "          dataTable['output_type'] = 'display_data';\n",
              "          await google.colab.output.renderOutput(dataTable, element);\n",
              "          const docLink = document.createElement('div');\n",
              "          docLink.innerHTML = docLinkHtml;\n",
              "          element.appendChild(docLink);\n",
              "        }\n",
              "      </script>\n",
              "    </div>\n",
              "  </div>\n",
              "  "
            ]
          },
          "metadata": {},
          "execution_count": 70
        }
      ]
    },
    {
      "cell_type": "code",
      "source": [
        "# Predictions\n",
        "# ==============================================================================\n",
        "predictions = forecaster.predict()\n",
        "\n",
        "# Gráfico\n",
        "# ==============================================================================\n",
        "fig, ax = plt.subplots(figsize=(9, 4))\n",
        "data_train['Accurate'].plot(ax=ax, label='train')\n",
        "data_test['Accurate'].plot(ax=ax, label='test')\n",
        "predictions.plot(ax=ax, label='predictions')\n",
        "ax.legend();"
      ],
      "metadata": {
        "colab": {
          "base_uri": "https://localhost:8080/",
          "height": 265
        },
        "id": "fBqvrXFZJd9L",
        "outputId": "449052bc-5474-440f-b85a-ef0618fd9491"
      },
      "execution_count": null,
      "outputs": [
        {
          "output_type": "display_data",
          "data": {
            "text/plain": [
              "<Figure size 648x288 with 1 Axes>"
            ],
            "image/png": "[encoded data removed]"
          },
          "metadata": {
            "needs_background": "light"
          }
        }
      ]
    },
    {
      "cell_type": "code",
      "source": [
        "# Test error\n",
        "# ==============================================================================\n",
        "error_mse = mean_squared_error(y_true = data_test['Accurate'], y_pred = predictions)\n",
        "print(f\"Test error (mse) {error_mse}\")"
      ],
      "metadata": {
        "colab": {
          "base_uri": "https://localhost:8080/"
        },
        "id": "2ooBqZf8Jjn8",
        "outputId": "4abdabe3-d736-44fc-820a-fc7c227914fc"
      },
      "execution_count": null,
      "outputs": [
        {
          "output_type": "stream",
          "name": "stdout",
          "text": [
            "Test error (mse) 26.637723214285707\n"
          ]
        }
      ]
    },
    {
      "cell_type": "code",
      "source": [],
      "metadata": {
        "id": "ZSb0KScNJoCE"
      },
      "execution_count": null,
      "outputs": []
    }
  ]
}